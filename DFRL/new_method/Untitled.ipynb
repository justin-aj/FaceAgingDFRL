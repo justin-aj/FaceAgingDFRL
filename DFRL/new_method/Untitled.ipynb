{
 "cells": [
  {
   "cell_type": "code",
   "execution_count": 9,
   "id": "e53ca098-a52e-41f6-a557-ca4b5be1c29b",
   "metadata": {},
   "outputs": [
    {
     "name": "stdout",
     "output_type": "stream",
     "text": [
      "Warning: Looks like you're using an outdated `kagglehub` version, please consider updating (latest version: 0.3.11)\n",
      "Downloading from https://www.kaggle.com/api/v1/datasets/download/jangedoo/utkface-new?dataset_version_number=1...\n"
     ]
    },
    {
     "name": "stderr",
     "output_type": "stream",
     "text": [
      "100%|██████████| 331M/331M [00:03<00:00, 102MB/s]  "
     ]
    },
    {
     "name": "stdout",
     "output_type": "stream",
     "text": [
      "Extracting model files...\n"
     ]
    },
    {
     "name": "stderr",
     "output_type": "stream",
     "text": [
      "\n"
     ]
    },
    {
     "name": "stdout",
     "output_type": "stream",
     "text": [
      "Path to dataset files: /home/justin.aj/.cache/kagglehub/datasets/jangedoo/utkface-new/versions/1\n"
     ]
    }
   ],
   "source": [
    "import kagglehub\n",
    "\n",
    "# Download latest version\n",
    "path = kagglehub.dataset_download(\"jangedoo/utkface-new\")\n",
    "\n",
    "print(\"Path to dataset files:\", path)"
   ]
  },
  {
   "cell_type": "code",
   "execution_count": 26,
   "id": "637d4c6e-192f-48bd-a1fe-2f51283608dc",
   "metadata": {},
   "outputs": [
    {
     "name": "stdout",
     "output_type": "stream",
     "text": [
      "✅ Captions created!\n"
     ]
    }
   ],
   "source": [
    "import os\n",
    "\n",
    "# Folder where your images are (inside utkface_aligned_cropped)\n",
    "image_folder = os.path.join(dataset_path, \"utkface_aligned_cropped/UTKFace\")\n",
    "\n",
    "# New captions folder\n",
    "caption_folder = os.path.join(image_folder, \"captions\")\n",
    "os.makedirs(caption_folder, exist_ok=True)\n",
    "\n",
    "# Gender map\n",
    "gender_map = {\n",
    "    \"0\": \"male\",\n",
    "    \"1\": \"female\"\n",
    "}\n",
    "\n",
    "# Generate captions\n",
    "for file in os.listdir(image_folder):\n",
    "    if file.endswith(\".jpg\"):\n",
    "        parts = file.split(\"_\")\n",
    "        if len(parts) >= 3:\n",
    "            age = parts[0]\n",
    "            gender = gender_map.get(parts[1], \"person\")  # fallback to \"person\"\n",
    "            \n",
    "            caption = f\"photo of a {age} year old {gender}\"\n",
    "            \n",
    "            # Save caption\n",
    "            caption_path = os.path.join(caption_folder, file.replace(\".jpg.chip.jpg\", \".txt\").replace(\".jpg\", \".txt\"))\n",
    "            with open(caption_path, \"w\") as f:\n",
    "                f.write(caption)\n",
    "\n",
    "print(\"✅ Captions created!\")"
   ]
  },
  {
   "cell_type": "code",
   "execution_count": 12,
   "id": "35f1aa2a-1e3e-4636-9db2-b4d4a905a054",
   "metadata": {},
   "outputs": [
    {
     "data": {
      "application/vnd.jupyter.widget-view+json": {
       "model_id": "6d2c1f7101a14916be27083d62eafe06",
       "version_major": 2,
       "version_minor": 0
      },
      "text/plain": [
       "Fetching 15 files:   0%|          | 0/15 [00:00<?, ?it/s]"
      ]
     },
     "metadata": {},
     "output_type": "display_data"
    },
    {
     "data": {
      "application/vnd.jupyter.widget-view+json": {
       "model_id": "5f4f044d9863466f9d2d46dae86817bf",
       "version_major": 2,
       "version_minor": 0
      },
      "text/plain": [
       "config.json:   0%|          | 0.00/4.72k [00:00<?, ?B/s]"
      ]
     },
     "metadata": {},
     "output_type": "display_data"
    },
    {
     "data": {
      "application/vnd.jupyter.widget-view+json": {
       "model_id": "eebde99e8603471cb9d2186718d47f51",
       "version_major": 2,
       "version_minor": 0
      },
      "text/plain": [
       "model.safetensors:   0%|          | 0.00/1.22G [00:00<?, ?B/s]"
      ]
     },
     "metadata": {},
     "output_type": "display_data"
    },
    {
     "data": {
      "application/vnd.jupyter.widget-view+json": {
       "model_id": "22e62d2373ef459fa486336beae2d53e",
       "version_major": 2,
       "version_minor": 0
      },
      "text/plain": [
       "Loading pipeline components...:   0%|          | 0/7 [00:00<?, ?it/s]"
      ]
     },
     "metadata": {},
     "output_type": "display_data"
    }
   ],
   "source": [
    "pipe = StableDiffusionPipeline.from_pretrained(\n",
    "    \"runwayml/stable-diffusion-v1-5\",\n",
    "    torch_dtype=torch.float16,\n",
    "    safety_checker=None,\n",
    "    requires_safety_checker=False\n",
    ").to(\"cuda\")"
   ]
  },
  {
   "cell_type": "code",
   "execution_count": 16,
   "id": "3bdcc9a7-9006-4b39-8f30-489843725b0f",
   "metadata": {},
   "outputs": [],
   "source": [
    "from peft import get_peft_model, LoraConfig\n",
    "\n",
    "lora_config = LoraConfig(\n",
    "    r=8,\n",
    "    lora_alpha=32,\n",
    "    target_modules=[\"to_q\", \"to_k\", \"to_v\", \"proj_out\"],\n",
    "    lora_dropout=0.1,\n",
    "    bias=\"none\",\n",
    "    task_type=\"TEXT_TO_IMAGE\",\n",
    ")\n",
    "pipe.unet = get_peft_model(pipe.unet, lora_config)\n",
    "pipe.unet.print_trainable_parameters()"
   ]
  },
  {
   "cell_type": "code",
   "execution_count": 28,
   "id": "7d1907f9-4b5f-40e7-ac38-c29d7651b019",
   "metadata": {},
   "outputs": [],
   "source": [
    "from torch.utils.data import Dataset\n",
    "from torchvision import transforms\n",
    "from PIL import Image\n",
    "import os\n",
    "\n",
    "class UTKFaceDataset(Dataset):\n",
    "    def __init__(self, image_folder, caption_folder, transform=None):\n",
    "        self.image_folder = image_folder\n",
    "        self.caption_folder = caption_folder\n",
    "        self.transform = transform\n",
    "        \n",
    "        # List only .jpg images\n",
    "        self.image_files = [file for file in os.listdir(image_folder) if file.endswith(\".jpg\")]\n",
    "\n",
    "    def __len__(self):\n",
    "        return len(self.image_files)\n",
    "\n",
    "    def __getitem__(self, idx):\n",
    "        img_name = self.image_files[idx]\n",
    "        img_path = os.path.join(self.image_folder, img_name)\n",
    "        \n",
    "        # Load image\n",
    "        image = Image.open(img_path).convert(\"RGB\")\n",
    "        \n",
    "        # Apply transform if needed\n",
    "        if self.transform:\n",
    "            image = self.transform(image)\n",
    "        \n",
    "        # Find corresponding caption\n",
    "        caption_name = img_name.replace(\".jpg.chip.jpg\", \".txt\").replace(\".jpg\", \".txt\")\n",
    "        caption_path = os.path.join(self.caption_folder, caption_name)\n",
    "        \n",
    "        # Read caption text\n",
    "        with open(caption_path, \"r\") as f:\n",
    "            caption = f.read().strip()\n",
    "        \n",
    "        return image, caption"
   ]
  },
  {
   "cell_type": "code",
   "execution_count": 43,
   "id": "9d2cace1-24c9-44f5-8284-c03264c73d36",
   "metadata": {},
   "outputs": [],
   "source": [
    "train_dataset = UTKFaceDataset(image_folder, caption_folder)\n",
    "train_dataloader = DataLoader(\n",
    "    train_dataset,\n",
    "    batch_size=4,\n",
    "    shuffle=True,\n",
    "    num_workers=4,\n",
    "    pin_memory=True\n",
    ")"
   ]
  },
  {
   "cell_type": "code",
   "execution_count": 44,
   "id": "0eac8d77-f350-4f04-80fa-ede1a883a1c2",
   "metadata": {},
   "outputs": [
    {
     "data": {
      "application/vnd.jupyter.widget-view+json": {
       "model_id": "35fb97305ee343e3b9efa2c9cca3dde6",
       "version_major": 2,
       "version_minor": 0
      },
      "text/plain": [
       "  0%|          | 0/50 [00:00<?, ?it/s]"
      ]
     },
     "metadata": {},
     "output_type": "display_data"
    },
    {
     "name": "stderr",
     "output_type": "stream",
     "text": [
      "Potential NSFW content was detected in one or more images. A black image will be returned instead. Try again with a different prompt and/or seed.\n"
     ]
    },
    {
     "name": "stdout",
     "output_type": "stream",
     "text": [
      "Epoch [1/10], Loss: 0.3619\n"
     ]
    },
    {
     "data": {
      "application/vnd.jupyter.widget-view+json": {
       "model_id": "40d76f5c9f93438c93992e221f737c95",
       "version_major": 2,
       "version_minor": 0
      },
      "text/plain": [
       "  0%|          | 0/50 [00:00<?, ?it/s]"
      ]
     },
     "metadata": {},
     "output_type": "display_data"
    },
    {
     "name": "stderr",
     "output_type": "stream",
     "text": [
      "Potential NSFW content was detected in one or more images. A black image will be returned instead. Try again with a different prompt and/or seed.\n"
     ]
    },
    {
     "name": "stdout",
     "output_type": "stream",
     "text": [
      "Epoch [1/10], Loss: 0.4319\n"
     ]
    },
    {
     "data": {
      "application/vnd.jupyter.widget-view+json": {
       "model_id": "120fe1e2bbbd42cfa57ef5288c6dc68c",
       "version_major": 2,
       "version_minor": 0
      },
      "text/plain": [
       "  0%|          | 0/50 [00:00<?, ?it/s]"
      ]
     },
     "metadata": {},
     "output_type": "display_data"
    },
    {
     "name": "stderr",
     "output_type": "stream",
     "text": [
      "Potential NSFW content was detected in one or more images. A black image will be returned instead. Try again with a different prompt and/or seed.\n"
     ]
    },
    {
     "name": "stdout",
     "output_type": "stream",
     "text": [
      "Epoch [1/10], Loss: 0.4711\n"
     ]
    },
    {
     "data": {
      "application/vnd.jupyter.widget-view+json": {
       "model_id": "34f37bd879ad41a4a15ebc29c901d177",
       "version_major": 2,
       "version_minor": 0
      },
      "text/plain": [
       "  0%|          | 0/50 [00:00<?, ?it/s]"
      ]
     },
     "metadata": {},
     "output_type": "display_data"
    },
    {
     "name": "stderr",
     "output_type": "stream",
     "text": [
      "Potential NSFW content was detected in one or more images. A black image will be returned instead. Try again with a different prompt and/or seed.\n"
     ]
    },
    {
     "name": "stdout",
     "output_type": "stream",
     "text": [
      "Epoch [1/10], Loss: 0.4126\n"
     ]
    },
    {
     "data": {
      "application/vnd.jupyter.widget-view+json": {
       "model_id": "fc2075de64d24b888f10affeb8fc897b",
       "version_major": 2,
       "version_minor": 0
      },
      "text/plain": [
       "  0%|          | 0/50 [00:00<?, ?it/s]"
      ]
     },
     "metadata": {},
     "output_type": "display_data"
    },
    {
     "name": "stderr",
     "output_type": "stream",
     "text": [
      "Potential NSFW content was detected in one or more images. A black image will be returned instead. Try again with a different prompt and/or seed.\n"
     ]
    },
    {
     "name": "stdout",
     "output_type": "stream",
     "text": [
      "Epoch [1/10], Loss: 0.4388\n"
     ]
    },
    {
     "data": {
      "application/vnd.jupyter.widget-view+json": {
       "model_id": "ad90f136f6cc4606bd5cb856826a3045",
       "version_major": 2,
       "version_minor": 0
      },
      "text/plain": [
       "  0%|          | 0/50 [00:00<?, ?it/s]"
      ]
     },
     "metadata": {},
     "output_type": "display_data"
    },
    {
     "name": "stderr",
     "output_type": "stream",
     "text": [
      "Potential NSFW content was detected in one or more images. A black image will be returned instead. Try again with a different prompt and/or seed.\n"
     ]
    },
    {
     "name": "stdout",
     "output_type": "stream",
     "text": [
      "Epoch [1/10], Loss: 0.4334\n"
     ]
    },
    {
     "data": {
      "application/vnd.jupyter.widget-view+json": {
       "model_id": "55be72e39d4b452cada2295fe4280fef",
       "version_major": 2,
       "version_minor": 0
      },
      "text/plain": [
       "  0%|          | 0/50 [00:00<?, ?it/s]"
      ]
     },
     "metadata": {},
     "output_type": "display_data"
    },
    {
     "name": "stderr",
     "output_type": "stream",
     "text": [
      "Potential NSFW content was detected in one or more images. A black image will be returned instead. Try again with a different prompt and/or seed.\n"
     ]
    },
    {
     "name": "stdout",
     "output_type": "stream",
     "text": [
      "Epoch [1/10], Loss: 0.3807\n"
     ]
    },
    {
     "data": {
      "application/vnd.jupyter.widget-view+json": {
       "model_id": "55c9dcef44bb43439cbbcd6a37c0a89d",
       "version_major": 2,
       "version_minor": 0
      },
      "text/plain": [
       "  0%|          | 0/50 [00:00<?, ?it/s]"
      ]
     },
     "metadata": {},
     "output_type": "display_data"
    },
    {
     "name": "stderr",
     "output_type": "stream",
     "text": [
      "Potential NSFW content was detected in one or more images. A black image will be returned instead. Try again with a different prompt and/or seed.\n"
     ]
    },
    {
     "name": "stdout",
     "output_type": "stream",
     "text": [
      "Epoch [1/10], Loss: 0.4493\n"
     ]
    },
    {
     "data": {
      "application/vnd.jupyter.widget-view+json": {
       "model_id": "6568192522ec41d7bbfe757d38aa1732",
       "version_major": 2,
       "version_minor": 0
      },
      "text/plain": [
       "  0%|          | 0/50 [00:00<?, ?it/s]"
      ]
     },
     "metadata": {},
     "output_type": "display_data"
    },
    {
     "name": "stderr",
     "output_type": "stream",
     "text": [
      "Potential NSFW content was detected in one or more images. A black image will be returned instead. Try again with a different prompt and/or seed.\n"
     ]
    },
    {
     "name": "stdout",
     "output_type": "stream",
     "text": [
      "Epoch [1/10], Loss: 0.3765\n"
     ]
    },
    {
     "data": {
      "application/vnd.jupyter.widget-view+json": {
       "model_id": "2f558d5cf9e74603951e13ba3c69355c",
       "version_major": 2,
       "version_minor": 0
      },
      "text/plain": [
       "  0%|          | 0/50 [00:00<?, ?it/s]"
      ]
     },
     "metadata": {},
     "output_type": "display_data"
    },
    {
     "name": "stderr",
     "output_type": "stream",
     "text": [
      "Potential NSFW content was detected in one or more images. A black image will be returned instead. Try again with a different prompt and/or seed.\n"
     ]
    },
    {
     "name": "stdout",
     "output_type": "stream",
     "text": [
      "Epoch [1/10], Loss: 0.4807\n"
     ]
    },
    {
     "data": {
      "application/vnd.jupyter.widget-view+json": {
       "model_id": "e5c29d4552734f2782143dc4d9d60713",
       "version_major": 2,
       "version_minor": 0
      },
      "text/plain": [
       "  0%|          | 0/50 [00:00<?, ?it/s]"
      ]
     },
     "metadata": {},
     "output_type": "display_data"
    },
    {
     "name": "stderr",
     "output_type": "stream",
     "text": [
      "Potential NSFW content was detected in one or more images. A black image will be returned instead. Try again with a different prompt and/or seed.\n"
     ]
    },
    {
     "name": "stdout",
     "output_type": "stream",
     "text": [
      "Epoch [1/10], Loss: 0.4666\n"
     ]
    },
    {
     "data": {
      "application/vnd.jupyter.widget-view+json": {
       "model_id": "06fa00e4b81f473895d2593ab58379f0",
       "version_major": 2,
       "version_minor": 0
      },
      "text/plain": [
       "  0%|          | 0/50 [00:00<?, ?it/s]"
      ]
     },
     "metadata": {},
     "output_type": "display_data"
    },
    {
     "name": "stderr",
     "output_type": "stream",
     "text": [
      "Potential NSFW content was detected in one or more images. A black image will be returned instead. Try again with a different prompt and/or seed.\n"
     ]
    },
    {
     "name": "stdout",
     "output_type": "stream",
     "text": [
      "Epoch [1/10], Loss: 0.4405\n"
     ]
    },
    {
     "data": {
      "application/vnd.jupyter.widget-view+json": {
       "model_id": "be05a10039684fcc9b00f2c4923c8520",
       "version_major": 2,
       "version_minor": 0
      },
      "text/plain": [
       "  0%|          | 0/50 [00:00<?, ?it/s]"
      ]
     },
     "metadata": {},
     "output_type": "display_data"
    },
    {
     "name": "stderr",
     "output_type": "stream",
     "text": [
      "Potential NSFW content was detected in one or more images. A black image will be returned instead. Try again with a different prompt and/or seed.\n"
     ]
    },
    {
     "name": "stdout",
     "output_type": "stream",
     "text": [
      "Epoch [1/10], Loss: 0.4208\n"
     ]
    },
    {
     "data": {
      "application/vnd.jupyter.widget-view+json": {
       "model_id": "d21e88c951514d488893241a32354c2b",
       "version_major": 2,
       "version_minor": 0
      },
      "text/plain": [
       "  0%|          | 0/50 [00:00<?, ?it/s]"
      ]
     },
     "metadata": {},
     "output_type": "display_data"
    },
    {
     "name": "stderr",
     "output_type": "stream",
     "text": [
      "Potential NSFW content was detected in one or more images. A black image will be returned instead. Try again with a different prompt and/or seed.\n"
     ]
    },
    {
     "name": "stdout",
     "output_type": "stream",
     "text": [
      "Epoch [1/10], Loss: 0.4317\n"
     ]
    },
    {
     "data": {
      "application/vnd.jupyter.widget-view+json": {
       "model_id": "c452dc022dc84161ba57a64d2face7e7",
       "version_major": 2,
       "version_minor": 0
      },
      "text/plain": [
       "  0%|          | 0/50 [00:00<?, ?it/s]"
      ]
     },
     "metadata": {},
     "output_type": "display_data"
    },
    {
     "name": "stderr",
     "output_type": "stream",
     "text": [
      "Potential NSFW content was detected in one or more images. A black image will be returned instead. Try again with a different prompt and/or seed.\n"
     ]
    },
    {
     "name": "stdout",
     "output_type": "stream",
     "text": [
      "Epoch [1/10], Loss: 0.3891\n"
     ]
    },
    {
     "data": {
      "application/vnd.jupyter.widget-view+json": {
       "model_id": "63fdf830e1fa42c6bcffbb17860b9f0d",
       "version_major": 2,
       "version_minor": 0
      },
      "text/plain": [
       "  0%|          | 0/50 [00:00<?, ?it/s]"
      ]
     },
     "metadata": {},
     "output_type": "display_data"
    },
    {
     "name": "stderr",
     "output_type": "stream",
     "text": [
      "Potential NSFW content was detected in one or more images. A black image will be returned instead. Try again with a different prompt and/or seed.\n"
     ]
    },
    {
     "name": "stdout",
     "output_type": "stream",
     "text": [
      "Epoch [1/10], Loss: 0.3683\n"
     ]
    },
    {
     "data": {
      "application/vnd.jupyter.widget-view+json": {
       "model_id": "301d30b5c01e497288a50e8e15f01f66",
       "version_major": 2,
       "version_minor": 0
      },
      "text/plain": [
       "  0%|          | 0/50 [00:00<?, ?it/s]"
      ]
     },
     "metadata": {},
     "output_type": "display_data"
    },
    {
     "name": "stderr",
     "output_type": "stream",
     "text": [
      "Potential NSFW content was detected in one or more images. A black image will be returned instead. Try again with a different prompt and/or seed.\n"
     ]
    },
    {
     "name": "stdout",
     "output_type": "stream",
     "text": [
      "Epoch [1/10], Loss: 0.4154\n"
     ]
    },
    {
     "data": {
      "application/vnd.jupyter.widget-view+json": {
       "model_id": "8f508d78955c4aa4805cc46506480fc3",
       "version_major": 2,
       "version_minor": 0
      },
      "text/plain": [
       "  0%|          | 0/50 [00:00<?, ?it/s]"
      ]
     },
     "metadata": {},
     "output_type": "display_data"
    },
    {
     "name": "stderr",
     "output_type": "stream",
     "text": [
      "Potential NSFW content was detected in one or more images. A black image will be returned instead. Try again with a different prompt and/or seed.\n"
     ]
    },
    {
     "name": "stdout",
     "output_type": "stream",
     "text": [
      "Epoch [1/10], Loss: 0.3948\n"
     ]
    },
    {
     "data": {
      "application/vnd.jupyter.widget-view+json": {
       "model_id": "b8be8b780b14419787e5ca89ec4eaff8",
       "version_major": 2,
       "version_minor": 0
      },
      "text/plain": [
       "  0%|          | 0/50 [00:00<?, ?it/s]"
      ]
     },
     "metadata": {},
     "output_type": "display_data"
    },
    {
     "name": "stderr",
     "output_type": "stream",
     "text": [
      "Potential NSFW content was detected in one or more images. A black image will be returned instead. Try again with a different prompt and/or seed.\n"
     ]
    },
    {
     "name": "stdout",
     "output_type": "stream",
     "text": [
      "Epoch [1/10], Loss: 0.4465\n"
     ]
    },
    {
     "data": {
      "application/vnd.jupyter.widget-view+json": {
       "model_id": "cb255f188ee74004bc9fff96bb965bf6",
       "version_major": 2,
       "version_minor": 0
      },
      "text/plain": [
       "  0%|          | 0/50 [00:00<?, ?it/s]"
      ]
     },
     "metadata": {},
     "output_type": "display_data"
    },
    {
     "name": "stderr",
     "output_type": "stream",
     "text": [
      "Potential NSFW content was detected in one or more images. A black image will be returned instead. Try again with a different prompt and/or seed.\n"
     ]
    },
    {
     "name": "stdout",
     "output_type": "stream",
     "text": [
      "Epoch [1/10], Loss: 0.3714\n"
     ]
    },
    {
     "data": {
      "application/vnd.jupyter.widget-view+json": {
       "model_id": "9ab99a4920c34da18f9b0724957f2198",
       "version_major": 2,
       "version_minor": 0
      },
      "text/plain": [
       "  0%|          | 0/50 [00:00<?, ?it/s]"
      ]
     },
     "metadata": {},
     "output_type": "display_data"
    },
    {
     "name": "stderr",
     "output_type": "stream",
     "text": [
      "Potential NSFW content was detected in one or more images. A black image will be returned instead. Try again with a different prompt and/or seed.\n"
     ]
    },
    {
     "name": "stdout",
     "output_type": "stream",
     "text": [
      "Epoch [1/10], Loss: 0.4174\n"
     ]
    },
    {
     "data": {
      "application/vnd.jupyter.widget-view+json": {
       "model_id": "0d209d29f9cf452e91f5459b8f879119",
       "version_major": 2,
       "version_minor": 0
      },
      "text/plain": [
       "  0%|          | 0/50 [00:00<?, ?it/s]"
      ]
     },
     "metadata": {},
     "output_type": "display_data"
    },
    {
     "name": "stderr",
     "output_type": "stream",
     "text": [
      "Potential NSFW content was detected in one or more images. A black image will be returned instead. Try again with a different prompt and/or seed.\n"
     ]
    },
    {
     "name": "stdout",
     "output_type": "stream",
     "text": [
      "Epoch [1/10], Loss: 0.4207\n"
     ]
    },
    {
     "data": {
      "application/vnd.jupyter.widget-view+json": {
       "model_id": "a3e27c11d7a648d9b6e5a3a7094f5e27",
       "version_major": 2,
       "version_minor": 0
      },
      "text/plain": [
       "  0%|          | 0/50 [00:00<?, ?it/s]"
      ]
     },
     "metadata": {},
     "output_type": "display_data"
    },
    {
     "name": "stderr",
     "output_type": "stream",
     "text": [
      "Potential NSFW content was detected in one or more images. A black image will be returned instead. Try again with a different prompt and/or seed.\n"
     ]
    },
    {
     "name": "stdout",
     "output_type": "stream",
     "text": [
      "Epoch [1/10], Loss: 0.4133\n"
     ]
    },
    {
     "data": {
      "application/vnd.jupyter.widget-view+json": {
       "model_id": "3f531f2150a34b83b17d0f17d88bcb78",
       "version_major": 2,
       "version_minor": 0
      },
      "text/plain": [
       "  0%|          | 0/50 [00:00<?, ?it/s]"
      ]
     },
     "metadata": {},
     "output_type": "display_data"
    },
    {
     "name": "stderr",
     "output_type": "stream",
     "text": [
      "Potential NSFW content was detected in one or more images. A black image will be returned instead. Try again with a different prompt and/or seed.\n"
     ]
    },
    {
     "name": "stdout",
     "output_type": "stream",
     "text": [
      "Epoch [1/10], Loss: 0.4919\n"
     ]
    },
    {
     "data": {
      "application/vnd.jupyter.widget-view+json": {
       "model_id": "f595f4cc7977466f987db8bd9da43502",
       "version_major": 2,
       "version_minor": 0
      },
      "text/plain": [
       "  0%|          | 0/50 [00:00<?, ?it/s]"
      ]
     },
     "metadata": {},
     "output_type": "display_data"
    },
    {
     "name": "stderr",
     "output_type": "stream",
     "text": [
      "Potential NSFW content was detected in one or more images. A black image will be returned instead. Try again with a different prompt and/or seed.\n"
     ]
    },
    {
     "name": "stdout",
     "output_type": "stream",
     "text": [
      "Epoch [1/10], Loss: 0.3867\n"
     ]
    },
    {
     "data": {
      "application/vnd.jupyter.widget-view+json": {
       "model_id": "c9e910ec6ffc43e1aae84fc12d4b0819",
       "version_major": 2,
       "version_minor": 0
      },
      "text/plain": [
       "  0%|          | 0/50 [00:00<?, ?it/s]"
      ]
     },
     "metadata": {},
     "output_type": "display_data"
    },
    {
     "name": "stderr",
     "output_type": "stream",
     "text": [
      "Potential NSFW content was detected in one or more images. A black image will be returned instead. Try again with a different prompt and/or seed.\n"
     ]
    },
    {
     "name": "stdout",
     "output_type": "stream",
     "text": [
      "Epoch [1/10], Loss: 0.3701\n"
     ]
    },
    {
     "data": {
      "application/vnd.jupyter.widget-view+json": {
       "model_id": "44da656ae58746edb6439662c60a92bb",
       "version_major": 2,
       "version_minor": 0
      },
      "text/plain": [
       "  0%|          | 0/50 [00:00<?, ?it/s]"
      ]
     },
     "metadata": {},
     "output_type": "display_data"
    },
    {
     "name": "stderr",
     "output_type": "stream",
     "text": [
      "Potential NSFW content was detected in one or more images. A black image will be returned instead. Try again with a different prompt and/or seed.\n"
     ]
    },
    {
     "name": "stdout",
     "output_type": "stream",
     "text": [
      "Epoch [1/10], Loss: 0.4234\n"
     ]
    },
    {
     "data": {
      "application/vnd.jupyter.widget-view+json": {
       "model_id": "36f2894c4d6245dbbacb63ad6073f3ae",
       "version_major": 2,
       "version_minor": 0
      },
      "text/plain": [
       "  0%|          | 0/50 [00:00<?, ?it/s]"
      ]
     },
     "metadata": {},
     "output_type": "display_data"
    },
    {
     "name": "stderr",
     "output_type": "stream",
     "text": [
      "Potential NSFW content was detected in one or more images. A black image will be returned instead. Try again with a different prompt and/or seed.\n"
     ]
    },
    {
     "name": "stdout",
     "output_type": "stream",
     "text": [
      "Epoch [1/10], Loss: 0.4133\n"
     ]
    },
    {
     "data": {
      "application/vnd.jupyter.widget-view+json": {
       "model_id": "c78548bf69ec423abb709f25bae681d1",
       "version_major": 2,
       "version_minor": 0
      },
      "text/plain": [
       "  0%|          | 0/50 [00:00<?, ?it/s]"
      ]
     },
     "metadata": {},
     "output_type": "display_data"
    },
    {
     "ename": "KeyboardInterrupt",
     "evalue": "",
     "output_type": "error",
     "traceback": [
      "\u001b[0;31m---------------------------------------------------------------------------\u001b[0m",
      "\u001b[0;31mKeyboardInterrupt\u001b[0m                         Traceback (most recent call last)",
      "\u001b[0;32m<ipython-input-44-14efb11c120e>\u001b[0m in \u001b[0;36m<module>\u001b[0;34m\u001b[0m\n\u001b[1;32m     25\u001b[0m \u001b[0;34m\u001b[0m\u001b[0m\n\u001b[1;32m     26\u001b[0m         \u001b[0;31m# Forward pass through the model\u001b[0m\u001b[0;34m\u001b[0m\u001b[0;34m\u001b[0m\u001b[0;34m\u001b[0m\u001b[0m\n\u001b[0;32m---> 27\u001b[0;31m         \u001b[0moutputs\u001b[0m \u001b[0;34m=\u001b[0m \u001b[0mpipe\u001b[0m\u001b[0;34m(\u001b[0m\u001b[0mprompt_embeds\u001b[0m\u001b[0;34m=\u001b[0m\u001b[0mprompt_embeds\u001b[0m\u001b[0;34m)\u001b[0m\u001b[0;34m.\u001b[0m\u001b[0mimages\u001b[0m  \u001b[0;31m# generated images\u001b[0m\u001b[0;34m\u001b[0m\u001b[0;34m\u001b[0m\u001b[0m\n\u001b[0m\u001b[1;32m     28\u001b[0m \u001b[0;34m\u001b[0m\u001b[0m\n\u001b[1;32m     29\u001b[0m         \u001b[0;31m# If outputs are a list of PIL images, convert them to tensors\u001b[0m\u001b[0;34m\u001b[0m\u001b[0;34m\u001b[0m\u001b[0;34m\u001b[0m\u001b[0m\n",
      "\u001b[0;32m~/.local/lib/python3.8/site-packages/torch/utils/_contextlib.py\u001b[0m in \u001b[0;36mdecorate_context\u001b[0;34m(*args, **kwargs)\u001b[0m\n\u001b[1;32m    114\u001b[0m     \u001b[0;32mdef\u001b[0m \u001b[0mdecorate_context\u001b[0m\u001b[0;34m(\u001b[0m\u001b[0;34m*\u001b[0m\u001b[0margs\u001b[0m\u001b[0;34m,\u001b[0m \u001b[0;34m**\u001b[0m\u001b[0mkwargs\u001b[0m\u001b[0;34m)\u001b[0m\u001b[0;34m:\u001b[0m\u001b[0;34m\u001b[0m\u001b[0;34m\u001b[0m\u001b[0m\n\u001b[1;32m    115\u001b[0m         \u001b[0;32mwith\u001b[0m \u001b[0mctx_factory\u001b[0m\u001b[0;34m(\u001b[0m\u001b[0;34m)\u001b[0m\u001b[0;34m:\u001b[0m\u001b[0;34m\u001b[0m\u001b[0;34m\u001b[0m\u001b[0m\n\u001b[0;32m--> 116\u001b[0;31m             \u001b[0;32mreturn\u001b[0m \u001b[0mfunc\u001b[0m\u001b[0;34m(\u001b[0m\u001b[0;34m*\u001b[0m\u001b[0margs\u001b[0m\u001b[0;34m,\u001b[0m \u001b[0;34m**\u001b[0m\u001b[0mkwargs\u001b[0m\u001b[0;34m)\u001b[0m\u001b[0;34m\u001b[0m\u001b[0;34m\u001b[0m\u001b[0m\n\u001b[0m\u001b[1;32m    117\u001b[0m \u001b[0;34m\u001b[0m\u001b[0m\n\u001b[1;32m    118\u001b[0m     \u001b[0;32mreturn\u001b[0m \u001b[0mdecorate_context\u001b[0m\u001b[0;34m\u001b[0m\u001b[0;34m\u001b[0m\u001b[0m\n",
      "\u001b[0;32m~/.local/lib/python3.8/site-packages/diffusers/pipelines/stable_diffusion/pipeline_stable_diffusion.py\u001b[0m in \u001b[0;36m__call__\u001b[0;34m(self, prompt, height, width, num_inference_steps, timesteps, sigmas, guidance_scale, negative_prompt, num_images_per_prompt, eta, generator, latents, prompt_embeds, negative_prompt_embeds, ip_adapter_image, ip_adapter_image_embeds, output_type, return_dict, cross_attention_kwargs, guidance_rescale, clip_skip, callback_on_step_end, callback_on_step_end_tensor_inputs, **kwargs)\u001b[0m\n\u001b[1;32m   1038\u001b[0m \u001b[0;34m\u001b[0m\u001b[0m\n\u001b[1;32m   1039\u001b[0m                 \u001b[0;31m# predict the noise residual\u001b[0m\u001b[0;34m\u001b[0m\u001b[0;34m\u001b[0m\u001b[0;34m\u001b[0m\u001b[0m\n\u001b[0;32m-> 1040\u001b[0;31m                 noise_pred = self.unet(\n\u001b[0m\u001b[1;32m   1041\u001b[0m                     \u001b[0mlatent_model_input\u001b[0m\u001b[0;34m,\u001b[0m\u001b[0;34m\u001b[0m\u001b[0;34m\u001b[0m\u001b[0m\n\u001b[1;32m   1042\u001b[0m                     \u001b[0mt\u001b[0m\u001b[0;34m,\u001b[0m\u001b[0;34m\u001b[0m\u001b[0;34m\u001b[0m\u001b[0m\n",
      "\u001b[0;32m~/.local/lib/python3.8/site-packages/torch/nn/modules/module.py\u001b[0m in \u001b[0;36m_wrapped_call_impl\u001b[0;34m(self, *args, **kwargs)\u001b[0m\n\u001b[1;32m   1551\u001b[0m             \u001b[0;32mreturn\u001b[0m \u001b[0mself\u001b[0m\u001b[0;34m.\u001b[0m\u001b[0m_compiled_call_impl\u001b[0m\u001b[0;34m(\u001b[0m\u001b[0;34m*\u001b[0m\u001b[0margs\u001b[0m\u001b[0;34m,\u001b[0m \u001b[0;34m**\u001b[0m\u001b[0mkwargs\u001b[0m\u001b[0;34m)\u001b[0m  \u001b[0;31m# type: ignore[misc]\u001b[0m\u001b[0;34m\u001b[0m\u001b[0;34m\u001b[0m\u001b[0m\n\u001b[1;32m   1552\u001b[0m         \u001b[0;32melse\u001b[0m\u001b[0;34m:\u001b[0m\u001b[0;34m\u001b[0m\u001b[0;34m\u001b[0m\u001b[0m\n\u001b[0;32m-> 1553\u001b[0;31m             \u001b[0;32mreturn\u001b[0m \u001b[0mself\u001b[0m\u001b[0;34m.\u001b[0m\u001b[0m_call_impl\u001b[0m\u001b[0;34m(\u001b[0m\u001b[0;34m*\u001b[0m\u001b[0margs\u001b[0m\u001b[0;34m,\u001b[0m \u001b[0;34m**\u001b[0m\u001b[0mkwargs\u001b[0m\u001b[0;34m)\u001b[0m\u001b[0;34m\u001b[0m\u001b[0;34m\u001b[0m\u001b[0m\n\u001b[0m\u001b[1;32m   1554\u001b[0m \u001b[0;34m\u001b[0m\u001b[0m\n\u001b[1;32m   1555\u001b[0m     \u001b[0;32mdef\u001b[0m \u001b[0m_call_impl\u001b[0m\u001b[0;34m(\u001b[0m\u001b[0mself\u001b[0m\u001b[0;34m,\u001b[0m \u001b[0;34m*\u001b[0m\u001b[0margs\u001b[0m\u001b[0;34m,\u001b[0m \u001b[0;34m**\u001b[0m\u001b[0mkwargs\u001b[0m\u001b[0;34m)\u001b[0m\u001b[0;34m:\u001b[0m\u001b[0;34m\u001b[0m\u001b[0;34m\u001b[0m\u001b[0m\n",
      "\u001b[0;32m~/.local/lib/python3.8/site-packages/torch/nn/modules/module.py\u001b[0m in \u001b[0;36m_call_impl\u001b[0;34m(self, *args, **kwargs)\u001b[0m\n\u001b[1;32m   1560\u001b[0m                 \u001b[0;32mor\u001b[0m \u001b[0m_global_backward_pre_hooks\u001b[0m \u001b[0;32mor\u001b[0m \u001b[0m_global_backward_hooks\u001b[0m\u001b[0;34m\u001b[0m\u001b[0;34m\u001b[0m\u001b[0m\n\u001b[1;32m   1561\u001b[0m                 or _global_forward_hooks or _global_forward_pre_hooks):\n\u001b[0;32m-> 1562\u001b[0;31m             \u001b[0;32mreturn\u001b[0m \u001b[0mforward_call\u001b[0m\u001b[0;34m(\u001b[0m\u001b[0;34m*\u001b[0m\u001b[0margs\u001b[0m\u001b[0;34m,\u001b[0m \u001b[0;34m**\u001b[0m\u001b[0mkwargs\u001b[0m\u001b[0;34m)\u001b[0m\u001b[0;34m\u001b[0m\u001b[0;34m\u001b[0m\u001b[0m\n\u001b[0m\u001b[1;32m   1563\u001b[0m \u001b[0;34m\u001b[0m\u001b[0m\n\u001b[1;32m   1564\u001b[0m         \u001b[0;32mtry\u001b[0m\u001b[0;34m:\u001b[0m\u001b[0;34m\u001b[0m\u001b[0;34m\u001b[0m\u001b[0m\n",
      "\u001b[0;32m~/.local/lib/python3.8/site-packages/peft/peft_model.py\u001b[0m in \u001b[0;36mforward\u001b[0;34m(self, *args, **kwargs)\u001b[0m\n\u001b[1;32m    810\u001b[0m         \u001b[0;32mwith\u001b[0m \u001b[0mself\u001b[0m\u001b[0;34m.\u001b[0m\u001b[0m_enable_peft_forward_hooks\u001b[0m\u001b[0;34m(\u001b[0m\u001b[0;34m*\u001b[0m\u001b[0margs\u001b[0m\u001b[0;34m,\u001b[0m \u001b[0;34m**\u001b[0m\u001b[0mkwargs\u001b[0m\u001b[0;34m)\u001b[0m\u001b[0;34m:\u001b[0m\u001b[0;34m\u001b[0m\u001b[0;34m\u001b[0m\u001b[0m\n\u001b[1;32m    811\u001b[0m             \u001b[0mkwargs\u001b[0m \u001b[0;34m=\u001b[0m \u001b[0;34m{\u001b[0m\u001b[0mk\u001b[0m\u001b[0;34m:\u001b[0m \u001b[0mv\u001b[0m \u001b[0;32mfor\u001b[0m \u001b[0mk\u001b[0m\u001b[0;34m,\u001b[0m \u001b[0mv\u001b[0m \u001b[0;32min\u001b[0m \u001b[0mkwargs\u001b[0m\u001b[0;34m.\u001b[0m\u001b[0mitems\u001b[0m\u001b[0;34m(\u001b[0m\u001b[0;34m)\u001b[0m \u001b[0;32mif\u001b[0m \u001b[0mk\u001b[0m \u001b[0;32mnot\u001b[0m \u001b[0;32min\u001b[0m \u001b[0mself\u001b[0m\u001b[0;34m.\u001b[0m\u001b[0mspecial_peft_forward_args\u001b[0m\u001b[0;34m}\u001b[0m\u001b[0;34m\u001b[0m\u001b[0;34m\u001b[0m\u001b[0m\n\u001b[0;32m--> 812\u001b[0;31m             \u001b[0;32mreturn\u001b[0m \u001b[0mself\u001b[0m\u001b[0;34m.\u001b[0m\u001b[0mget_base_model\u001b[0m\u001b[0;34m(\u001b[0m\u001b[0;34m)\u001b[0m\u001b[0;34m(\u001b[0m\u001b[0;34m*\u001b[0m\u001b[0margs\u001b[0m\u001b[0;34m,\u001b[0m \u001b[0;34m**\u001b[0m\u001b[0mkwargs\u001b[0m\u001b[0;34m)\u001b[0m\u001b[0;34m\u001b[0m\u001b[0;34m\u001b[0m\u001b[0m\n\u001b[0m\u001b[1;32m    813\u001b[0m \u001b[0;34m\u001b[0m\u001b[0m\n\u001b[1;32m    814\u001b[0m     \u001b[0;32mdef\u001b[0m \u001b[0mgenerate\u001b[0m\u001b[0;34m(\u001b[0m\u001b[0mself\u001b[0m\u001b[0;34m,\u001b[0m \u001b[0;34m*\u001b[0m\u001b[0margs\u001b[0m\u001b[0;34m,\u001b[0m \u001b[0;34m**\u001b[0m\u001b[0mkwargs\u001b[0m\u001b[0;34m)\u001b[0m\u001b[0;34m:\u001b[0m\u001b[0;34m\u001b[0m\u001b[0;34m\u001b[0m\u001b[0m\n",
      "\u001b[0;32m~/.local/lib/python3.8/site-packages/torch/nn/modules/module.py\u001b[0m in \u001b[0;36m_wrapped_call_impl\u001b[0;34m(self, *args, **kwargs)\u001b[0m\n\u001b[1;32m   1551\u001b[0m             \u001b[0;32mreturn\u001b[0m \u001b[0mself\u001b[0m\u001b[0;34m.\u001b[0m\u001b[0m_compiled_call_impl\u001b[0m\u001b[0;34m(\u001b[0m\u001b[0;34m*\u001b[0m\u001b[0margs\u001b[0m\u001b[0;34m,\u001b[0m \u001b[0;34m**\u001b[0m\u001b[0mkwargs\u001b[0m\u001b[0;34m)\u001b[0m  \u001b[0;31m# type: ignore[misc]\u001b[0m\u001b[0;34m\u001b[0m\u001b[0;34m\u001b[0m\u001b[0m\n\u001b[1;32m   1552\u001b[0m         \u001b[0;32melse\u001b[0m\u001b[0;34m:\u001b[0m\u001b[0;34m\u001b[0m\u001b[0;34m\u001b[0m\u001b[0m\n\u001b[0;32m-> 1553\u001b[0;31m             \u001b[0;32mreturn\u001b[0m \u001b[0mself\u001b[0m\u001b[0;34m.\u001b[0m\u001b[0m_call_impl\u001b[0m\u001b[0;34m(\u001b[0m\u001b[0;34m*\u001b[0m\u001b[0margs\u001b[0m\u001b[0;34m,\u001b[0m \u001b[0;34m**\u001b[0m\u001b[0mkwargs\u001b[0m\u001b[0;34m)\u001b[0m\u001b[0;34m\u001b[0m\u001b[0;34m\u001b[0m\u001b[0m\n\u001b[0m\u001b[1;32m   1554\u001b[0m \u001b[0;34m\u001b[0m\u001b[0m\n\u001b[1;32m   1555\u001b[0m     \u001b[0;32mdef\u001b[0m \u001b[0m_call_impl\u001b[0m\u001b[0;34m(\u001b[0m\u001b[0mself\u001b[0m\u001b[0;34m,\u001b[0m \u001b[0;34m*\u001b[0m\u001b[0margs\u001b[0m\u001b[0;34m,\u001b[0m \u001b[0;34m**\u001b[0m\u001b[0mkwargs\u001b[0m\u001b[0;34m)\u001b[0m\u001b[0;34m:\u001b[0m\u001b[0;34m\u001b[0m\u001b[0;34m\u001b[0m\u001b[0m\n",
      "\u001b[0;32m~/.local/lib/python3.8/site-packages/torch/nn/modules/module.py\u001b[0m in \u001b[0;36m_call_impl\u001b[0;34m(self, *args, **kwargs)\u001b[0m\n\u001b[1;32m   1560\u001b[0m                 \u001b[0;32mor\u001b[0m \u001b[0m_global_backward_pre_hooks\u001b[0m \u001b[0;32mor\u001b[0m \u001b[0m_global_backward_hooks\u001b[0m\u001b[0;34m\u001b[0m\u001b[0;34m\u001b[0m\u001b[0m\n\u001b[1;32m   1561\u001b[0m                 or _global_forward_hooks or _global_forward_pre_hooks):\n\u001b[0;32m-> 1562\u001b[0;31m             \u001b[0;32mreturn\u001b[0m \u001b[0mforward_call\u001b[0m\u001b[0;34m(\u001b[0m\u001b[0;34m*\u001b[0m\u001b[0margs\u001b[0m\u001b[0;34m,\u001b[0m \u001b[0;34m**\u001b[0m\u001b[0mkwargs\u001b[0m\u001b[0;34m)\u001b[0m\u001b[0;34m\u001b[0m\u001b[0;34m\u001b[0m\u001b[0m\n\u001b[0m\u001b[1;32m   1563\u001b[0m \u001b[0;34m\u001b[0m\u001b[0m\n\u001b[1;32m   1564\u001b[0m         \u001b[0;32mtry\u001b[0m\u001b[0;34m:\u001b[0m\u001b[0;34m\u001b[0m\u001b[0;34m\u001b[0m\u001b[0m\n",
      "\u001b[0;32m~/.local/lib/python3.8/site-packages/diffusers/models/unets/unet_2d_condition.py\u001b[0m in \u001b[0;36mforward\u001b[0;34m(self, sample, timestep, encoder_hidden_states, class_labels, timestep_cond, attention_mask, cross_attention_kwargs, added_cond_kwargs, down_block_additional_residuals, mid_block_additional_residual, down_intrablock_additional_residuals, encoder_attention_mask, return_dict)\u001b[0m\n\u001b[1;32m   1277\u001b[0m \u001b[0;34m\u001b[0m\u001b[0m\n\u001b[1;32m   1278\u001b[0m             \u001b[0;32mif\u001b[0m \u001b[0mhasattr\u001b[0m\u001b[0;34m(\u001b[0m\u001b[0mupsample_block\u001b[0m\u001b[0;34m,\u001b[0m \u001b[0;34m\"has_cross_attention\"\u001b[0m\u001b[0;34m)\u001b[0m \u001b[0;32mand\u001b[0m \u001b[0mupsample_block\u001b[0m\u001b[0;34m.\u001b[0m\u001b[0mhas_cross_attention\u001b[0m\u001b[0;34m:\u001b[0m\u001b[0;34m\u001b[0m\u001b[0;34m\u001b[0m\u001b[0m\n\u001b[0;32m-> 1279\u001b[0;31m                 sample = upsample_block(\n\u001b[0m\u001b[1;32m   1280\u001b[0m                     \u001b[0mhidden_states\u001b[0m\u001b[0;34m=\u001b[0m\u001b[0msample\u001b[0m\u001b[0;34m,\u001b[0m\u001b[0;34m\u001b[0m\u001b[0;34m\u001b[0m\u001b[0m\n\u001b[1;32m   1281\u001b[0m                     \u001b[0mtemb\u001b[0m\u001b[0;34m=\u001b[0m\u001b[0memb\u001b[0m\u001b[0;34m,\u001b[0m\u001b[0;34m\u001b[0m\u001b[0;34m\u001b[0m\u001b[0m\n",
      "\u001b[0;32m~/.local/lib/python3.8/site-packages/torch/nn/modules/module.py\u001b[0m in \u001b[0;36m_wrapped_call_impl\u001b[0;34m(self, *args, **kwargs)\u001b[0m\n\u001b[1;32m   1551\u001b[0m             \u001b[0;32mreturn\u001b[0m \u001b[0mself\u001b[0m\u001b[0;34m.\u001b[0m\u001b[0m_compiled_call_impl\u001b[0m\u001b[0;34m(\u001b[0m\u001b[0;34m*\u001b[0m\u001b[0margs\u001b[0m\u001b[0;34m,\u001b[0m \u001b[0;34m**\u001b[0m\u001b[0mkwargs\u001b[0m\u001b[0;34m)\u001b[0m  \u001b[0;31m# type: ignore[misc]\u001b[0m\u001b[0;34m\u001b[0m\u001b[0;34m\u001b[0m\u001b[0m\n\u001b[1;32m   1552\u001b[0m         \u001b[0;32melse\u001b[0m\u001b[0;34m:\u001b[0m\u001b[0;34m\u001b[0m\u001b[0;34m\u001b[0m\u001b[0m\n\u001b[0;32m-> 1553\u001b[0;31m             \u001b[0;32mreturn\u001b[0m \u001b[0mself\u001b[0m\u001b[0;34m.\u001b[0m\u001b[0m_call_impl\u001b[0m\u001b[0;34m(\u001b[0m\u001b[0;34m*\u001b[0m\u001b[0margs\u001b[0m\u001b[0;34m,\u001b[0m \u001b[0;34m**\u001b[0m\u001b[0mkwargs\u001b[0m\u001b[0;34m)\u001b[0m\u001b[0;34m\u001b[0m\u001b[0;34m\u001b[0m\u001b[0m\n\u001b[0m\u001b[1;32m   1554\u001b[0m \u001b[0;34m\u001b[0m\u001b[0m\n\u001b[1;32m   1555\u001b[0m     \u001b[0;32mdef\u001b[0m \u001b[0m_call_impl\u001b[0m\u001b[0;34m(\u001b[0m\u001b[0mself\u001b[0m\u001b[0;34m,\u001b[0m \u001b[0;34m*\u001b[0m\u001b[0margs\u001b[0m\u001b[0;34m,\u001b[0m \u001b[0;34m**\u001b[0m\u001b[0mkwargs\u001b[0m\u001b[0;34m)\u001b[0m\u001b[0;34m:\u001b[0m\u001b[0;34m\u001b[0m\u001b[0;34m\u001b[0m\u001b[0m\n",
      "\u001b[0;32m~/.local/lib/python3.8/site-packages/torch/nn/modules/module.py\u001b[0m in \u001b[0;36m_call_impl\u001b[0;34m(self, *args, **kwargs)\u001b[0m\n\u001b[1;32m   1560\u001b[0m                 \u001b[0;32mor\u001b[0m \u001b[0m_global_backward_pre_hooks\u001b[0m \u001b[0;32mor\u001b[0m \u001b[0m_global_backward_hooks\u001b[0m\u001b[0;34m\u001b[0m\u001b[0;34m\u001b[0m\u001b[0m\n\u001b[1;32m   1561\u001b[0m                 or _global_forward_hooks or _global_forward_pre_hooks):\n\u001b[0;32m-> 1562\u001b[0;31m             \u001b[0;32mreturn\u001b[0m \u001b[0mforward_call\u001b[0m\u001b[0;34m(\u001b[0m\u001b[0;34m*\u001b[0m\u001b[0margs\u001b[0m\u001b[0;34m,\u001b[0m \u001b[0;34m**\u001b[0m\u001b[0mkwargs\u001b[0m\u001b[0;34m)\u001b[0m\u001b[0;34m\u001b[0m\u001b[0;34m\u001b[0m\u001b[0m\n\u001b[0m\u001b[1;32m   1563\u001b[0m \u001b[0;34m\u001b[0m\u001b[0m\n\u001b[1;32m   1564\u001b[0m         \u001b[0;32mtry\u001b[0m\u001b[0;34m:\u001b[0m\u001b[0;34m\u001b[0m\u001b[0;34m\u001b[0m\u001b[0m\n",
      "\u001b[0;32m~/.local/lib/python3.8/site-packages/diffusers/models/unets/unet_2d_blocks.py\u001b[0m in \u001b[0;36mforward\u001b[0;34m(self, hidden_states, res_hidden_states_tuple, temb, encoder_hidden_states, cross_attention_kwargs, upsample_size, attention_mask, encoder_attention_mask)\u001b[0m\n\u001b[1;32m   2456\u001b[0m             \u001b[0;32melse\u001b[0m\u001b[0;34m:\u001b[0m\u001b[0;34m\u001b[0m\u001b[0;34m\u001b[0m\u001b[0m\n\u001b[1;32m   2457\u001b[0m                 \u001b[0mhidden_states\u001b[0m \u001b[0;34m=\u001b[0m \u001b[0mresnet\u001b[0m\u001b[0;34m(\u001b[0m\u001b[0mhidden_states\u001b[0m\u001b[0;34m,\u001b[0m \u001b[0mtemb\u001b[0m\u001b[0;34m)\u001b[0m\u001b[0;34m\u001b[0m\u001b[0;34m\u001b[0m\u001b[0m\n\u001b[0;32m-> 2458\u001b[0;31m                 hidden_states = attn(\n\u001b[0m\u001b[1;32m   2459\u001b[0m                     \u001b[0mhidden_states\u001b[0m\u001b[0;34m,\u001b[0m\u001b[0;34m\u001b[0m\u001b[0;34m\u001b[0m\u001b[0m\n\u001b[1;32m   2460\u001b[0m                     \u001b[0mencoder_hidden_states\u001b[0m\u001b[0;34m=\u001b[0m\u001b[0mencoder_hidden_states\u001b[0m\u001b[0;34m,\u001b[0m\u001b[0;34m\u001b[0m\u001b[0;34m\u001b[0m\u001b[0m\n",
      "\u001b[0;32m~/.local/lib/python3.8/site-packages/torch/nn/modules/module.py\u001b[0m in \u001b[0;36m_wrapped_call_impl\u001b[0;34m(self, *args, **kwargs)\u001b[0m\n\u001b[1;32m   1551\u001b[0m             \u001b[0;32mreturn\u001b[0m \u001b[0mself\u001b[0m\u001b[0;34m.\u001b[0m\u001b[0m_compiled_call_impl\u001b[0m\u001b[0;34m(\u001b[0m\u001b[0;34m*\u001b[0m\u001b[0margs\u001b[0m\u001b[0;34m,\u001b[0m \u001b[0;34m**\u001b[0m\u001b[0mkwargs\u001b[0m\u001b[0;34m)\u001b[0m  \u001b[0;31m# type: ignore[misc]\u001b[0m\u001b[0;34m\u001b[0m\u001b[0;34m\u001b[0m\u001b[0m\n\u001b[1;32m   1552\u001b[0m         \u001b[0;32melse\u001b[0m\u001b[0;34m:\u001b[0m\u001b[0;34m\u001b[0m\u001b[0;34m\u001b[0m\u001b[0m\n\u001b[0;32m-> 1553\u001b[0;31m             \u001b[0;32mreturn\u001b[0m \u001b[0mself\u001b[0m\u001b[0;34m.\u001b[0m\u001b[0m_call_impl\u001b[0m\u001b[0;34m(\u001b[0m\u001b[0;34m*\u001b[0m\u001b[0margs\u001b[0m\u001b[0;34m,\u001b[0m \u001b[0;34m**\u001b[0m\u001b[0mkwargs\u001b[0m\u001b[0;34m)\u001b[0m\u001b[0;34m\u001b[0m\u001b[0;34m\u001b[0m\u001b[0m\n\u001b[0m\u001b[1;32m   1554\u001b[0m \u001b[0;34m\u001b[0m\u001b[0m\n\u001b[1;32m   1555\u001b[0m     \u001b[0;32mdef\u001b[0m \u001b[0m_call_impl\u001b[0m\u001b[0;34m(\u001b[0m\u001b[0mself\u001b[0m\u001b[0;34m,\u001b[0m \u001b[0;34m*\u001b[0m\u001b[0margs\u001b[0m\u001b[0;34m,\u001b[0m \u001b[0;34m**\u001b[0m\u001b[0mkwargs\u001b[0m\u001b[0;34m)\u001b[0m\u001b[0;34m:\u001b[0m\u001b[0;34m\u001b[0m\u001b[0;34m\u001b[0m\u001b[0m\n",
      "\u001b[0;32m~/.local/lib/python3.8/site-packages/torch/nn/modules/module.py\u001b[0m in \u001b[0;36m_call_impl\u001b[0;34m(self, *args, **kwargs)\u001b[0m\n\u001b[1;32m   1560\u001b[0m                 \u001b[0;32mor\u001b[0m \u001b[0m_global_backward_pre_hooks\u001b[0m \u001b[0;32mor\u001b[0m \u001b[0m_global_backward_hooks\u001b[0m\u001b[0;34m\u001b[0m\u001b[0;34m\u001b[0m\u001b[0m\n\u001b[1;32m   1561\u001b[0m                 or _global_forward_hooks or _global_forward_pre_hooks):\n\u001b[0;32m-> 1562\u001b[0;31m             \u001b[0;32mreturn\u001b[0m \u001b[0mforward_call\u001b[0m\u001b[0;34m(\u001b[0m\u001b[0;34m*\u001b[0m\u001b[0margs\u001b[0m\u001b[0;34m,\u001b[0m \u001b[0;34m**\u001b[0m\u001b[0mkwargs\u001b[0m\u001b[0;34m)\u001b[0m\u001b[0;34m\u001b[0m\u001b[0;34m\u001b[0m\u001b[0m\n\u001b[0m\u001b[1;32m   1563\u001b[0m \u001b[0;34m\u001b[0m\u001b[0m\n\u001b[1;32m   1564\u001b[0m         \u001b[0;32mtry\u001b[0m\u001b[0;34m:\u001b[0m\u001b[0;34m\u001b[0m\u001b[0;34m\u001b[0m\u001b[0m\n",
      "\u001b[0;32m~/.local/lib/python3.8/site-packages/diffusers/models/transformers/transformer_2d.py\u001b[0m in \u001b[0;36mforward\u001b[0;34m(self, hidden_states, encoder_hidden_states, timestep, added_cond_kwargs, class_labels, cross_attention_kwargs, attention_mask, encoder_attention_mask, return_dict)\u001b[0m\n\u001b[1;32m    425\u001b[0m                 )\n\u001b[1;32m    426\u001b[0m             \u001b[0;32melse\u001b[0m\u001b[0;34m:\u001b[0m\u001b[0;34m\u001b[0m\u001b[0;34m\u001b[0m\u001b[0m\n\u001b[0;32m--> 427\u001b[0;31m                 hidden_states = block(\n\u001b[0m\u001b[1;32m    428\u001b[0m                     \u001b[0mhidden_states\u001b[0m\u001b[0;34m,\u001b[0m\u001b[0;34m\u001b[0m\u001b[0;34m\u001b[0m\u001b[0m\n\u001b[1;32m    429\u001b[0m                     \u001b[0mattention_mask\u001b[0m\u001b[0;34m=\u001b[0m\u001b[0mattention_mask\u001b[0m\u001b[0;34m,\u001b[0m\u001b[0;34m\u001b[0m\u001b[0;34m\u001b[0m\u001b[0m\n",
      "\u001b[0;32m~/.local/lib/python3.8/site-packages/torch/nn/modules/module.py\u001b[0m in \u001b[0;36m_wrapped_call_impl\u001b[0;34m(self, *args, **kwargs)\u001b[0m\n\u001b[1;32m   1551\u001b[0m             \u001b[0;32mreturn\u001b[0m \u001b[0mself\u001b[0m\u001b[0;34m.\u001b[0m\u001b[0m_compiled_call_impl\u001b[0m\u001b[0;34m(\u001b[0m\u001b[0;34m*\u001b[0m\u001b[0margs\u001b[0m\u001b[0;34m,\u001b[0m \u001b[0;34m**\u001b[0m\u001b[0mkwargs\u001b[0m\u001b[0;34m)\u001b[0m  \u001b[0;31m# type: ignore[misc]\u001b[0m\u001b[0;34m\u001b[0m\u001b[0;34m\u001b[0m\u001b[0m\n\u001b[1;32m   1552\u001b[0m         \u001b[0;32melse\u001b[0m\u001b[0;34m:\u001b[0m\u001b[0;34m\u001b[0m\u001b[0;34m\u001b[0m\u001b[0m\n\u001b[0;32m-> 1553\u001b[0;31m             \u001b[0;32mreturn\u001b[0m \u001b[0mself\u001b[0m\u001b[0;34m.\u001b[0m\u001b[0m_call_impl\u001b[0m\u001b[0;34m(\u001b[0m\u001b[0;34m*\u001b[0m\u001b[0margs\u001b[0m\u001b[0;34m,\u001b[0m \u001b[0;34m**\u001b[0m\u001b[0mkwargs\u001b[0m\u001b[0;34m)\u001b[0m\u001b[0;34m\u001b[0m\u001b[0;34m\u001b[0m\u001b[0m\n\u001b[0m\u001b[1;32m   1554\u001b[0m \u001b[0;34m\u001b[0m\u001b[0m\n\u001b[1;32m   1555\u001b[0m     \u001b[0;32mdef\u001b[0m \u001b[0m_call_impl\u001b[0m\u001b[0;34m(\u001b[0m\u001b[0mself\u001b[0m\u001b[0;34m,\u001b[0m \u001b[0;34m*\u001b[0m\u001b[0margs\u001b[0m\u001b[0;34m,\u001b[0m \u001b[0;34m**\u001b[0m\u001b[0mkwargs\u001b[0m\u001b[0;34m)\u001b[0m\u001b[0;34m:\u001b[0m\u001b[0;34m\u001b[0m\u001b[0;34m\u001b[0m\u001b[0m\n",
      "\u001b[0;32m~/.local/lib/python3.8/site-packages/torch/nn/modules/module.py\u001b[0m in \u001b[0;36m_call_impl\u001b[0;34m(self, *args, **kwargs)\u001b[0m\n\u001b[1;32m   1560\u001b[0m                 \u001b[0;32mor\u001b[0m \u001b[0m_global_backward_pre_hooks\u001b[0m \u001b[0;32mor\u001b[0m \u001b[0m_global_backward_hooks\u001b[0m\u001b[0;34m\u001b[0m\u001b[0;34m\u001b[0m\u001b[0m\n\u001b[1;32m   1561\u001b[0m                 or _global_forward_hooks or _global_forward_pre_hooks):\n\u001b[0;32m-> 1562\u001b[0;31m             \u001b[0;32mreturn\u001b[0m \u001b[0mforward_call\u001b[0m\u001b[0;34m(\u001b[0m\u001b[0;34m*\u001b[0m\u001b[0margs\u001b[0m\u001b[0;34m,\u001b[0m \u001b[0;34m**\u001b[0m\u001b[0mkwargs\u001b[0m\u001b[0;34m)\u001b[0m\u001b[0;34m\u001b[0m\u001b[0;34m\u001b[0m\u001b[0m\n\u001b[0m\u001b[1;32m   1563\u001b[0m \u001b[0;34m\u001b[0m\u001b[0m\n\u001b[1;32m   1564\u001b[0m         \u001b[0;32mtry\u001b[0m\u001b[0;34m:\u001b[0m\u001b[0;34m\u001b[0m\u001b[0;34m\u001b[0m\u001b[0m\n",
      "\u001b[0;32m~/.local/lib/python3.8/site-packages/diffusers/models/attention.py\u001b[0m in \u001b[0;36mforward\u001b[0;34m(self, hidden_states, attention_mask, encoder_hidden_states, encoder_attention_mask, timestep, cross_attention_kwargs, class_labels, added_cond_kwargs)\u001b[0m\n\u001b[1;32m    550\u001b[0m                 \u001b[0mnorm_hidden_states\u001b[0m \u001b[0;34m=\u001b[0m \u001b[0mself\u001b[0m\u001b[0;34m.\u001b[0m\u001b[0mpos_embed\u001b[0m\u001b[0;34m(\u001b[0m\u001b[0mnorm_hidden_states\u001b[0m\u001b[0;34m)\u001b[0m\u001b[0;34m\u001b[0m\u001b[0;34m\u001b[0m\u001b[0m\n\u001b[1;32m    551\u001b[0m \u001b[0;34m\u001b[0m\u001b[0m\n\u001b[0;32m--> 552\u001b[0;31m             attn_output = self.attn2(\n\u001b[0m\u001b[1;32m    553\u001b[0m                 \u001b[0mnorm_hidden_states\u001b[0m\u001b[0;34m,\u001b[0m\u001b[0;34m\u001b[0m\u001b[0;34m\u001b[0m\u001b[0m\n\u001b[1;32m    554\u001b[0m                 \u001b[0mencoder_hidden_states\u001b[0m\u001b[0;34m=\u001b[0m\u001b[0mencoder_hidden_states\u001b[0m\u001b[0;34m,\u001b[0m\u001b[0;34m\u001b[0m\u001b[0;34m\u001b[0m\u001b[0m\n",
      "\u001b[0;32m~/.local/lib/python3.8/site-packages/torch/nn/modules/module.py\u001b[0m in \u001b[0;36m_wrapped_call_impl\u001b[0;34m(self, *args, **kwargs)\u001b[0m\n\u001b[1;32m   1551\u001b[0m             \u001b[0;32mreturn\u001b[0m \u001b[0mself\u001b[0m\u001b[0;34m.\u001b[0m\u001b[0m_compiled_call_impl\u001b[0m\u001b[0;34m(\u001b[0m\u001b[0;34m*\u001b[0m\u001b[0margs\u001b[0m\u001b[0;34m,\u001b[0m \u001b[0;34m**\u001b[0m\u001b[0mkwargs\u001b[0m\u001b[0;34m)\u001b[0m  \u001b[0;31m# type: ignore[misc]\u001b[0m\u001b[0;34m\u001b[0m\u001b[0;34m\u001b[0m\u001b[0m\n\u001b[1;32m   1552\u001b[0m         \u001b[0;32melse\u001b[0m\u001b[0;34m:\u001b[0m\u001b[0;34m\u001b[0m\u001b[0;34m\u001b[0m\u001b[0m\n\u001b[0;32m-> 1553\u001b[0;31m             \u001b[0;32mreturn\u001b[0m \u001b[0mself\u001b[0m\u001b[0;34m.\u001b[0m\u001b[0m_call_impl\u001b[0m\u001b[0;34m(\u001b[0m\u001b[0;34m*\u001b[0m\u001b[0margs\u001b[0m\u001b[0;34m,\u001b[0m \u001b[0;34m**\u001b[0m\u001b[0mkwargs\u001b[0m\u001b[0;34m)\u001b[0m\u001b[0;34m\u001b[0m\u001b[0;34m\u001b[0m\u001b[0m\n\u001b[0m\u001b[1;32m   1554\u001b[0m \u001b[0;34m\u001b[0m\u001b[0m\n\u001b[1;32m   1555\u001b[0m     \u001b[0;32mdef\u001b[0m \u001b[0m_call_impl\u001b[0m\u001b[0;34m(\u001b[0m\u001b[0mself\u001b[0m\u001b[0;34m,\u001b[0m \u001b[0;34m*\u001b[0m\u001b[0margs\u001b[0m\u001b[0;34m,\u001b[0m \u001b[0;34m**\u001b[0m\u001b[0mkwargs\u001b[0m\u001b[0;34m)\u001b[0m\u001b[0;34m:\u001b[0m\u001b[0;34m\u001b[0m\u001b[0;34m\u001b[0m\u001b[0m\n",
      "\u001b[0;32m~/.local/lib/python3.8/site-packages/torch/nn/modules/module.py\u001b[0m in \u001b[0;36m_call_impl\u001b[0;34m(self, *args, **kwargs)\u001b[0m\n\u001b[1;32m   1560\u001b[0m                 \u001b[0;32mor\u001b[0m \u001b[0m_global_backward_pre_hooks\u001b[0m \u001b[0;32mor\u001b[0m \u001b[0m_global_backward_hooks\u001b[0m\u001b[0;34m\u001b[0m\u001b[0;34m\u001b[0m\u001b[0m\n\u001b[1;32m   1561\u001b[0m                 or _global_forward_hooks or _global_forward_pre_hooks):\n\u001b[0;32m-> 1562\u001b[0;31m             \u001b[0;32mreturn\u001b[0m \u001b[0mforward_call\u001b[0m\u001b[0;34m(\u001b[0m\u001b[0;34m*\u001b[0m\u001b[0margs\u001b[0m\u001b[0;34m,\u001b[0m \u001b[0;34m**\u001b[0m\u001b[0mkwargs\u001b[0m\u001b[0;34m)\u001b[0m\u001b[0;34m\u001b[0m\u001b[0;34m\u001b[0m\u001b[0m\n\u001b[0m\u001b[1;32m   1563\u001b[0m \u001b[0;34m\u001b[0m\u001b[0m\n\u001b[1;32m   1564\u001b[0m         \u001b[0;32mtry\u001b[0m\u001b[0;34m:\u001b[0m\u001b[0;34m\u001b[0m\u001b[0;34m\u001b[0m\u001b[0m\n",
      "\u001b[0;32m~/.local/lib/python3.8/site-packages/diffusers/models/attention_processor.py\u001b[0m in \u001b[0;36mforward\u001b[0;34m(self, hidden_states, encoder_hidden_states, attention_mask, **cross_attention_kwargs)\u001b[0m\n\u001b[1;32m    603\u001b[0m         \u001b[0mcross_attention_kwargs\u001b[0m \u001b[0;34m=\u001b[0m \u001b[0;34m{\u001b[0m\u001b[0mk\u001b[0m\u001b[0;34m:\u001b[0m \u001b[0mw\u001b[0m \u001b[0;32mfor\u001b[0m \u001b[0mk\u001b[0m\u001b[0;34m,\u001b[0m \u001b[0mw\u001b[0m \u001b[0;32min\u001b[0m \u001b[0mcross_attention_kwargs\u001b[0m\u001b[0;34m.\u001b[0m\u001b[0mitems\u001b[0m\u001b[0;34m(\u001b[0m\u001b[0;34m)\u001b[0m \u001b[0;32mif\u001b[0m \u001b[0mk\u001b[0m \u001b[0;32min\u001b[0m \u001b[0mattn_parameters\u001b[0m\u001b[0;34m}\u001b[0m\u001b[0;34m\u001b[0m\u001b[0;34m\u001b[0m\u001b[0m\n\u001b[1;32m    604\u001b[0m \u001b[0;34m\u001b[0m\u001b[0m\n\u001b[0;32m--> 605\u001b[0;31m         return self.processor(\n\u001b[0m\u001b[1;32m    606\u001b[0m             \u001b[0mself\u001b[0m\u001b[0;34m,\u001b[0m\u001b[0;34m\u001b[0m\u001b[0;34m\u001b[0m\u001b[0m\n\u001b[1;32m    607\u001b[0m             \u001b[0mhidden_states\u001b[0m\u001b[0;34m,\u001b[0m\u001b[0;34m\u001b[0m\u001b[0;34m\u001b[0m\u001b[0m\n",
      "\u001b[0;32m~/.local/lib/python3.8/site-packages/diffusers/models/attention_processor.py\u001b[0m in \u001b[0;36m__call__\u001b[0;34m(self, attn, hidden_states, encoder_hidden_states, attention_mask, temb, *args, **kwargs)\u001b[0m\n\u001b[1;32m   3294\u001b[0m \u001b[0;34m\u001b[0m\u001b[0m\n\u001b[1;32m   3295\u001b[0m         \u001b[0mkey\u001b[0m \u001b[0;34m=\u001b[0m \u001b[0mattn\u001b[0m\u001b[0;34m.\u001b[0m\u001b[0mto_k\u001b[0m\u001b[0;34m(\u001b[0m\u001b[0mencoder_hidden_states\u001b[0m\u001b[0;34m)\u001b[0m\u001b[0;34m\u001b[0m\u001b[0;34m\u001b[0m\u001b[0m\n\u001b[0;32m-> 3296\u001b[0;31m         \u001b[0mvalue\u001b[0m \u001b[0;34m=\u001b[0m \u001b[0mattn\u001b[0m\u001b[0;34m.\u001b[0m\u001b[0mto_v\u001b[0m\u001b[0;34m(\u001b[0m\u001b[0mencoder_hidden_states\u001b[0m\u001b[0;34m)\u001b[0m\u001b[0;34m\u001b[0m\u001b[0;34m\u001b[0m\u001b[0m\n\u001b[0m\u001b[1;32m   3297\u001b[0m \u001b[0;34m\u001b[0m\u001b[0m\n\u001b[1;32m   3298\u001b[0m         \u001b[0minner_dim\u001b[0m \u001b[0;34m=\u001b[0m \u001b[0mkey\u001b[0m\u001b[0;34m.\u001b[0m\u001b[0mshape\u001b[0m\u001b[0;34m[\u001b[0m\u001b[0;34m-\u001b[0m\u001b[0;36m1\u001b[0m\u001b[0;34m]\u001b[0m\u001b[0;34m\u001b[0m\u001b[0;34m\u001b[0m\u001b[0m\n",
      "\u001b[0;32m~/.local/lib/python3.8/site-packages/torch/nn/modules/module.py\u001b[0m in \u001b[0;36m_wrapped_call_impl\u001b[0;34m(self, *args, **kwargs)\u001b[0m\n\u001b[1;32m   1551\u001b[0m             \u001b[0;32mreturn\u001b[0m \u001b[0mself\u001b[0m\u001b[0;34m.\u001b[0m\u001b[0m_compiled_call_impl\u001b[0m\u001b[0;34m(\u001b[0m\u001b[0;34m*\u001b[0m\u001b[0margs\u001b[0m\u001b[0;34m,\u001b[0m \u001b[0;34m**\u001b[0m\u001b[0mkwargs\u001b[0m\u001b[0;34m)\u001b[0m  \u001b[0;31m# type: ignore[misc]\u001b[0m\u001b[0;34m\u001b[0m\u001b[0;34m\u001b[0m\u001b[0m\n\u001b[1;32m   1552\u001b[0m         \u001b[0;32melse\u001b[0m\u001b[0;34m:\u001b[0m\u001b[0;34m\u001b[0m\u001b[0;34m\u001b[0m\u001b[0m\n\u001b[0;32m-> 1553\u001b[0;31m             \u001b[0;32mreturn\u001b[0m \u001b[0mself\u001b[0m\u001b[0;34m.\u001b[0m\u001b[0m_call_impl\u001b[0m\u001b[0;34m(\u001b[0m\u001b[0;34m*\u001b[0m\u001b[0margs\u001b[0m\u001b[0;34m,\u001b[0m \u001b[0;34m**\u001b[0m\u001b[0mkwargs\u001b[0m\u001b[0;34m)\u001b[0m\u001b[0;34m\u001b[0m\u001b[0;34m\u001b[0m\u001b[0m\n\u001b[0m\u001b[1;32m   1554\u001b[0m \u001b[0;34m\u001b[0m\u001b[0m\n\u001b[1;32m   1555\u001b[0m     \u001b[0;32mdef\u001b[0m \u001b[0m_call_impl\u001b[0m\u001b[0;34m(\u001b[0m\u001b[0mself\u001b[0m\u001b[0;34m,\u001b[0m \u001b[0;34m*\u001b[0m\u001b[0margs\u001b[0m\u001b[0;34m,\u001b[0m \u001b[0;34m**\u001b[0m\u001b[0mkwargs\u001b[0m\u001b[0;34m)\u001b[0m\u001b[0;34m:\u001b[0m\u001b[0;34m\u001b[0m\u001b[0;34m\u001b[0m\u001b[0m\n",
      "\u001b[0;32m~/.local/lib/python3.8/site-packages/torch/nn/modules/module.py\u001b[0m in \u001b[0;36m_call_impl\u001b[0;34m(self, *args, **kwargs)\u001b[0m\n\u001b[1;32m   1560\u001b[0m                 \u001b[0;32mor\u001b[0m \u001b[0m_global_backward_pre_hooks\u001b[0m \u001b[0;32mor\u001b[0m \u001b[0m_global_backward_hooks\u001b[0m\u001b[0;34m\u001b[0m\u001b[0;34m\u001b[0m\u001b[0m\n\u001b[1;32m   1561\u001b[0m                 or _global_forward_hooks or _global_forward_pre_hooks):\n\u001b[0;32m-> 1562\u001b[0;31m             \u001b[0;32mreturn\u001b[0m \u001b[0mforward_call\u001b[0m\u001b[0;34m(\u001b[0m\u001b[0;34m*\u001b[0m\u001b[0margs\u001b[0m\u001b[0;34m,\u001b[0m \u001b[0;34m**\u001b[0m\u001b[0mkwargs\u001b[0m\u001b[0;34m)\u001b[0m\u001b[0;34m\u001b[0m\u001b[0;34m\u001b[0m\u001b[0m\n\u001b[0m\u001b[1;32m   1563\u001b[0m \u001b[0;34m\u001b[0m\u001b[0m\n\u001b[1;32m   1564\u001b[0m         \u001b[0;32mtry\u001b[0m\u001b[0;34m:\u001b[0m\u001b[0;34m\u001b[0m\u001b[0;34m\u001b[0m\u001b[0m\n",
      "\u001b[0;32m~/.local/lib/python3.8/site-packages/peft/tuners/lora/layer.py\u001b[0m in \u001b[0;36mforward\u001b[0;34m(self, x, *args, **kwargs)\u001b[0m\n\u001b[1;32m    582\u001b[0m \u001b[0;34m\u001b[0m\u001b[0m\n\u001b[1;32m    583\u001b[0m                 \u001b[0;32mif\u001b[0m \u001b[0;32mnot\u001b[0m \u001b[0mself\u001b[0m\u001b[0;34m.\u001b[0m\u001b[0muse_dora\u001b[0m\u001b[0;34m[\u001b[0m\u001b[0mactive_adapter\u001b[0m\u001b[0;34m]\u001b[0m\u001b[0;34m:\u001b[0m\u001b[0;34m\u001b[0m\u001b[0;34m\u001b[0m\u001b[0m\n\u001b[0;32m--> 584\u001b[0;31m                     \u001b[0mresult\u001b[0m \u001b[0;34m=\u001b[0m \u001b[0mresult\u001b[0m \u001b[0;34m+\u001b[0m \u001b[0mlora_B\u001b[0m\u001b[0;34m(\u001b[0m\u001b[0mlora_A\u001b[0m\u001b[0;34m(\u001b[0m\u001b[0mdropout\u001b[0m\u001b[0;34m(\u001b[0m\u001b[0mx\u001b[0m\u001b[0;34m)\u001b[0m\u001b[0;34m)\u001b[0m\u001b[0;34m)\u001b[0m \u001b[0;34m*\u001b[0m \u001b[0mscaling\u001b[0m\u001b[0;34m\u001b[0m\u001b[0;34m\u001b[0m\u001b[0m\n\u001b[0m\u001b[1;32m    585\u001b[0m                 \u001b[0;32melse\u001b[0m\u001b[0;34m:\u001b[0m\u001b[0;34m\u001b[0m\u001b[0;34m\u001b[0m\u001b[0m\n\u001b[1;32m    586\u001b[0m                     \u001b[0mx\u001b[0m \u001b[0;34m=\u001b[0m \u001b[0mdropout\u001b[0m\u001b[0;34m(\u001b[0m\u001b[0mx\u001b[0m\u001b[0;34m)\u001b[0m\u001b[0;34m\u001b[0m\u001b[0;34m\u001b[0m\u001b[0m\n",
      "\u001b[0;31mKeyboardInterrupt\u001b[0m: "
     ]
    }
   ],
   "source": [
    "from torchvision import transforms\n",
    "\n",
    "# Define a transformation to convert PIL images to tensors\n",
    "transform = transforms.ToTensor()\n",
    "\n",
    "# Define your loss function\n",
    "loss_fn = nn.MSELoss()  # or nn.L1Loss() if you prefer\n",
    "\n",
    "optimizer = torch.optim.AdamW(pipe.unet.parameters(), lr=1e-4)\n",
    "pipe.unet.train()\n",
    "\n",
    "for epoch in range(10):\n",
    "    for batch in train_dataloader:\n",
    "        images, prompts = batch  # images: (B, C, H, W), prompts: list of strings\n",
    "        \n",
    "        # Move images to the same device as the model\n",
    "        images = images.to(pipe.device)\n",
    "        \n",
    "        # Tokenize prompts\n",
    "        inputs = pipe.tokenizer(prompts, padding=\"max_length\", truncation=True, return_tensors=\"pt\")\n",
    "        inputs = {k: v.to(pipe.device) for k, v in inputs.items()}\n",
    "        \n",
    "        # Get prompt embeddings\n",
    "        prompt_embeds = pipe.text_encoder(**inputs).last_hidden_state\n",
    "        \n",
    "        # Forward pass through the model\n",
    "        outputs = pipe(prompt_embeds=prompt_embeds).images  # generated images\n",
    "        \n",
    "        # If outputs are a list of PIL images, convert them to tensors\n",
    "        if isinstance(outputs, list):\n",
    "            outputs = torch.stack([transform(o).to(pipe.device) for o in outputs])  # Convert each PIL image to tensor and stack\n",
    "        \n",
    "        # Ensure outputs are a tensor and require gradients\n",
    "        outputs = outputs.to(pipe.device).requires_grad_()  # Make sure outputs are on the correct device and require grad\n",
    "        \n",
    "        # Calculate loss between generated and real images\n",
    "        loss = loss_fn(outputs, images)\n",
    "        \n",
    "        # Backward pass\n",
    "        optimizer.zero_grad()  # Zero out gradients before backward pass\n",
    "        loss.backward()\n",
    "        optimizer.step()\n",
    "        \n",
    "        print(f\"Epoch [{epoch+1}/10], Loss: {loss.item():.4f}\")"
   ]
  },
  {
   "cell_type": "code",
   "execution_count": null,
   "id": "a8cb7d33-eda2-4f7b-99fe-a285ec48465a",
   "metadata": {},
   "outputs": [
    {
     "name": "stdout",
     "output_type": "stream",
     "text": [
      "Warning: Looks like you're using an outdated `kagglehub` version, please consider updating (latest version: 0.3.11)\n"
     ]
    },
    {
     "data": {
      "application/vnd.jupyter.widget-view+json": {
       "model_id": "7b8d4f2cd64d4c4897f75e20f5ff2dc9",
       "version_major": 2,
       "version_minor": 0
      },
      "text/plain": [
       "Loading pipeline components...:   0%|          | 0/6 [00:00<?, ?it/s]"
      ]
     },
     "metadata": {},
     "output_type": "display_data"
    },
    {
     "name": "stdout",
     "output_type": "stream",
     "text": [
      "trainable params: 1,394,688 || all params: 860,915,652 || trainable%: 0.1620\n"
     ]
    },
    {
     "name": "stderr",
     "output_type": "stream",
     "text": [
      "Epoch 1/10:   0%|          | 0/5927 [00:00<?, ?it/s]<ipython-input-47-b7d18499c44c>:157: FutureWarning: `torch.cuda.amp.autocast(args...)` is deprecated. Please use `torch.amp.autocast('cuda', args...)` instead.\n",
      "  with torch.cuda.amp.autocast():\n",
      "Epoch 1/10: 100%|██████████| 5927/5927 [33:59<00:00,  2.91it/s, loss=0.844]  \n"
     ]
    },
    {
     "data": {
      "application/vnd.jupyter.widget-view+json": {
       "model_id": "55f2f2c5486c40f4aa1828287b1c3dc5",
       "version_major": 2,
       "version_minor": 0
      },
      "text/plain": [
       "  0%|          | 0/50 [00:00<?, ?it/s]"
      ]
     },
     "metadata": {},
     "output_type": "display_data"
    },
    {
     "data": {
      "application/vnd.jupyter.widget-view+json": {
       "model_id": "08a68d315c54402dadb79dae46c626b3",
       "version_major": 2,
       "version_minor": 0
      },
      "text/plain": [
       "  0%|          | 0/50 [00:00<?, ?it/s]"
      ]
     },
     "metadata": {},
     "output_type": "display_data"
    },
    {
     "data": {
      "application/vnd.jupyter.widget-view+json": {
       "model_id": "d497eea1269045f480a6591bac460b77",
       "version_major": 2,
       "version_minor": 0
      },
      "text/plain": [
       "  0%|          | 0/50 [00:00<?, ?it/s]"
      ]
     },
     "metadata": {},
     "output_type": "display_data"
    },
    {
     "data": {
      "application/vnd.jupyter.widget-view+json": {
       "model_id": "676d9de2ddb348e5aec02f1ffed67f43",
       "version_major": 2,
       "version_minor": 0
      },
      "text/plain": [
       "  0%|          | 0/50 [00:00<?, ?it/s]"
      ]
     },
     "metadata": {},
     "output_type": "display_data"
    },
    {
     "name": "stderr",
     "output_type": "stream",
     "text": [
      "Epoch 2/10: 100%|██████████| 5927/5927 [33:59<00:00,  2.91it/s, loss=0.988]\n"
     ]
    },
    {
     "data": {
      "application/vnd.jupyter.widget-view+json": {
       "model_id": "76200059a324423dba881393f88bd82c",
       "version_major": 2,
       "version_minor": 0
      },
      "text/plain": [
       "  0%|          | 0/50 [00:00<?, ?it/s]"
      ]
     },
     "metadata": {},
     "output_type": "display_data"
    },
    {
     "data": {
      "application/vnd.jupyter.widget-view+json": {
       "model_id": "673e013b027240569c536ed85f0ef26b",
       "version_major": 2,
       "version_minor": 0
      },
      "text/plain": [
       "  0%|          | 0/50 [00:00<?, ?it/s]"
      ]
     },
     "metadata": {},
     "output_type": "display_data"
    },
    {
     "data": {
      "application/vnd.jupyter.widget-view+json": {
       "model_id": "626ff92f14d549dea4d5539bcbceebad",
       "version_major": 2,
       "version_minor": 0
      },
      "text/plain": [
       "  0%|          | 0/50 [00:00<?, ?it/s]"
      ]
     },
     "metadata": {},
     "output_type": "display_data"
    },
    {
     "data": {
      "application/vnd.jupyter.widget-view+json": {
       "model_id": "56dcc67e305c436ba8960e34e05f2cc2",
       "version_major": 2,
       "version_minor": 0
      },
      "text/plain": [
       "  0%|          | 0/50 [00:00<?, ?it/s]"
      ]
     },
     "metadata": {},
     "output_type": "display_data"
    },
    {
     "name": "stderr",
     "output_type": "stream",
     "text": [
      "Epoch 3/10: 100%|██████████| 5927/5927 [32:54<00:00,  3.00it/s, loss=0.976]\n"
     ]
    },
    {
     "data": {
      "application/vnd.jupyter.widget-view+json": {
       "model_id": "121364e0c0034be0ac72f4adba7f6357",
       "version_major": 2,
       "version_minor": 0
      },
      "text/plain": [
       "  0%|          | 0/50 [00:00<?, ?it/s]"
      ]
     },
     "metadata": {},
     "output_type": "display_data"
    },
    {
     "data": {
      "application/vnd.jupyter.widget-view+json": {
       "model_id": "0bb8134dc1cc4c4abbb2d547781c308f",
       "version_major": 2,
       "version_minor": 0
      },
      "text/plain": [
       "  0%|          | 0/50 [00:00<?, ?it/s]"
      ]
     },
     "metadata": {},
     "output_type": "display_data"
    },
    {
     "data": {
      "application/vnd.jupyter.widget-view+json": {
       "model_id": "55dae310cfda486da3b8315a6ef1a076",
       "version_major": 2,
       "version_minor": 0
      },
      "text/plain": [
       "  0%|          | 0/50 [00:00<?, ?it/s]"
      ]
     },
     "metadata": {},
     "output_type": "display_data"
    },
    {
     "data": {
      "application/vnd.jupyter.widget-view+json": {
       "model_id": "83da052732524e39ad379e66ef9c0e66",
       "version_major": 2,
       "version_minor": 0
      },
      "text/plain": [
       "  0%|          | 0/50 [00:00<?, ?it/s]"
      ]
     },
     "metadata": {},
     "output_type": "display_data"
    },
    {
     "name": "stderr",
     "output_type": "stream",
     "text": [
      "Epoch 4/10: 100%|██████████| 5927/5927 [32:51<00:00,  3.01it/s, loss=0.981]\n"
     ]
    },
    {
     "data": {
      "application/vnd.jupyter.widget-view+json": {
       "model_id": "ffd401faa9b5466b89dd67336f2c9fb1",
       "version_major": 2,
       "version_minor": 0
      },
      "text/plain": [
       "  0%|          | 0/50 [00:00<?, ?it/s]"
      ]
     },
     "metadata": {},
     "output_type": "display_data"
    },
    {
     "data": {
      "application/vnd.jupyter.widget-view+json": {
       "model_id": "fcaf4e6e962c49fe8274277cb169367e",
       "version_major": 2,
       "version_minor": 0
      },
      "text/plain": [
       "  0%|          | 0/50 [00:00<?, ?it/s]"
      ]
     },
     "metadata": {},
     "output_type": "display_data"
    },
    {
     "data": {
      "application/vnd.jupyter.widget-view+json": {
       "model_id": "205a8adb12404faabca46f78473cc031",
       "version_major": 2,
       "version_minor": 0
      },
      "text/plain": [
       "  0%|          | 0/50 [00:00<?, ?it/s]"
      ]
     },
     "metadata": {},
     "output_type": "display_data"
    },
    {
     "data": {
      "application/vnd.jupyter.widget-view+json": {
       "model_id": "fb0d9891a42340b29536b458bd7f4cca",
       "version_major": 2,
       "version_minor": 0
      },
      "text/plain": [
       "  0%|          | 0/50 [00:00<?, ?it/s]"
      ]
     },
     "metadata": {},
     "output_type": "display_data"
    },
    {
     "name": "stderr",
     "output_type": "stream",
     "text": [
      "Epoch 5/10:  22%|██▏       | 1323/5927 [07:20<25:18,  3.03it/s, loss=0.978]"
     ]
    }
   ],
   "source": [
    "import torch\n",
    "import os\n",
    "import warnings\n",
    "from torch.utils.data import Dataset, DataLoader\n",
    "from torchvision import transforms\n",
    "from PIL import Image\n",
    "from diffusers import StableDiffusionPipeline, DDPMScheduler\n",
    "from peft import get_peft_model, LoraConfig\n",
    "import kagglehub\n",
    "from tqdm import tqdm\n",
    "\n",
    "# --- Setup with Error Handling ---\n",
    "try:\n",
    "    # --- Dataset Setup ---\n",
    "    dataset_path = kagglehub.dataset_download(\"jangedoo/utkface-new\")\n",
    "    image_folder = os.path.join(dataset_path, \"utkface_aligned_cropped/UTKFace\")\n",
    "    caption_folder = os.path.join(image_folder, \"captions\")\n",
    "    \n",
    "    # Create captions if folder doesn't exist\n",
    "    os.makedirs(caption_folder, exist_ok=True)\n",
    "\n",
    "    # --- Model Initialization ---\n",
    "    pipe = StableDiffusionPipeline.from_pretrained(\n",
    "        \"runwayml/stable-diffusion-v1-5\",\n",
    "        torch_dtype=torch.float16,\n",
    "        safety_checker=None,\n",
    "        requires_safety_checker=False\n",
    "    ).to(\"cuda\")\n",
    "\n",
    "    # Configure LoRA\n",
    "    lora_config = LoraConfig(\n",
    "        r=8,\n",
    "        lora_alpha=32,\n",
    "        target_modules=[\"to_q\", \"to_k\", \"to_v\", \"proj_out\"],\n",
    "        lora_dropout=0.1,\n",
    "        bias=\"none\",\n",
    "        task_type=\"TEXT_TO_IMAGE\",\n",
    "    )\n",
    "    pipe.unet = get_peft_model(pipe.unet, lora_config)\n",
    "    pipe.unet.print_trainable_parameters()\n",
    "\n",
    "    # --- Training Setup ---\n",
    "    optimizer = torch.optim.AdamW(pipe.unet.parameters(), lr=1e-4)\n",
    "    scheduler = DDPMScheduler.from_config(pipe.scheduler.config)\n",
    "    noise_scheduler = scheduler\n",
    "    loss_fn = torch.nn.MSELoss()\n",
    "\n",
    "    # --- Enhanced Dataset Class ---\n",
    "    class UTKFaceDataset(Dataset):\n",
    "        def __init__(self, image_folder, caption_folder, resolution=512):\n",
    "            self.image_paths = []\n",
    "            self.caption_data = {}\n",
    "            \n",
    "            # Scan image folder\n",
    "            for f in os.listdir(image_folder):\n",
    "                if f.lower().endswith((\".jpg\", \".jpeg\", \".png\", \".chip.jpg\")):\n",
    "                    img_path = os.path.join(image_folder, f)\n",
    "                    self.image_paths.append(img_path)\n",
    "                    \n",
    "                    # Generate caption if missing\n",
    "                    base_name = os.path.basename(f)\n",
    "                    if base_name.endswith('.chip.jpg'):\n",
    "                        caption_base = base_name.replace('.chip.jpg', '')\n",
    "                    else:\n",
    "                        caption_base = os.path.splitext(base_name)[0]\n",
    "                    \n",
    "                    caption_path = os.path.join(caption_folder, f\"{caption_base}.txt\")\n",
    "                    \n",
    "                    # Create caption if file doesn't exist\n",
    "                    if not os.path.exists(caption_path):\n",
    "                        try:\n",
    "                            parts = base_name.split('_')\n",
    "                            if len(parts) >= 3:  # Format: age_gender_race_date.jpg\n",
    "                                age = parts[0]\n",
    "                                gender = 'male' if parts[1] == '0' else 'female'\n",
    "                                caption = f\"photo of a {age} year old {gender}\"\n",
    "                                with open(caption_path, 'w') as f:\n",
    "                                    f.write(caption)\n",
    "                        except Exception as e:\n",
    "                            caption = \"photo of a person\"\n",
    "                            warnings.warn(f\"Couldn't generate caption for {base_name}: {str(e)}\")\n",
    "                    \n",
    "                    # Store caption data\n",
    "                    self.caption_data[img_path] = caption_path\n",
    "\n",
    "            self.transform = transforms.Compose([\n",
    "                transforms.Resize(resolution),\n",
    "                transforms.CenterCrop(resolution),\n",
    "                transforms.ToTensor(),\n",
    "                transforms.Normalize([0.5], [0.5])\n",
    "            ])\n",
    "\n",
    "        def __len__(self):\n",
    "            return len(self.image_paths)\n",
    "\n",
    "        def __getitem__(self, idx):\n",
    "            img_path = self.image_paths[idx]\n",
    "            \n",
    "            # Load image with error handling\n",
    "            try:\n",
    "                image = Image.open(img_path).convert(\"RGB\")\n",
    "                image = self.transform(image)\n",
    "            except Exception as e:\n",
    "                warnings.warn(f\"Error loading image {img_path}: {str(e)}\")\n",
    "                # Return dummy data that won't affect training much\n",
    "                image = torch.zeros(3, 512, 512)\n",
    "                caption = \"photo of a person\"\n",
    "                return image, caption\n",
    "            \n",
    "            # Get caption with error handling\n",
    "            caption_path = self.caption_data[img_path]\n",
    "            try:\n",
    "                with open(caption_path, \"r\") as f:\n",
    "                    caption = f.read().strip()\n",
    "            except Exception as e:\n",
    "                warnings.warn(f\"Error loading caption for {img_path}: {str(e)}\")\n",
    "                caption = \"photo of a person\"\n",
    "            \n",
    "            return image, caption\n",
    "\n",
    "    # --- DataLoader with Error Handling ---\n",
    "    train_dataset = UTKFaceDataset(image_folder, caption_folder)\n",
    "    train_dataloader = DataLoader(\n",
    "        train_dataset,\n",
    "        batch_size=4,\n",
    "        shuffle=True,\n",
    "        num_workers=4,\n",
    "        pin_memory=True,\n",
    "        persistent_workers=True\n",
    "    )\n",
    "\n",
    "    # Create progress directory\n",
    "    os.makedirs(\"training_progress\", exist_ok=True)\n",
    "\n",
    "    # --- Training Loop with Robustness ---\n",
    "    num_epochs = 10\n",
    "    grad_accumulation_steps = 2\n",
    "    pipe.unet.train()\n",
    "\n",
    "    # Demo prompts\n",
    "    demo_prompts = [\n",
    "        \"photo of a 25 year old female\",\n",
    "        \"photo of a 30 year old male\",\n",
    "        \"photo of a 45 year old female\",\n",
    "        \"photo of a 10 year old male\"\n",
    "    ]\n",
    "    fixed_generator = torch.Generator(device=pipe.device).manual_seed(42)\n",
    "\n",
    "    for epoch in range(num_epochs):\n",
    "        progress_bar = tqdm(train_dataloader, desc=f\"Epoch {epoch+1}/{num_epochs}\")\n",
    "        \n",
    "        for batch_idx, (images, captions) in enumerate(progress_bar):\n",
    "            try:\n",
    "                # Training with error handling\n",
    "                images = images.to(pipe.device, dtype=torch.float16)\n",
    "                \n",
    "                with torch.cuda.amp.autocast():\n",
    "                    latents = pipe.vae.encode(images).latent_dist.sample()\n",
    "                    latents = latents * pipe.vae.config.scaling_factor\n",
    "\n",
    "                    noise = torch.randn_like(latents)\n",
    "                    timesteps = torch.randint(\n",
    "                        0, noise_scheduler.num_train_timesteps, \n",
    "                        (latents.shape[0],), device=pipe.device\n",
    "                    ).long()\n",
    "\n",
    "                    noisy_latents = noise_scheduler.add_noise(latents, noise, timesteps)\n",
    "\n",
    "                    text_inputs = pipe.tokenizer(\n",
    "                        captions,\n",
    "                        padding=\"max_length\",\n",
    "                        max_length=pipe.tokenizer.model_max_length,\n",
    "                        truncation=True,\n",
    "                        return_tensors=\"pt\"\n",
    "                    )\n",
    "                    text_embeddings = pipe.text_encoder(text_inputs.input_ids.to(pipe.device))[0]\n",
    "\n",
    "                    noise_pred = pipe.unet(\n",
    "                        noisy_latents,\n",
    "                        timesteps,\n",
    "                        encoder_hidden_states=text_embeddings\n",
    "                    ).sample\n",
    "\n",
    "                    loss = loss_fn(noise_pred, noise)\n",
    "                    loss = loss / grad_accumulation_steps\n",
    "                    loss.backward()\n",
    "\n",
    "                if (batch_idx + 1) % grad_accumulation_steps == 0:\n",
    "                    torch.nn.utils.clip_grad_norm_(pipe.unet.parameters(), 1.0)\n",
    "                    optimizer.step()\n",
    "                    optimizer.zero_grad()\n",
    "\n",
    "                progress_bar.set_postfix({\"loss\": loss.item() * grad_accumulation_steps})\n",
    "                \n",
    "            except Exception as e:\n",
    "                warnings.warn(f\"Error in batch {batch_idx}: {str(e)}\")\n",
    "                optimizer.zero_grad()  # Reset gradients\n",
    "                continue  # Skip this batch\n",
    "\n",
    "        # Save checkpoint after each epoch\n",
    "        try:\n",
    "            pipe.unet.save_pretrained(f\"./checkpoint_epoch_{epoch+1}\")\n",
    "        except Exception as e:\n",
    "            warnings.warn(f\"Couldn't save checkpoint: {str(e)}\")\n",
    "\n",
    "        # Inference with error handling\n",
    "        try:\n",
    "            pipe.unet.eval()\n",
    "            with torch.no_grad():\n",
    "                for i, prompt in enumerate(demo_prompts):\n",
    "                    try:\n",
    "                        image = pipe(\n",
    "                            prompt,\n",
    "                            num_inference_steps=50,\n",
    "                            guidance_scale=7.5,\n",
    "                            height=512,\n",
    "                            width=512,\n",
    "                            generator=fixed_generator\n",
    "                        ).images[0]\n",
    "                        image.save(f\"training_progress/epoch_{epoch+1}_prompt_{i}.png\")\n",
    "                    except Exception as e:\n",
    "                        warnings.warn(f\"Couldn't generate image for prompt {i}: {str(e)}\")\n",
    "        finally:\n",
    "            pipe.unet.train()\n",
    "\n",
    "    # Final save\n",
    "    lora_save_path = \"./utkface_lora\"\n",
    "    pipe.unet.save_pretrained(lora_save_path)\n",
    "    print(f\"✅ Training complete! LoRA weights saved to {lora_save_path}\")\n",
    "\n",
    "except Exception as e:\n",
    "    print(f\"Critical error: {str(e)}\")\n",
    "    # Attempt to save any progress\n",
    "    try:\n",
    "        if 'pipe' in locals():\n",
    "            pipe.unet.save_pretrained(\"./emergency_save\")\n",
    "            print(\"Emergency save completed\")\n",
    "    except Exception as save_error:\n",
    "        print(f\"Couldn't save progress: {str(save_error)}\")\n",
    "finally:\n",
    "    # Cleanup if needed\n",
    "    pass"
   ]
  },
  {
   "cell_type": "code",
   "execution_count": 20,
   "id": "472188b8-0b65-420e-8be4-b618ba0d4f9f",
   "metadata": {},
   "outputs": [
    {
     "data": {
      "application/vnd.jupyter.widget-view+json": {
       "model_id": "7a9d1d53281a4b7c993c765e50a93b11",
       "version_major": 2,
       "version_minor": 0
      },
      "text/plain": [
       "Loading pipeline components...:   0%|          | 0/6 [00:00<?, ?it/s]"
      ]
     },
     "metadata": {},
     "output_type": "display_data"
    },
    {
     "data": {
      "application/vnd.jupyter.widget-view+json": {
       "model_id": "a3307733829c42c3932af5d66ac26723",
       "version_major": 2,
       "version_minor": 0
      },
      "text/plain": [
       "  0%|          | 0/30 [00:00<?, ?it/s]"
      ]
     },
     "metadata": {},
     "output_type": "display_data"
    }
   ],
   "source": [
    "from diffusers import StableDiffusionPipeline\n",
    "import torch\n",
    "\n",
    "pipe = StableDiffusionPipeline.from_pretrained(\n",
    "        \"runwayml/stable-diffusion-v1-5\",\n",
    "        torch_dtype=torch.float16,\n",
    "        safety_checker=None,\n",
    "        requires_safety_checker=False\n",
    "    ).to(\"cuda\")\n",
    "\n",
    "# 2. Load the LoRA adapter\n",
    "# Point to the folder containing BOTH the .safetensors and .json files\n",
    "\"\"\"pipe.load_lora_weights(\n",
    "    \"/home/justin.aj/DFRL/new_method/utkface_lora_v1\",\n",
    "    weight_name=\"adapter_model.safetensors\",\n",
    "    local_files_only=True\n",
    ")\n",
    "\n",
    "# 3. Enable the LoRA adapter\n",
    "pipe.fuse_lora()\"\"\"\n",
    "\n",
    "# 4. Inference!\n",
    "prompt = \"photo of a 100 year old Indian woman with wrinkles and gray hair.\"\n",
    "with torch.no_grad():\n",
    "    image = pipe(prompt=prompt, num_inference_steps=30).images[0]\n",
    "\n",
    "# 5. Display or save\n",
    "image.show()\n",
    "# or\n",
    "image.save(\"output_image.png\")"
   ]
  },
  {
   "cell_type": "code",
   "execution_count": 9,
   "id": "440fa5d8-4120-43d6-860a-49fbe744686e",
   "metadata": {},
   "outputs": [
    {
     "data": {
      "application/vnd.jupyter.widget-view+json": {
       "model_id": "b40503f51a8742c0a714ea198274f39a",
       "version_major": 2,
       "version_minor": 0
      },
      "text/plain": [
       "diffusion_pytorch_model.safetensors:   0%|          | 0.00/1.72G [00:00<?, ?B/s]"
      ]
     },
     "metadata": {},
     "output_type": "display_data"
    },
    {
     "data": {
      "application/vnd.jupyter.widget-view+json": {
       "model_id": "a0166e04045e499ba08e6027f85252af",
       "version_major": 2,
       "version_minor": 0
      },
      "text/plain": [
       "model.safetensors:   0%|          | 0.00/246M [00:00<?, ?B/s]"
      ]
     },
     "metadata": {},
     "output_type": "display_data"
    },
    {
     "data": {
      "application/vnd.jupyter.widget-view+json": {
       "model_id": "ae6b6532d3f24abe8e6a9c32fbe54e38",
       "version_major": 2,
       "version_minor": 0
      },
      "text/plain": [
       "diffusion_pytorch_model.safetensors:   0%|          | 0.00/167M [00:00<?, ?B/s]"
      ]
     },
     "metadata": {},
     "output_type": "display_data"
    },
    {
     "data": {
      "application/vnd.jupyter.widget-view+json": {
       "model_id": "d292c80481d14cbda229a43d55a2d4a5",
       "version_major": 2,
       "version_minor": 0
      },
      "text/plain": [
       "Upload 3 LFS files:   0%|          | 0/3 [00:00<?, ?it/s]"
      ]
     },
     "metadata": {},
     "output_type": "display_data"
    },
    {
     "data": {
      "text/plain": [
       "CommitInfo(commit_url='https://huggingface.co/justin-aj/utkface-lora-v1/commit/fa420bde5497ff87b9120537b1d53509f29153ba', commit_message='Upload StableDiffusionPipeline', commit_description='', oid='fa420bde5497ff87b9120537b1d53509f29153ba', pr_url=None, repo_url=RepoUrl('https://huggingface.co/justin-aj/utkface-lora-v1', endpoint='https://huggingface.co', repo_type='model', repo_id='justin-aj/utkface-lora-v1'), pr_revision=None, pr_num=None)"
      ]
     },
     "execution_count": 9,
     "metadata": {},
     "output_type": "execute_result"
    }
   ],
   "source": [
    "\n",
    "\n",
    "# save locally\n",
    "# model.save_pretrained(\"my-awesome-model\")\n",
    "\n",
    "# push to the hub\n",
    "pipe.push_to_hub(\"justin-aj/utkface-lora-v1\")\n",
    "\n",
    "# reload\n"
   ]
  },
  {
   "cell_type": "code",
   "execution_count": 36,
   "id": "b135e6fd-0ac4-4539-8444-9324210e0e90",
   "metadata": {},
   "outputs": [
    {
     "name": "stdout",
     "output_type": "stream",
     "text": [
      "Using CUDA: NVIDIA A100-SXM4-80GB\n"
     ]
    },
    {
     "data": {
      "application/vnd.jupyter.widget-view+json": {
       "model_id": "3ccee4f2778b4b0cbf8d82c950bedc5b",
       "version_major": 2,
       "version_minor": 0
      },
      "text/plain": [
       "Loading pipeline components...:   0%|          | 0/6 [00:00<?, ?it/s]"
      ]
     },
     "metadata": {},
     "output_type": "display_data"
    },
    {
     "data": {
      "application/vnd.jupyter.widget-view+json": {
       "model_id": "bf80dad4cf7941b9a9e59488f5be69b0",
       "version_major": 2,
       "version_minor": 0
      },
      "text/plain": [
       "Loading pipeline components...:   0%|          | 0/6 [00:00<?, ?it/s]"
      ]
     },
     "metadata": {},
     "output_type": "display_data"
    },
    {
     "name": "stderr",
     "output_type": "stream",
     "text": [
      "No LoRA keys associated to UNet2DConditionModel found with the prefix='unet'. This is safe to ignore if LoRA state dict didn't originally have any UNet2DConditionModel related params. You can also try specifying `prefix=None` to resolve the warning. Otherwise, open an issue if you think it's unexpected: https://github.com/huggingface/diffusers/issues/new\n",
      "No LoRA keys associated to CLIPTextModel found with the prefix='text_encoder'. This is safe to ignore if LoRA state dict didn't originally have any CLIPTextModel related params. You can also try specifying `prefix=None` to resolve the warning. Otherwise, open an issue if you think it's unexpected: https://github.com/huggingface/diffusers/issues/new\n"
     ]
    },
    {
     "data": {
      "application/vnd.jupyter.widget-view+json": {
       "model_id": "27a9b442a7cb4c16bb176f44384c6ca3",
       "version_major": 2,
       "version_minor": 0
      },
      "text/plain": [
       "  0%|          | 0/50 [00:00<?, ?it/s]"
      ]
     },
     "metadata": {},
     "output_type": "display_data"
    },
    {
     "data": {
      "application/vnd.jupyter.widget-view+json": {
       "model_id": "b5e06f710f454366bf73cb79cb2574f5",
       "version_major": 2,
       "version_minor": 0
      },
      "text/plain": [
       "  0%|          | 0/50 [00:00<?, ?it/s]"
      ]
     },
     "metadata": {},
     "output_type": "display_data"
    },
    {
     "name": "stdout",
     "output_type": "stream",
     "text": [
      "Prompt: photo of a 26 year old male\n",
      "Base CLIP Score: 26.20\n",
      "LoRA CLIP Score: 29.16\n",
      "--------------------------------------------------\n"
     ]
    },
    {
     "data": {
      "application/vnd.jupyter.widget-view+json": {
       "model_id": "41111d88c5e64d39a96685d1e828c6a4",
       "version_major": 2,
       "version_minor": 0
      },
      "text/plain": [
       "  0%|          | 0/50 [00:00<?, ?it/s]"
      ]
     },
     "metadata": {},
     "output_type": "display_data"
    },
    {
     "data": {
      "application/vnd.jupyter.widget-view+json": {
       "model_id": "eed0f2ebd02c4891b060685e8fbf4a4b",
       "version_major": 2,
       "version_minor": 0
      },
      "text/plain": [
       "  0%|          | 0/50 [00:00<?, ?it/s]"
      ]
     },
     "metadata": {},
     "output_type": "display_data"
    },
    {
     "name": "stdout",
     "output_type": "stream",
     "text": [
      "Prompt: photo of a 25 year old female\n",
      "Base CLIP Score: 24.84\n",
      "LoRA CLIP Score: 25.30\n",
      "--------------------------------------------------\n"
     ]
    },
    {
     "data": {
      "application/vnd.jupyter.widget-view+json": {
       "model_id": "89c95f97eacf4965a16816a3cf54b2c0",
       "version_major": 2,
       "version_minor": 0
      },
      "text/plain": [
       "  0%|          | 0/50 [00:00<?, ?it/s]"
      ]
     },
     "metadata": {},
     "output_type": "display_data"
    },
    {
     "data": {
      "application/vnd.jupyter.widget-view+json": {
       "model_id": "28d3e29d25b449f087458fa93f0d75e3",
       "version_major": 2,
       "version_minor": 0
      },
      "text/plain": [
       "  0%|          | 0/50 [00:00<?, ?it/s]"
      ]
     },
     "metadata": {},
     "output_type": "display_data"
    },
    {
     "name": "stdout",
     "output_type": "stream",
     "text": [
      "Prompt: photo of a 24 year old female\n",
      "Base CLIP Score: 25.38\n",
      "LoRA CLIP Score: 26.80\n",
      "--------------------------------------------------\n"
     ]
    },
    {
     "data": {
      "application/vnd.jupyter.widget-view+json": {
       "model_id": "0c8518e0ed6b4999aab6ef383d820b18",
       "version_major": 2,
       "version_minor": 0
      },
      "text/plain": [
       "  0%|          | 0/50 [00:00<?, ?it/s]"
      ]
     },
     "metadata": {},
     "output_type": "display_data"
    },
    {
     "data": {
      "application/vnd.jupyter.widget-view+json": {
       "model_id": "927c7f83d7de4a87abed7315def4f2e3",
       "version_major": 2,
       "version_minor": 0
      },
      "text/plain": [
       "  0%|          | 0/50 [00:00<?, ?it/s]"
      ]
     },
     "metadata": {},
     "output_type": "display_data"
    },
    {
     "name": "stdout",
     "output_type": "stream",
     "text": [
      "Prompt: photo of a 1 year old male\n",
      "Base CLIP Score: 26.11\n",
      "LoRA CLIP Score: 24.09\n",
      "--------------------------------------------------\n"
     ]
    },
    {
     "data": {
      "application/vnd.jupyter.widget-view+json": {
       "model_id": "4942422d3c2247cab035ef82df7b1186",
       "version_major": 2,
       "version_minor": 0
      },
      "text/plain": [
       "  0%|          | 0/50 [00:00<?, ?it/s]"
      ]
     },
     "metadata": {},
     "output_type": "display_data"
    },
    {
     "data": {
      "application/vnd.jupyter.widget-view+json": {
       "model_id": "81bfdca7f7584b9985b8227da38fc788",
       "version_major": 2,
       "version_minor": 0
      },
      "text/plain": [
       "  0%|          | 0/50 [00:00<?, ?it/s]"
      ]
     },
     "metadata": {},
     "output_type": "display_data"
    },
    {
     "name": "stdout",
     "output_type": "stream",
     "text": [
      "Prompt: photo of a dog\n",
      "Base CLIP Score: 27.73\n",
      "LoRA CLIP Score: 24.80\n",
      "--------------------------------------------------\n"
     ]
    },
    {
     "data": {
      "application/vnd.jupyter.widget-view+json": {
       "model_id": "f5f4719f2c4145689710cfb4942ddc8e",
       "version_major": 2,
       "version_minor": 0
      },
      "text/plain": [
       "  0%|          | 0/50 [00:00<?, ?it/s]"
      ]
     },
     "metadata": {},
     "output_type": "display_data"
    },
    {
     "data": {
      "application/vnd.jupyter.widget-view+json": {
       "model_id": "66f2e4cdf2e942b7bcfbce43a1b349b4",
       "version_major": 2,
       "version_minor": 0
      },
      "text/plain": [
       "  0%|          | 0/50 [00:00<?, ?it/s]"
      ]
     },
     "metadata": {},
     "output_type": "display_data"
    },
    {
     "name": "stdout",
     "output_type": "stream",
     "text": [
      "Prompt: photo of a green car\n",
      "Base CLIP Score: 30.93\n",
      "LoRA CLIP Score: 30.44\n",
      "--------------------------------------------------\n"
     ]
    },
    {
     "data": {
      "application/vnd.jupyter.widget-view+json": {
       "model_id": "1d83ed318ca04e8b80934dee56f526bc",
       "version_major": 2,
       "version_minor": 0
      },
      "text/plain": [
       "  0%|          | 0/50 [00:00<?, ?it/s]"
      ]
     },
     "metadata": {},
     "output_type": "display_data"
    },
    {
     "data": {
      "application/vnd.jupyter.widget-view+json": {
       "model_id": "2fc82a247f1641d7ad2d94e6171dd22d",
       "version_major": 2,
       "version_minor": 0
      },
      "text/plain": [
       "  0%|          | 0/50 [00:00<?, ?it/s]"
      ]
     },
     "metadata": {},
     "output_type": "display_data"
    },
    {
     "name": "stdout",
     "output_type": "stream",
     "text": [
      "Prompt: photo of a bike\n",
      "Base CLIP Score: 29.54\n",
      "LoRA CLIP Score: 28.23\n",
      "--------------------------------------------------\n"
     ]
    },
    {
     "data": {
      "image/png": "[encoded data removed]",
      "text/plain": [
       "<Figure size 720x360 with 1 Axes>"
      ]
     },
     "metadata": {
      "needs_background": "light"
     },
     "output_type": "display_data"
    },
    {
     "data": {
      "application/vnd.jupyter.widget-view+json": {
       "model_id": "26d13e4ad7f74b8f966de7bd89a4d72a",
       "version_major": 2,
       "version_minor": 0
      },
      "text/plain": [
       "  0%|          | 0/50 [00:00<?, ?it/s]"
      ]
     },
     "metadata": {},
     "output_type": "display_data"
    },
    {
     "data": {
      "application/vnd.jupyter.widget-view+json": {
       "model_id": "aa7eaad146b44131b8a34a8f9cadd2b1",
       "version_major": 2,
       "version_minor": 0
      },
      "text/plain": [
       "  0%|          | 0/50 [00:00<?, ?it/s]"
      ]
     },
     "metadata": {},
     "output_type": "display_data"
    },
    {
     "name": "stdout",
     "output_type": "stream",
     "text": [
      "Base Model Inference Time: 1.52 seconds\n",
      "LoRA Model Inference Time: 1.51 seconds\n"
     ]
    }
   ],
   "source": [
    "import torch\n",
    "from diffusers import StableDiffusionPipeline\n",
    "from PIL import Image\n",
    "import os\n",
    "from transformers import CLIPProcessor, CLIPModel\n",
    "from tqdm import tqdm\n",
    "import matplotlib.pyplot as plt\n",
    "\n",
    "# Check CUDA availability\n",
    "if torch.cuda.is_available():\n",
    "    device = \"cuda\"\n",
    "    print(f\"Using CUDA: {torch.cuda.get_device_name(0)}\")\n",
    "else:\n",
    "    device = \"cpu\"\n",
    "    print(\"CUDA not available. Using CPU.\")\n",
    "\n",
    "# --- Model Loading ---\n",
    "# Base model\n",
    "base_pipe = StableDiffusionPipeline.from_pretrained(\n",
    "    \"runwayml/stable-diffusion-v1-5\",\n",
    "    torch_dtype=torch.float16,\n",
    "    safety_checker=None,\n",
    "    requires_safety_checker=False\n",
    ").to(device)\n",
    "\n",
    "# Fine-tuned model with LoRA\n",
    "lora_pipe = StableDiffusionPipeline.from_pretrained(\n",
    "    \"runwayml/stable-diffusion-v1-5\",\n",
    "    torch_dtype=torch.float16,\n",
    "    safety_checker=None,\n",
    "    requires_safety_checker=False\n",
    ").to(device)\n",
    "lora_pipe.load_lora_weights(\n",
    "    \"/home/justin.aj/DFRL/new_method/utkface_lora_v1\",\n",
    "    weight_name=\"adapter_model.safetensors\",\n",
    "    local_files_only=True\n",
    ")\n",
    "\n",
    "# 3. Enable the LoRA adapter\n",
    "lora_pipe.fuse_lora()\n",
    "\n",
    "# --- CLIP Model for Evaluation ---\n",
    "clip_model = CLIPModel.from_pretrained(\"openai/clip-vit-base-patch32\").to(device)\n",
    "clip_processor = CLIPProcessor.from_pretrained(\"openai/clip-vit-base-patch32\")\n",
    "\n",
    "# --- Prompts for Comparison ---\n",
    "prompts = [\n",
    "    \"photo of a 26 year old male\",\n",
    "    \"photo of a 25 year old female\",\n",
    "    \"photo of a 24 year old female\",\n",
    "    \"photo of a 1 year old male\",\n",
    "    \"photo of a dog\",  # Out-of-domain prompt to test generalization\n",
    "    \"photo of a green car\",\n",
    "    \"photo of a bike\"\n",
    "]\n",
    "fixed_generator = torch.Generator(device=device).manual_seed(42)\n",
    "\n",
    "# --- Output Directory ---\n",
    "os.makedirs(\"comparison_images\", exist_ok=True)\n",
    "\n",
    "# --- Image Generation and CLIP Score Calculation ---\n",
    "clip_scores = {\"base\": [], \"lora\": []}\n",
    "for prompt in prompts:\n",
    "    # Generate images\n",
    "    base_image = base_pipe(\n",
    "        prompt,\n",
    "        num_inference_steps=50,\n",
    "        guidance_scale=7.5,\n",
    "        height=512,\n",
    "        width=512,\n",
    "        generator=fixed_generator\n",
    "    ).images[0]\n",
    "    \n",
    "    lora_image = lora_pipe(\n",
    "        prompt,\n",
    "        num_inference_steps=50,\n",
    "        guidance_scale=7.5,\n",
    "        height=512,\n",
    "        width=512,\n",
    "        generator=fixed_generator\n",
    "    ).images[0]\n",
    "    \n",
    "    # Save images\n",
    "    base_image.save(f\"comparison_images/base_{prompt.replace(' ', '_')}.png\")\n",
    "    lora_image.save(f\"comparison_images/lora_{prompt.replace(' ', '_')}.png\")\n",
    "    \n",
    "    # Compute CLIP score\n",
    "    inputs = clip_processor(text=[prompt], images=[base_image, lora_image], return_tensors=\"pt\", padding=True).to(device)\n",
    "    outputs = clip_model(**inputs)\n",
    "    logits_per_image = outputs.logits_per_image  # [2, 1] for two images\n",
    "    clip_scores[\"base\"].append(logits_per_image[0].item())\n",
    "    clip_scores[\"lora\"].append(logits_per_image[1].item())\n",
    "    \n",
    "    print(f\"Prompt: {prompt}\")\n",
    "    print(f\"Base CLIP Score: {clip_scores['base'][-1]:.2f}\")\n",
    "    print(f\"LoRA CLIP Score: {clip_scores['lora'][-1]:.2f}\")\n",
    "    print(\"-\" * 50)\n",
    "\n",
    "# --- Visualize CLIP Scores ---\n",
    "plt.figure(figsize=(10, 5))\n",
    "plt.bar(range(len(prompts)), clip_scores[\"base\"], alpha=0.4, label=\"Base Model\")\n",
    "plt.bar(range(len(prompts)), clip_scores[\"lora\"], alpha=0.4, label=\"LoRA Fine-Tuned\")\n",
    "plt.xticks(range(len(prompts)), prompts, rotation=45, ha=\"right\")\n",
    "plt.ylabel(\"CLIP Score\")\n",
    "plt.title(\"CLIP Score Comparison: Base vs. LoRA Fine-Tuned\")\n",
    "plt.legend()\n",
    "plt.tight_layout()\n",
    "plt.savefig(\"comparison_images/clip_score_comparison.png\")\n",
    "plt.show()\n",
    "\n",
    "# --- Optional: Measure Inference Time ---\n",
    "import time\n",
    "\n",
    "start_time = time.time()\n",
    "base_pipe(prompts[0], num_inference_steps=50, generator=fixed_generator)\n",
    "base_time = time.time() - start_time\n",
    "\n",
    "start_time = time.time()\n",
    "lora_pipe(prompts[0], num_inference_steps=50, generator=fixed_generator)\n",
    "lora_time = time.time() - start_time\n",
    "\n",
    "print(f\"Base Model Inference Time: {base_time:.2f} seconds\")\n",
    "print(f\"LoRA Model Inference Time: {lora_time:.2f} seconds\")"
   ]
  },
  {
   "cell_type": "code",
   "execution_count": 30,
   "id": "b4b7ee7f-6708-457c-8fb7-5f6cafb133af",
   "metadata": {},
   "outputs": [
    {
     "name": "stdout",
     "output_type": "stream",
     "text": [
      "Warning: Looks like you're using an outdated `kagglehub` version, please consider updating (latest version: 0.3.11)\n",
      "Caption Distribution:\n",
      "photo of a 26 year old female: 1242 (5.24%)\n",
      "photo of a 26 year old male: 955 (4.03%)\n",
      "photo of a 1 year old male: 645 (2.72%)\n",
      "photo of a 24 year old female: 595 (2.51%)\n",
      "photo of a 35 year old male: 537 (2.27%)\n",
      "photo of a 1 year old female: 478 (2.02%)\n",
      "photo of a 28 year old male: 478 (2.02%)\n",
      "photo of a 25 year old female: 446 (1.88%)\n",
      "photo of a 28 year old female: 440 (1.86%)\n",
      "photo of a 30 year old female: 377 (1.59%)\n",
      "photo of a 30 year old male: 347 (1.46%)\n",
      "photo of a 40 year old male: 346 (1.46%)\n",
      "photo of a 35 year old female: 343 (1.45%)\n",
      "photo of a 32 year old female: 334 (1.41%)\n",
      "photo of a 45 year old male: 333 (1.40%)\n",
      "photo of a 32 year old male: 330 (1.39%)\n",
      "photo of a 27 year old female: 316 (1.33%)\n",
      "photo of a 27 year old male: 299 (1.26%)\n",
      "photo of a 25 year old male: 288 (1.21%)\n",
      "photo of a 36 year old male: 288 (1.21%)\n",
      "photo of a 23 year old female: 286 (1.21%)\n",
      "photo of a 29 year old male: 285 (1.20%)\n",
      "photo of a 29 year old female: 285 (1.20%)\n",
      "photo of a 50 year old male: 283 (1.19%)\n",
      "photo of a 54 year old male: 269 (1.13%)\n",
      "photo of a 24 year old male: 264 (1.11%)\n",
      "photo of a 22 year old female: 260 (1.10%)\n",
      "photo of a 2 year old female: 254 (1.07%)\n",
      "photo of a 34 year old male: 253 (1.07%)\n",
      "photo of a 58 year old male: 229 (0.97%)\n",
      "photo of a 2 year old male: 228 (0.96%)\n",
      "photo of a 21 year old female: 227 (0.96%)\n",
      "photo of a 55 year old male: 211 (0.89%)\n",
      "photo of a 8 year old female: 196 (0.83%)\n",
      "photo of a 36 year old female: 195 (0.82%)\n",
      "photo of a 3 year old female: 192 (0.81%)\n",
      "photo of a 18 year old female: 185 (0.78%)\n",
      "photo of a 20 year old female: 185 (0.78%)\n",
      "photo of a 37 year old male: 182 (0.77%)\n",
      "photo of a 31 year old female: 180 (0.76%)\n",
      "photo of a 40 year old female: 180 (0.76%)\n",
      "photo of a 42 year old male: 172 (0.73%)\n",
      "photo of a 65 year old male: 171 (0.72%)\n",
      "photo of a 31 year old male: 170 (0.72%)\n",
      "photo of a 52 year old male: 169 (0.71%)\n",
      "photo of a 4 year old female: 165 (0.70%)\n",
      "photo of a 60 year old male: 165 (0.70%)\n",
      "photo of a 38 year old female: 163 (0.69%)\n",
      "photo of a 38 year old male: 162 (0.68%)\n",
      "photo of a 34 year old female: 156 (0.66%)\n",
      "photo of a 39 year old male: 146 (0.62%)\n",
      "photo of a 53 year old male: 144 (0.61%)\n",
      "photo of a 23 year old male: 140 (0.59%)\n",
      "photo of a 56 year old male: 137 (0.58%)\n",
      "photo of a 9 year old male: 136 (0.57%)\n",
      "photo of a 22 year old male: 135 (0.57%)\n",
      "photo of a 16 year old male: 133 (0.56%)\n",
      "photo of a 60 year old female: 128 (0.54%)\n",
      "photo of a 47 year old male: 126 (0.53%)\n",
      "photo of a 61 year old male: 121 (0.51%)\n",
      "photo of a 39 year old female: 120 (0.51%)\n",
      "photo of a 21 year old male: 119 (0.50%)\n",
      "photo of a 5 year old female: 118 (0.50%)\n",
      "photo of a 85 year old female: 115 (0.49%)\n",
      "photo of a 16 year old female: 114 (0.48%)\n",
      "photo of a 37 year old female: 111 (0.47%)\n",
      "photo of a 75 year old male: 109 (0.46%)\n",
      "photo of a 4 year old male: 108 (0.46%)\n",
      "photo of a 45 year old female: 107 (0.45%)\n",
      "photo of a 48 year old male: 105 (0.44%)\n",
      "photo of a 43 year old male: 102 (0.43%)\n",
      "photo of a 6 year old female: 102 (0.43%)\n",
      "photo of a 20 year old male: 99 (0.42%)\n",
      "photo of a 46 year old male: 99 (0.42%)\n",
      "photo of a 56 year old female: 99 (0.42%)\n",
      "photo of a 50 year old female: 98 (0.41%)\n",
      "photo of a 3 year old male: 97 (0.41%)\n",
      "photo of a 51 year old male: 97 (0.41%)\n",
      "photo of a 53 year old female: 97 (0.41%)\n",
      "photo of a 70 year old male: 97 (0.41%)\n",
      "photo of a 15 year old female: 94 (0.40%)\n",
      "photo of a 42 year old female: 94 (0.40%)\n",
      "photo of a 10 year old male: 91 (0.38%)\n",
      "photo of a 65 year old female: 88 (0.37%)\n",
      "photo of a 12 year old female: 87 (0.37%)\n",
      "photo of a 41 year old male: 87 (0.37%)\n",
      "photo of a 62 year old male: 86 (0.36%)\n",
      "photo of a 54 year old female: 84 (0.35%)\n",
      "photo of a 15 year old male: 83 (0.35%)\n",
      "photo of a 17 year old female: 83 (0.35%)\n",
      "photo of a 14 year old female: 82 (0.35%)\n",
      "photo of a 33 year old female: 81 (0.34%)\n",
      "photo of a 7 year old female: 80 (0.34%)\n",
      "photo of a 49 year old male: 79 (0.33%)\n",
      "photo of a 80 year old male: 79 (0.33%)\n",
      "photo of a 5 year old male: 78 (0.33%)\n",
      "photo of a 63 year old male: 78 (0.33%)\n",
      "photo of a 18 year old male: 77 (0.32%)\n",
      "photo of a 14 year old male: 75 (0.32%)\n",
      "photo of a 17 year old male: 75 (0.32%)\n",
      "photo of a 44 year old male: 70 (0.30%)\n",
      "photo of a 68 year old male: 70 (0.30%)\n",
      "photo of a 49 year old female: 69 (0.29%)\n",
      "photo of a 8 year old male: 67 (0.28%)\n",
      "photo of a 67 year old male: 66 (0.28%)\n",
      "photo of a 10 year old female: 65 (0.27%)\n",
      "photo of a 52 year old female: 63 (0.27%)\n",
      "photo of a 57 year old male: 63 (0.27%)\n",
      "photo of a 33 year old male: 62 (0.26%)\n",
      "photo of a 7 year old male: 59 (0.25%)\n",
      "photo of a 19 year old female: 58 (0.24%)\n",
      "photo of a 55 year old female: 57 (0.24%)\n",
      "photo of a 59 year old male: 57 (0.24%)\n",
      "photo of a 43 year old female: 55 (0.23%)\n",
      "photo of a 46 year old female: 54 (0.23%)\n",
      "photo of a 80 year old female: 54 (0.23%)\n",
      "photo of a 78 year old male: 51 (0.22%)\n",
      "photo of a 70 year old female: 50 (0.21%)\n",
      "photo of a 72 year old male: 50 (0.21%)\n",
      "photo of a 48 year old female: 48 (0.20%)\n",
      "photo of a 72 year old female: 48 (0.20%)\n",
      "photo of a 90 year old male: 47 (0.20%)\n",
      "photo of a 41 year old female: 45 (0.19%)\n",
      "photo of a 47 year old female: 44 (0.19%)\n",
      "photo of a 12 year old male: 43 (0.18%)\n",
      "photo of a 13 year old female: 43 (0.18%)\n",
      "photo of a 66 year old female: 43 (0.18%)\n",
      "photo of a 58 year old female: 42 (0.18%)\n",
      "photo of a 51 year old female: 41 (0.17%)\n",
      "photo of a 19 year old male: 40 (0.17%)\n",
      "photo of a 61 year old female: 40 (0.17%)\n",
      "photo of a 85 year old male: 40 (0.17%)\n",
      "photo of a 11 year old female: 39 (0.16%)\n",
      "photo of a 62 year old female: 39 (0.16%)\n",
      "photo of a 75 year old female: 39 (0.16%)\n",
      "photo of a 13 year old male: 38 (0.16%)\n",
      "photo of a 69 year old female: 37 (0.16%)\n",
      "photo of a 73 year old male: 35 (0.15%)\n",
      "photo of a 90 year old female: 35 (0.15%)\n",
      "photo of a 57 year old female: 34 (0.14%)\n",
      "photo of a 64 year old male: 34 (0.14%)\n",
      "photo of a 66 year old male: 34 (0.14%)\n",
      "photo of a 76 year old male: 32 (0.13%)\n",
      "photo of a 44 year old female: 30 (0.13%)\n",
      "photo of a 68 year old female: 30 (0.13%)\n",
      "photo of a 9 year old female: 30 (0.13%)\n",
      "photo of a 6 year old male: 29 (0.12%)\n",
      "photo of a 67 year old female: 28 (0.12%)\n",
      "photo of a 73 year old female: 28 (0.12%)\n",
      "photo of a 82 year old male: 27 (0.11%)\n",
      "photo of a 11 year old male: 26 (0.11%)\n",
      "photo of a 76 year old female: 26 (0.11%)\n",
      "photo of a 59 year old female: 25 (0.11%)\n",
      "photo of a 63 year old female: 25 (0.11%)\n",
      "photo of a 88 year old female: 24 (0.10%)\n",
      "photo of a 84 year old female: 22 (0.09%)\n",
      "photo of a 86 year old female: 21 (0.09%)\n",
      "photo of a 89 year old female: 21 (0.09%)\n",
      "photo of a 74 year old male: 20 (0.08%)\n",
      "photo of a 69 year old male: 19 (0.08%)\n",
      "photo of a 71 year old male: 19 (0.08%)\n",
      "photo of a 78 year old female: 18 (0.08%)\n",
      "photo of a 96 year old female: 17 (0.07%)\n",
      "photo of a 64 year old female: 16 (0.07%)\n",
      "photo of a 81 year old female: 15 (0.06%)\n",
      "photo of a 71 year old female: 14 (0.06%)\n",
      "photo of a 77 year old male: 14 (0.06%)\n",
      "photo of a 77 year old female: 14 (0.06%)\n",
      "photo of a 86 year old male: 14 (0.06%)\n",
      "photo of a 79 year old male: 13 (0.05%)\n",
      "photo of a 82 year old female: 13 (0.05%)\n",
      "photo of a 74 year old female: 12 (0.05%)\n",
      "photo of a 89 year old male: 12 (0.05%)\n",
      "photo of a 79 year old female: 10 (0.04%)\n",
      "photo of a 83 year old female: 10 (0.04%)\n",
      "photo of a 88 year old male: 10 (0.04%)\n",
      "photo of a 92 year old female: 10 (0.04%)\n",
      "photo of a 100 year old female: 9 (0.04%)\n",
      "photo of a 95 year old female: 9 (0.04%)\n",
      "photo of a 83 year old male: 8 (0.03%)\n",
      "photo of a 99 year old female: 8 (0.03%)\n",
      "photo of a 81 year old male: 7 (0.03%)\n",
      "photo of a 87 year old female: 6 (0.03%)\n",
      "photo of a 93 year old female: 5 (0.02%)\n",
      "photo of a 105 year old female: 4 (0.02%)\n",
      "photo of a 116 year old female: 4 (0.02%)\n",
      "photo of a 87 year old male: 4 (0.02%)\n",
      "photo of a 110 year old female: 3 (0.01%)\n",
      "photo of a 115 year old female: 3 (0.01%)\n",
      "photo of a 92 year old male: 3 (0.01%)\n",
      "photo of a 100 year old male: 2 (0.01%)\n",
      "photo of a 110 year old male: 2 (0.01%)\n",
      "photo of a 84 year old male: 2 (0.01%)\n",
      "photo of a 101 year old male: 1 (0.00%)\n",
      "photo of a 101 year old female: 1 (0.00%)\n",
      "photo of a 103 year old male: 1 (0.00%)\n",
      "photo of a 105 year old male: 1 (0.00%)\n",
      "photo of a 111 year old female: 1 (0.00%)\n",
      "photo of a 91 year old male: 1 (0.00%)\n",
      "photo of a 91 year old female: 1 (0.00%)\n",
      "photo of a 99 year old male: 1 (0.00%)\n",
      "\n",
      "Gender Distribution:\n",
      "male: 12391 (52.27%)\n",
      "female: 11317 (47.73%)\n",
      "\n",
      "Age Distribution (Top 10):\n",
      "Age 26: 2197 (9.27%)\n",
      "Age 1: 1123 (4.74%)\n",
      "Age 28: 918 (3.87%)\n",
      "Age 35: 880 (3.71%)\n",
      "Age 24: 859 (3.62%)\n",
      "Age 25: 734 (3.10%)\n",
      "Age 30: 724 (3.05%)\n",
      "Age 32: 664 (2.80%)\n",
      "Age 27: 615 (2.59%)\n",
      "Age 29: 570 (2.40%)\n",
      "\n",
      "Age-Gender Distribution (Top 10):\n",
      "26_female: 1242 (5.24%)\n",
      "26_male: 955 (4.03%)\n",
      "1_male: 645 (2.72%)\n",
      "24_female: 595 (2.51%)\n",
      "35_male: 537 (2.27%)\n",
      "1_female: 478 (2.02%)\n",
      "28_male: 478 (2.02%)\n",
      "25_female: 446 (1.88%)\n",
      "28_female: 440 (1.86%)\n",
      "30_female: 377 (1.59%)\n"
     ]
    },
    {
     "data": {
      "image/png": "[encoded data removed]",
      "text/plain": [
       "<Figure size 720x360 with 2 Axes>"
      ]
     },
     "metadata": {
      "needs_background": "light"
     },
     "output_type": "display_data"
    },
    {
     "data": {
      "image/png": "[encoded data removed]",
      "text/plain": [
       "<Figure size 864x432 with 1 Axes>"
      ]
     },
     "metadata": {
      "needs_background": "light"
     },
     "output_type": "display_data"
    }
   ],
   "source": [
    "import os\n",
    "import warnings\n",
    "from collections import Counter\n",
    "import matplotlib.pyplot as plt\n",
    "from torch.utils.data import Dataset\n",
    "from PIL import Image\n",
    "from torchvision import transforms\n",
    "import kagglehub\n",
    "\n",
    "# UTKFaceDataset class (as provided)\n",
    "class UTKFaceDataset(Dataset):\n",
    "    def __init__(self, image_folder, caption_folder, resolution=512):\n",
    "        self.image_paths = []\n",
    "        self.caption_data = {}\n",
    "        \n",
    "        # Scan image folder\n",
    "        for f in os.listdir(image_folder):\n",
    "            if f.lower().endswith((\".jpg\", \".jpeg\", \".png\", \".chip.jpg\")):\n",
    "                img_path = os.path.join(image_folder, f)\n",
    "                self.image_paths.append(img_path)\n",
    "                \n",
    "                # Generate caption if missing\n",
    "                base_name = os.path.basename(f)\n",
    "                if base_name.endswith('.chip.jpg'):\n",
    "                    caption_base = base_name.replace('.chip.jpg', '')\n",
    "                else:\n",
    "                    caption_base = os.path.splitext(base_name)[0]\n",
    "                \n",
    "                caption_path = os.path.join(caption_folder, f\"{caption_base}.txt\")\n",
    "                \n",
    "                # Create caption if file doesn't exist\n",
    "                if not os.path.exists(caption_path):\n",
    "                    try:\n",
    "                        parts = base_name.split('_')\n",
    "                        if len(parts) >= 3:  # Format: age_gender_race_date.jpg\n",
    "                            age = parts[0]\n",
    "                            gender = 'male' if parts[1] == '0' else 'female'\n",
    "                            caption = f\"photo of a {age} year old {gender}\"\n",
    "                            with open(caption_path, 'w') as f:\n",
    "                                f.write(caption)\n",
    "                    except Exception as e:\n",
    "                        caption = \"photo of a person\"\n",
    "                        warnings.warn(f\"Couldn't generate caption for {base_name}: {str(e)}\")\n",
    "                \n",
    "                # Store caption data\n",
    "                self.caption_data[img_path] = caption_path\n",
    "\n",
    "        self.transform = transforms.Compose([\n",
    "            transforms.Resize(resolution),\n",
    "            transforms.CenterCrop(resolution),\n",
    "            transforms.ToTensor(),\n",
    "            transforms.Normalize([0.5], [0.5])\n",
    "        ])\n",
    "\n",
    "    def __len__(self):\n",
    "        return len(self.image_paths)\n",
    "\n",
    "    def __getitem__(self, idx):\n",
    "        img_path = self.image_paths[idx]\n",
    "        \n",
    "        # Load image with error handling\n",
    "        try:\n",
    "            image = Image.open(img_path).convert(\"RGB\")\n",
    "            image = self.transform(image)\n",
    "        except Exception as e:\n",
    "            warnings.warn(f\"Error loading image {img_path}: {str(e)}\")\n",
    "            # Return dummy data that won't affect training much\n",
    "            image = torch.zeros(3, 512, 512)\n",
    "            caption = \"photo of a person\"\n",
    "            return image, caption\n",
    "        \n",
    "        # Get caption with error handling\n",
    "        caption_path = self.caption_data[img_path]\n",
    "        try:\n",
    "            with open(caption_path, \"r\") as f:\n",
    "                caption = f.read().strip()\n",
    "        except Exception as e:\n",
    "            warnings.warn(f\"Error loading caption for {img_path}: {str(e)}\")\n",
    "            caption = \"photo of a person\"\n",
    "        \n",
    "        return image, caption\n",
    "\n",
    "# --- Dataset Setup ---\n",
    "dataset_path = kagglehub.dataset_download(\"jangedoo/utkface-new\")\n",
    "image_folder = os.path.join(dataset_path, \"utkface_aligned_cropped/UTKFace\")\n",
    "caption_folder = os.path.join(image_folder, \"captions\")\n",
    "\n",
    "# Initialize dataset\n",
    "dataset = UTKFaceDataset(image_folder, caption_folder)\n",
    "\n",
    "# --- Extract Captions ---\n",
    "captions = []\n",
    "for idx in range(len(dataset)):\n",
    "    try:\n",
    "        _, caption = dataset[idx]\n",
    "        captions.append(caption)\n",
    "    except Exception as e:\n",
    "        print(f\"Error processing index {idx}: {str(e)}\")\n",
    "\n",
    "# --- Analyze Class Balance ---\n",
    "# Count captions\n",
    "caption_counts = Counter(captions)\n",
    "\n",
    "# Extract age and gender distributions\n",
    "age_counts = Counter()\n",
    "gender_counts = Counter()\n",
    "age_gender_counts = Counter()\n",
    "\n",
    "for caption in captions:\n",
    "    if caption == \"photo of a person\":\n",
    "        continue  # Skip generic captions\n",
    "    parts = caption.split()\n",
    "    age = parts[3]  # \"photo of a {age} year old {gender}\"\n",
    "    gender = parts[6]\n",
    "    age_counts[age] += 1\n",
    "    gender_counts[gender] += 1\n",
    "    age_gender_counts[f\"{age}_{gender}\"] += 1\n",
    "\n",
    "# --- Print Results ---\n",
    "print(\"Caption Distribution:\")\n",
    "for caption, count in caption_counts.most_common():\n",
    "    print(f\"{caption}: {count} ({count/len(captions)*100:.2f}%)\")\n",
    "\n",
    "print(\"\\nGender Distribution:\")\n",
    "for gender, count in gender_counts.most_common():\n",
    "    print(f\"{gender}: {count} ({count/len(captions)*100:.2f}%)\")\n",
    "\n",
    "print(\"\\nAge Distribution (Top 10):\")\n",
    "for age, count in age_counts.most_common(10):\n",
    "    print(f\"Age {age}: {count} ({count/len(captions)*100:.2f}%)\")\n",
    "\n",
    "print(\"\\nAge-Gender Distribution (Top 10):\")\n",
    "for age_gender, count in age_gender_counts.most_common(10):\n",
    "    print(f\"{age_gender}: {count} ({count/len(captions)*100:.2f}%)\")"
   ]
  },
  {
   "cell_type": "code",
   "execution_count": 45,
   "id": "9918635a-2b44-46e1-bafd-e2e692dac408",
   "metadata": {},
   "outputs": [
    {
     "data": {
      "image/png": "[encoded data removed]",
      "text/plain": [
       "<Figure size 2880x432 with 1 Axes>"
      ]
     },
     "metadata": {
      "needs_background": "light"
     },
     "output_type": "display_data"
    },
    {
     "data": {
      "image/png": "[encoded data removed]",
      "text/plain": [
       "<Figure size 1440x432 with 1 Axes>"
      ]
     },
     "metadata": {
      "needs_background": "light"
     },
     "output_type": "display_data"
    }
   ],
   "source": [
    "# --- Visualize Distributions ---\n",
    "# Gender Distribution\n",
    "plt.figure(figsize=(40, 6))\n",
    "genders, gender_vals = zip(*gender_counts.most_common())\n",
    "plt.bar(genders, gender_vals)\n",
    "plt.title(\"Gender Distribution\")\n",
    "plt.xlabel(\"Gender\")\n",
    "plt.ylabel(\"Count\")\n",
    "\n",
    "# Age Distribution\n",
    "plt.subplot(1, 2, 2)\n",
    "ages, age_vals = zip(*sorted(age_counts.items(), key=lambda x: int(x[0])))\n",
    "plt.bar(ages, age_vals)\n",
    "plt.title(\"Age Distribution\")\n",
    "plt.xlabel(\"Age\")\n",
    "plt.ylabel(\"Count\")\n",
    "plt.xticks(rotation=45, ha=\"right\")\n",
    "plt.tight_layout()\n",
    "plt.savefig(\"utkface_class_balance.png\")\n",
    "plt.show()\n",
    "\n",
    "# Optional: Age-Gender Stacked Bar\n",
    "age_gender_data = {}\n",
    "for age_gender, count in age_gender_counts.items():\n",
    "    age, gender = age_gender.split('_')\n",
    "    if age not in age_gender_data:\n",
    "        age_gender_data[age] = {'male': 0, 'female': 0}\n",
    "    age_gender_data[age][gender] = count\n",
    "\n",
    "ages = sorted(age_gender_data.keys(), key=int)\n",
    "male_counts = [age_gender_data[age]['male'] for age in ages]\n",
    "female_counts = [age_gender_data[age]['female'] for age in ages]\n",
    "\n",
    "plt.figure(figsize=(20, 6))\n",
    "plt.bar(ages, male_counts, label=\"Male\", alpha=0.5)\n",
    "plt.bar(ages, female_counts, bottom=male_counts, label=\"Female\", alpha=0.5)\n",
    "plt.title(\"Age-Gender Distribution\")\n",
    "plt.xlabel(\"Age\")\n",
    "plt.ylabel(\"Count\")\n",
    "plt.legend()\n",
    "plt.xticks(rotation=45, ha=\"right\")\n",
    "plt.tight_layout()\n",
    "plt.savefig(\"utkface_age_gender_balance.png\")\n",
    "plt.show()"
   ]
  },
  {
   "cell_type": "code",
   "execution_count": 61,
   "id": "b7b458c2-a377-44bc-a8bb-7bec7bbac458",
   "metadata": {},
   "outputs": [
    {
     "name": "stdout",
     "output_type": "stream",
     "text": [
      "Warning: Looks like you're using an outdated `kagglehub` version, please consider updating (latest version: 0.3.11)\n"
     ]
    },
    {
     "data": {
      "application/vnd.jupyter.widget-view+json": {
       "model_id": "93ffb1bad2b34f2faa6d15b83b7e5993",
       "version_major": 2,
       "version_minor": 0
      },
      "text/plain": [
       "Loading pipeline components...:   0%|          | 0/6 [00:00<?, ?it/s]"
      ]
     },
     "metadata": {},
     "output_type": "display_data"
    },
    {
     "name": "stderr",
     "output_type": "stream",
     "text": [
      "No LoRA keys associated to UNet2DConditionModel found with the prefix='unet'. This is safe to ignore if LoRA state dict didn't originally have any UNet2DConditionModel related params. You can also try specifying `prefix=None` to resolve the warning. Otherwise, open an issue if you think it's unexpected: https://github.com/huggingface/diffusers/issues/new\n",
      "No LoRA keys associated to CLIPTextModel found with the prefix='text_encoder'. This is safe to ignore if LoRA state dict didn't originally have any CLIPTextModel related params. You can also try specifying `prefix=None` to resolve the warning. Otherwise, open an issue if you think it's unexpected: https://github.com/huggingface/diffusers/issues/new\n"
     ]
    },
    {
     "name": "stdout",
     "output_type": "stream",
     "text": [
      "Processing 9_0_2_20170110215518068.jpg (age 9 to 29)...\n"
     ]
    },
    {
     "data": {
      "application/vnd.jupyter.widget-view+json": {
       "model_id": "1d88fb0a55f540fc9dfc35fe8ba16464",
       "version_major": 2,
       "version_minor": 0
      },
      "text/plain": [
       "  0%|          | 0/35 [00:00<?, ?it/s]"
      ]
     },
     "metadata": {},
     "output_type": "display_data"
    },
    {
     "name": "stdout",
     "output_type": "stream",
     "text": [
      "Saved side-by-side image to aged_images/9_0_2_20170110215518068_aged_29_side_by_side.jpg\n",
      "Processing 8_1_2_20170109205424712.jpg (age 8 to 28)...\n"
     ]
    },
    {
     "data": {
      "application/vnd.jupyter.widget-view+json": {
       "model_id": "4e508b1397c740ac9b1d01025c28c133",
       "version_major": 2,
       "version_minor": 0
      },
      "text/plain": [
       "  0%|          | 0/35 [00:00<?, ?it/s]"
      ]
     },
     "metadata": {},
     "output_type": "display_data"
    },
    {
     "name": "stdout",
     "output_type": "stream",
     "text": [
      "Saved side-by-side image to aged_images/8_1_2_20170109205424712_aged_28_side_by_side.jpg\n",
      "Processing 12_1_2_20170109203838187.jpg (age 12 to 32)...\n"
     ]
    },
    {
     "data": {
      "application/vnd.jupyter.widget-view+json": {
       "model_id": "1441f243fab94c2ba4b02af89f0bc811",
       "version_major": 2,
       "version_minor": 0
      },
      "text/plain": [
       "  0%|          | 0/35 [00:00<?, ?it/s]"
      ]
     },
     "metadata": {},
     "output_type": "display_data"
    },
    {
     "name": "stdout",
     "output_type": "stream",
     "text": [
      "Saved side-by-side image to aged_images/12_1_2_20170109203838187_aged_32_side_by_side.jpg\n",
      "Processing 13_0_2_20170103201143159.jpg (age 13 to 33)...\n"
     ]
    },
    {
     "data": {
      "application/vnd.jupyter.widget-view+json": {
       "model_id": "6b90091e35734c4db66f2fb582f9e144",
       "version_major": 2,
       "version_minor": 0
      },
      "text/plain": [
       "  0%|          | 0/35 [00:00<?, ?it/s]"
      ]
     },
     "metadata": {},
     "output_type": "display_data"
    },
    {
     "name": "stdout",
     "output_type": "stream",
     "text": [
      "Saved side-by-side image to aged_images/13_0_2_20170103201143159_aged_33_side_by_side.jpg\n",
      "Processing 24_1_2_20170109213251114.jpg (age 24 to 44)...\n"
     ]
    },
    {
     "data": {
      "application/vnd.jupyter.widget-view+json": {
       "model_id": "32286155f3bc45cebc76495ffa04ff35",
       "version_major": 2,
       "version_minor": 0
      },
      "text/plain": [
       "  0%|          | 0/35 [00:00<?, ?it/s]"
      ]
     },
     "metadata": {},
     "output_type": "display_data"
    },
    {
     "name": "stdout",
     "output_type": "stream",
     "text": [
      "Saved side-by-side image to aged_images/24_1_2_20170109213251114_aged_44_side_by_side.jpg\n",
      "Processing 66_0_2_20170111205753656.jpg (age 66 to 86)...\n"
     ]
    },
    {
     "data": {
      "application/vnd.jupyter.widget-view+json": {
       "model_id": "1338beced7644990ba414736db20899c",
       "version_major": 2,
       "version_minor": 0
      },
      "text/plain": [
       "  0%|          | 0/35 [00:00<?, ?it/s]"
      ]
     },
     "metadata": {},
     "output_type": "display_data"
    },
    {
     "name": "stdout",
     "output_type": "stream",
     "text": [
      "Saved side-by-side image to aged_images/66_0_2_20170111205753656_aged_86_side_by_side.jpg\n",
      "Processing 65_0_2_20170111205651706.jpg (age 65 to 85)...\n"
     ]
    },
    {
     "data": {
      "application/vnd.jupyter.widget-view+json": {
       "model_id": "13482458784442e28abd85ac37236733",
       "version_major": 2,
       "version_minor": 0
      },
      "text/plain": [
       "  0%|          | 0/35 [00:00<?, ?it/s]"
      ]
     },
     "metadata": {},
     "output_type": "display_data"
    },
    {
     "name": "stdout",
     "output_type": "stream",
     "text": [
      "Saved side-by-side image to aged_images/65_0_2_20170111205651706_aged_85_side_by_side.jpg\n",
      "Processing 69_1_2_20170111210824053.jpg (age 69 to 89)...\n"
     ]
    },
    {
     "data": {
      "application/vnd.jupyter.widget-view+json": {
       "model_id": "8c4a60dba8d04c1f9a0168cc663e2e0d",
       "version_major": 2,
       "version_minor": 0
      },
      "text/plain": [
       "  0%|          | 0/35 [00:00<?, ?it/s]"
      ]
     },
     "metadata": {},
     "output_type": "display_data"
    },
    {
     "name": "stdout",
     "output_type": "stream",
     "text": [
      "Saved side-by-side image to aged_images/69_1_2_20170111210824053_aged_89_side_by_side.jpg\n",
      "Processing 76_1_2_20170110182935621.jpg (age 76 to 96)...\n"
     ]
    },
    {
     "data": {
      "application/vnd.jupyter.widget-view+json": {
       "model_id": "b92bcb7699fe4fcc8f6ea7c6017e57fe",
       "version_major": 2,
       "version_minor": 0
      },
      "text/plain": [
       "  0%|          | 0/35 [00:00<?, ?it/s]"
      ]
     },
     "metadata": {},
     "output_type": "display_data"
    },
    {
     "name": "stdout",
     "output_type": "stream",
     "text": [
      "Saved side-by-side image to aged_images/76_1_2_20170110182935621_aged_96_side_by_side.jpg\n",
      "Processing 75_0_2_20170111210029130.jpg (age 75 to 95)...\n"
     ]
    },
    {
     "data": {
      "application/vnd.jupyter.widget-view+json": {
       "model_id": "49e2fa87d30545178e6a9d9ce73d2433",
       "version_major": 2,
       "version_minor": 0
      },
      "text/plain": [
       "  0%|          | 0/35 [00:00<?, ?it/s]"
      ]
     },
     "metadata": {},
     "output_type": "display_data"
    },
    {
     "name": "stdout",
     "output_type": "stream",
     "text": [
      "Saved side-by-side image to aged_images/75_0_2_20170111210029130_aged_95_side_by_side.jpg\n",
      "Processing 85_1_2_20170110175723033.jpg (age 85 to 105)...\n"
     ]
    },
    {
     "data": {
      "application/vnd.jupyter.widget-view+json": {
       "model_id": "271b13a6e0794274af42df8a527cb4ff",
       "version_major": 2,
       "version_minor": 0
      },
      "text/plain": [
       "  0%|          | 0/35 [00:00<?, ?it/s]"
      ]
     },
     "metadata": {},
     "output_type": "display_data"
    },
    {
     "name": "stdout",
     "output_type": "stream",
     "text": [
      "Saved side-by-side image to aged_images/85_1_2_20170110175723033_aged_105_side_by_side.jpg\n",
      "Processing 82_0_2_20170111210110290.jpg (age 82 to 102)...\n"
     ]
    },
    {
     "data": {
      "application/vnd.jupyter.widget-view+json": {
       "model_id": "033736105c72461ba8c1ab8a2efee43e",
       "version_major": 2,
       "version_minor": 0
      },
      "text/plain": [
       "  0%|          | 0/35 [00:00<?, ?it/s]"
      ]
     },
     "metadata": {},
     "output_type": "display_data"
    },
    {
     "name": "stdout",
     "output_type": "stream",
     "text": [
      "Saved side-by-side image to aged_images/82_0_2_20170111210110290_aged_102_side_by_side.jpg\n",
      "Processing 85_1_2_20170110181640900.jpg (age 85 to 105)...\n"
     ]
    },
    {
     "data": {
      "application/vnd.jupyter.widget-view+json": {
       "model_id": "afdcb8f8906d42efaf8e06d8bf6cd843",
       "version_major": 2,
       "version_minor": 0
      },
      "text/plain": [
       "  0%|          | 0/35 [00:00<?, ?it/s]"
      ]
     },
     "metadata": {},
     "output_type": "display_data"
    },
    {
     "name": "stdout",
     "output_type": "stream",
     "text": [
      "Saved side-by-side image to aged_images/85_1_2_20170110181640900_aged_105_side_by_side.jpg\n",
      "Processing 80_0_2_20170111210646563.jpg (age 80 to 100)...\n"
     ]
    },
    {
     "data": {
      "application/vnd.jupyter.widget-view+json": {
       "model_id": "ec1c215f8af4499282f82a9143d88561",
       "version_major": 2,
       "version_minor": 0
      },
      "text/plain": [
       "  0%|          | 0/35 [00:00<?, ?it/s]"
      ]
     },
     "metadata": {},
     "output_type": "display_data"
    },
    {
     "name": "stdout",
     "output_type": "stream",
     "text": [
      "Saved side-by-side image to aged_images/80_0_2_20170111210646563_aged_100_side_by_side.jpg\n",
      "Processing 86_0_2_20170111210346308.jpg (age 86 to 106)...\n"
     ]
    },
    {
     "data": {
      "application/vnd.jupyter.widget-view+json": {
       "model_id": "2ad5c8a63d6942b0aae8410b0bc5ae39",
       "version_major": 2,
       "version_minor": 0
      },
      "text/plain": [
       "  0%|          | 0/35 [00:00<?, ?it/s]"
      ]
     },
     "metadata": {},
     "output_type": "display_data"
    },
    {
     "name": "stdout",
     "output_type": "stream",
     "text": [
      "Saved side-by-side image to aged_images/86_0_2_20170111210346308_aged_106_side_by_side.jpg\n",
      "Processing 96_1_2_20170110182504813.jpg (age 96 to 116)...\n"
     ]
    },
    {
     "data": {
      "application/vnd.jupyter.widget-view+json": {
       "model_id": "b0eb3c943fc84c1bae69773ba0a52cf3",
       "version_major": 2,
       "version_minor": 0
      },
      "text/plain": [
       "  0%|          | 0/35 [00:00<?, ?it/s]"
      ]
     },
     "metadata": {},
     "output_type": "display_data"
    },
    {
     "name": "stdout",
     "output_type": "stream",
     "text": [
      "Saved side-by-side image to aged_images/96_1_2_20170110182504813_aged_116_side_by_side.jpg\n",
      "Processing 90_0_2_20170111210212331.jpg (age 90 to 110)...\n"
     ]
    },
    {
     "data": {
      "application/vnd.jupyter.widget-view+json": {
       "model_id": "e59a816c2cc7446eaf39ded0f49b6d31",
       "version_major": 2,
       "version_minor": 0
      },
      "text/plain": [
       "  0%|          | 0/35 [00:00<?, ?it/s]"
      ]
     },
     "metadata": {},
     "output_type": "display_data"
    },
    {
     "name": "stdout",
     "output_type": "stream",
     "text": [
      "Saved side-by-side image to aged_images/90_0_2_20170111210212331_aged_110_side_by_side.jpg\n",
      "Processing 90_1_2_20170111221639268.jpg (age 90 to 110)...\n"
     ]
    },
    {
     "data": {
      "application/vnd.jupyter.widget-view+json": {
       "model_id": "f310004df4c1490d9ef26f2981e84696",
       "version_major": 2,
       "version_minor": 0
      },
      "text/plain": [
       "  0%|          | 0/35 [00:00<?, ?it/s]"
      ]
     },
     "metadata": {},
     "output_type": "display_data"
    },
    {
     "name": "stdout",
     "output_type": "stream",
     "text": [
      "Saved side-by-side image to aged_images/90_1_2_20170111221639268_aged_110_side_by_side.jpg\n",
      "Processing 90_0_2_20170110183643228.jpg (age 90 to 110)...\n"
     ]
    },
    {
     "data": {
      "application/vnd.jupyter.widget-view+json": {
       "model_id": "596e726989fb4e299996ac394201a194",
       "version_major": 2,
       "version_minor": 0
      },
      "text/plain": [
       "  0%|          | 0/35 [00:00<?, ?it/s]"
      ]
     },
     "metadata": {},
     "output_type": "display_data"
    },
    {
     "name": "stdout",
     "output_type": "stream",
     "text": [
      "Saved side-by-side image to aged_images/90_0_2_20170110183643228_aged_110_side_by_side.jpg\n",
      "Processing 90_0_2_20170111210301275.jpg (age 90 to 110)...\n"
     ]
    },
    {
     "data": {
      "application/vnd.jupyter.widget-view+json": {
       "model_id": "ba37a086a5874100ab640938930e4758",
       "version_major": 2,
       "version_minor": 0
      },
      "text/plain": [
       "  0%|          | 0/35 [00:00<?, ?it/s]"
      ]
     },
     "metadata": {},
     "output_type": "display_data"
    },
    {
     "name": "stdout",
     "output_type": "stream",
     "text": [
      "Saved side-by-side image to aged_images/90_0_2_20170111210301275_aged_110_side_by_side.jpg\n",
      "Image not found: /home/justin.aj/.cache/kagglehub/datasets/jangedoo/utkface-new/versions/1/utkface_aligned_cropped/crop_part1/100_1_2_20170110182836729.jpg.chip.jpg, skipping...\n",
      "Processing 9_0_1_20170110224349623.jpg (age 9 to 29)...\n"
     ]
    },
    {
     "data": {
      "application/vnd.jupyter.widget-view+json": {
       "model_id": "3a9b22aae3fd4900b4d62de00d0cca79",
       "version_major": 2,
       "version_minor": 0
      },
      "text/plain": [
       "  0%|          | 0/35 [00:00<?, ?it/s]"
      ]
     },
     "metadata": {},
     "output_type": "display_data"
    },
    {
     "name": "stdout",
     "output_type": "stream",
     "text": [
      "Saved side-by-side image to aged_images/9_0_1_20170110224349623_aged_29_side_by_side.jpg\n",
      "Processing 1_1_1_20170109194645713.jpg (age 1 to 21)...\n"
     ]
    },
    {
     "data": {
      "application/vnd.jupyter.widget-view+json": {
       "model_id": "9c9a6451dda04cc3a4e7fbca52bd9a57",
       "version_major": 2,
       "version_minor": 0
      },
      "text/plain": [
       "  0%|          | 0/35 [00:00<?, ?it/s]"
      ]
     },
     "metadata": {},
     "output_type": "display_data"
    },
    {
     "name": "stdout",
     "output_type": "stream",
     "text": [
      "Saved side-by-side image to aged_images/1_1_1_20170109194645713_aged_21_side_by_side.jpg\n",
      "Processing 9_0_1_20170110225612237.jpg (age 9 to 29)...\n"
     ]
    },
    {
     "data": {
      "application/vnd.jupyter.widget-view+json": {
       "model_id": "f4ab2192c96c4d73a08a0d5960b8b81c",
       "version_major": 2,
       "version_minor": 0
      },
      "text/plain": [
       "  0%|          | 0/35 [00:00<?, ?it/s]"
      ]
     },
     "metadata": {},
     "output_type": "display_data"
    },
    {
     "name": "stdout",
     "output_type": "stream",
     "text": [
      "Saved side-by-side image to aged_images/9_0_1_20170110225612237_aged_29_side_by_side.jpg\n",
      "Processing 1_0_1_20170110213111809.jpg (age 1 to 21)...\n"
     ]
    },
    {
     "data": {
      "application/vnd.jupyter.widget-view+json": {
       "model_id": "0af11d75250a4a2b944bf4430bf6b4b2",
       "version_major": 2,
       "version_minor": 0
      },
      "text/plain": [
       "  0%|          | 0/35 [00:00<?, ?it/s]"
      ]
     },
     "metadata": {},
     "output_type": "display_data"
    },
    {
     "name": "stdout",
     "output_type": "stream",
     "text": [
      "Saved side-by-side image to aged_images/1_0_1_20170110213111809_aged_21_side_by_side.jpg\n",
      "Processing 3_0_1_20170110213659314.jpg (age 3 to 23)...\n"
     ]
    },
    {
     "data": {
      "application/vnd.jupyter.widget-view+json": {
       "model_id": "d715393084324b97a1573e69566d33e0",
       "version_major": 2,
       "version_minor": 0
      },
      "text/plain": [
       "  0%|          | 0/35 [00:00<?, ?it/s]"
      ]
     },
     "metadata": {},
     "output_type": "display_data"
    },
    {
     "name": "stdout",
     "output_type": "stream",
     "text": [
      "Saved side-by-side image to aged_images/3_0_1_20170110213659314_aged_23_side_by_side.jpg\n",
      "Processing 10_0_1_20170110225121326.jpg (age 10 to 30)...\n"
     ]
    },
    {
     "data": {
      "application/vnd.jupyter.widget-view+json": {
       "model_id": "89f1d6f1801f4627a4d8ca2b46c4cc8d",
       "version_major": 2,
       "version_minor": 0
      },
      "text/plain": [
       "  0%|          | 0/35 [00:00<?, ?it/s]"
      ]
     },
     "metadata": {},
     "output_type": "display_data"
    },
    {
     "name": "stdout",
     "output_type": "stream",
     "text": [
      "Saved side-by-side image to aged_images/10_0_1_20170110225121326_aged_30_side_by_side.jpg\n",
      "Processing 10_1_1_20170109203520178.jpg (age 10 to 30)...\n"
     ]
    },
    {
     "data": {
      "application/vnd.jupyter.widget-view+json": {
       "model_id": "8cb8392fbb5346bbb4369f569ab01057",
       "version_major": 2,
       "version_minor": 0
      },
      "text/plain": [
       "  0%|          | 0/35 [00:00<?, ?it/s]"
      ]
     },
     "metadata": {},
     "output_type": "display_data"
    },
    {
     "name": "stdout",
     "output_type": "stream",
     "text": [
      "Saved side-by-side image to aged_images/10_1_1_20170109203520178_aged_30_side_by_side.jpg\n",
      "Processing 30_1_1_20170110120856819.jpg (age 30 to 50)...\n"
     ]
    },
    {
     "data": {
      "application/vnd.jupyter.widget-view+json": {
       "model_id": "3e692e4fd9254ad887c1138f0443cd12",
       "version_major": 2,
       "version_minor": 0
      },
      "text/plain": [
       "  0%|          | 0/35 [00:00<?, ?it/s]"
      ]
     },
     "metadata": {},
     "output_type": "display_data"
    },
    {
     "name": "stdout",
     "output_type": "stream",
     "text": [
      "Saved side-by-side image to aged_images/30_1_1_20170110120856819_aged_50_side_by_side.jpg\n",
      "Processing 45_0_1_20170111200809203.jpg (age 45 to 65)...\n"
     ]
    },
    {
     "data": {
      "application/vnd.jupyter.widget-view+json": {
       "model_id": "3cda6f0afc2d415dae2a30d798b9ed4d",
       "version_major": 2,
       "version_minor": 0
      },
      "text/plain": [
       "  0%|          | 0/35 [00:00<?, ?it/s]"
      ]
     },
     "metadata": {},
     "output_type": "display_data"
    },
    {
     "name": "stdout",
     "output_type": "stream",
     "text": [
      "Saved side-by-side image to aged_images/45_0_1_20170111200809203_aged_65_side_by_side.jpg\n",
      "Processing 58_0_1_20170111210843429.jpg (age 58 to 78)...\n"
     ]
    },
    {
     "data": {
      "application/vnd.jupyter.widget-view+json": {
       "model_id": "d1e0c4c784244adc92a8d31b77588a21",
       "version_major": 2,
       "version_minor": 0
      },
      "text/plain": [
       "  0%|          | 0/35 [00:00<?, ?it/s]"
      ]
     },
     "metadata": {},
     "output_type": "display_data"
    },
    {
     "name": "stdout",
     "output_type": "stream",
     "text": [
      "Saved side-by-side image to aged_images/58_0_1_20170111210843429_aged_78_side_by_side.jpg\n",
      "Processing 60_1_1_20170110120140583.jpg (age 60 to 80)...\n"
     ]
    },
    {
     "data": {
      "application/vnd.jupyter.widget-view+json": {
       "model_id": "bcaae744f7344c7eb8d42237479d86b4",
       "version_major": 2,
       "version_minor": 0
      },
      "text/plain": [
       "  0%|          | 0/35 [00:00<?, ?it/s]"
      ]
     },
     "metadata": {},
     "output_type": "display_data"
    },
    {
     "name": "stdout",
     "output_type": "stream",
     "text": [
      "Saved side-by-side image to aged_images/60_1_1_20170110120140583_aged_80_side_by_side.jpg\n",
      "Processing 76_1_1_20170110181603235.jpg (age 76 to 96)...\n"
     ]
    },
    {
     "data": {
      "application/vnd.jupyter.widget-view+json": {
       "model_id": "9417bf2fe9bf4481a8308d89cc3cbe0e",
       "version_major": 2,
       "version_minor": 0
      },
      "text/plain": [
       "  0%|          | 0/35 [00:00<?, ?it/s]"
      ]
     },
     "metadata": {},
     "output_type": "display_data"
    },
    {
     "name": "stdout",
     "output_type": "stream",
     "text": [
      "Saved side-by-side image to aged_images/76_1_1_20170110181603235_aged_96_side_by_side.jpg\n",
      "Processing 75_0_1_20170111205805911.jpg (age 75 to 95)...\n"
     ]
    },
    {
     "data": {
      "application/vnd.jupyter.widget-view+json": {
       "model_id": "45dd0e41c09f47188403c91157b3e8c4",
       "version_major": 2,
       "version_minor": 0
      },
      "text/plain": [
       "  0%|          | 0/35 [00:00<?, ?it/s]"
      ]
     },
     "metadata": {},
     "output_type": "display_data"
    },
    {
     "name": "stdout",
     "output_type": "stream",
     "text": [
      "Saved side-by-side image to aged_images/75_0_1_20170111205805911_aged_95_side_by_side.jpg\n",
      "Processing 75_0_1_20170111210115928.jpg (age 75 to 95)...\n"
     ]
    },
    {
     "data": {
      "application/vnd.jupyter.widget-view+json": {
       "model_id": "95366c4d115a4f5cba592f4beb65f903",
       "version_major": 2,
       "version_minor": 0
      },
      "text/plain": [
       "  0%|          | 0/35 [00:00<?, ?it/s]"
      ]
     },
     "metadata": {},
     "output_type": "display_data"
    },
    {
     "name": "stdout",
     "output_type": "stream",
     "text": [
      "Saved side-by-side image to aged_images/75_0_1_20170111210115928_aged_95_side_by_side.jpg\n",
      "Image not found: /home/justin.aj/.cache/kagglehub/datasets/jangedoo/utkface-new/versions/1/utkface_aligned_cropped/crop_part1/75_0_1_20170111205412614.jpg.chip.jpg, skipping...\n",
      "Processing 75_0_1_20170111210049339.jpg (age 75 to 95)...\n"
     ]
    },
    {
     "data": {
      "application/vnd.jupyter.widget-view+json": {
       "model_id": "00eaf63b2afb4f3b9b64a2df931e1630",
       "version_major": 2,
       "version_minor": 0
      },
      "text/plain": [
       "  0%|          | 0/35 [00:00<?, ?it/s]"
      ]
     },
     "metadata": {},
     "output_type": "display_data"
    },
    {
     "name": "stdout",
     "output_type": "stream",
     "text": [
      "Saved side-by-side image to aged_images/75_0_1_20170111210049339_aged_95_side_by_side.jpg\n",
      "Processing 88_1_1_20170110183118502.jpg (age 88 to 108)...\n"
     ]
    },
    {
     "data": {
      "application/vnd.jupyter.widget-view+json": {
       "model_id": "19ef131127b544639742bf1d348f3b0a",
       "version_major": 2,
       "version_minor": 0
      },
      "text/plain": [
       "  0%|          | 0/35 [00:00<?, ?it/s]"
      ]
     },
     "metadata": {},
     "output_type": "display_data"
    },
    {
     "name": "stdout",
     "output_type": "stream",
     "text": [
      "Saved side-by-side image to aged_images/88_1_1_20170110183118502_aged_108_side_by_side.jpg\n",
      "Image not found: /home/justin.aj/.cache/kagglehub/datasets/jangedoo/utkface-new/versions/1/utkface_aligned_cropped/crop_part1/80_0_1_20170111205504634.jpg.chip.jpg, skipping...\n",
      "Processing 80_0_1_20170111205416943.jpg (age 80 to 100)...\n"
     ]
    },
    {
     "data": {
      "application/vnd.jupyter.widget-view+json": {
       "model_id": "c6aa25a59101496ca5189f6dd1ba7faf",
       "version_major": 2,
       "version_minor": 0
      },
      "text/plain": [
       "  0%|          | 0/35 [00:00<?, ?it/s]"
      ]
     },
     "metadata": {},
     "output_type": "display_data"
    },
    {
     "name": "stdout",
     "output_type": "stream",
     "text": [
      "Saved side-by-side image to aged_images/80_0_1_20170111205416943_aged_100_side_by_side.jpg\n",
      "Processing 85_0_1_20170111211354288.jpg (age 85 to 105)...\n"
     ]
    },
    {
     "data": {
      "application/vnd.jupyter.widget-view+json": {
       "model_id": "7c063a4b146d4ac09d7deaafa93ce500",
       "version_major": 2,
       "version_minor": 0
      },
      "text/plain": [
       "  0%|          | 0/35 [00:00<?, ?it/s]"
      ]
     },
     "metadata": {},
     "output_type": "display_data"
    },
    {
     "name": "stdout",
     "output_type": "stream",
     "text": [
      "Saved side-by-side image to aged_images/85_0_1_20170111211354288_aged_105_side_by_side.jpg\n",
      "Processing 80_0_1_20170111181750520.jpg (age 80 to 100)...\n"
     ]
    },
    {
     "data": {
      "application/vnd.jupyter.widget-view+json": {
       "model_id": "ae886c6015e24c53838ca383c54cf526",
       "version_major": 2,
       "version_minor": 0
      },
      "text/plain": [
       "  0%|          | 0/35 [00:00<?, ?it/s]"
      ]
     },
     "metadata": {},
     "output_type": "display_data"
    },
    {
     "name": "stdout",
     "output_type": "stream",
     "text": [
      "Saved side-by-side image to aged_images/80_0_1_20170111181750520_aged_100_side_by_side.jpg\n",
      "Image not found: /home/justin.aj/.cache/kagglehub/datasets/jangedoo/utkface-new/versions/1/utkface_aligned_cropped/crop_part1/90_0_1_20170111210350530.jpg.chip.jpg, skipping...\n",
      "Processing 90_0_1_20170111210246547.jpg (age 90 to 110)...\n"
     ]
    },
    {
     "data": {
      "application/vnd.jupyter.widget-view+json": {
       "model_id": "6253f67a8a6a4a1dbb146b0e687fbd52",
       "version_major": 2,
       "version_minor": 0
      },
      "text/plain": [
       "  0%|          | 0/35 [00:00<?, ?it/s]"
      ]
     },
     "metadata": {},
     "output_type": "display_data"
    },
    {
     "name": "stdout",
     "output_type": "stream",
     "text": [
      "Saved side-by-side image to aged_images/90_0_1_20170111210246547_aged_110_side_by_side.jpg\n",
      "Processing 110_1_1_20170110155201038.jpg (age 110 to 130)...\n"
     ]
    },
    {
     "data": {
      "application/vnd.jupyter.widget-view+json": {
       "model_id": "e9a12ec3aef2451fa9447f03f034be90",
       "version_major": 2,
       "version_minor": 0
      },
      "text/plain": [
       "  0%|          | 0/35 [00:00<?, ?it/s]"
      ]
     },
     "metadata": {},
     "output_type": "display_data"
    },
    {
     "name": "stdout",
     "output_type": "stream",
     "text": [
      "Saved side-by-side image to aged_images/110_1_1_20170110155201038_aged_130_side_by_side.jpg\n",
      "Processing 6_0_3_20170110213739717.jpg (age 6 to 26)...\n"
     ]
    },
    {
     "data": {
      "application/vnd.jupyter.widget-view+json": {
       "model_id": "d3c700d19b1f403b90c25ebdb9ea3daf",
       "version_major": 2,
       "version_minor": 0
      },
      "text/plain": [
       "  0%|          | 0/35 [00:00<?, ?it/s]"
      ]
     },
     "metadata": {},
     "output_type": "display_data"
    },
    {
     "name": "stdout",
     "output_type": "stream",
     "text": [
      "Saved side-by-side image to aged_images/6_0_3_20170110213739717_aged_26_side_by_side.jpg\n",
      "Processing 75_0_3_20170111202756116.jpg (age 75 to 95)...\n"
     ]
    },
    {
     "data": {
      "application/vnd.jupyter.widget-view+json": {
       "model_id": "ccd8b811f25349e5b18e61b2eb199ed4",
       "version_major": 2,
       "version_minor": 0
      },
      "text/plain": [
       "  0%|          | 0/35 [00:00<?, ?it/s]"
      ]
     },
     "metadata": {},
     "output_type": "display_data"
    },
    {
     "name": "stdout",
     "output_type": "stream",
     "text": [
      "Saved side-by-side image to aged_images/75_0_3_20170111202756116_aged_95_side_by_side.jpg\n",
      "Processing 85_1_3_20170110183506044.jpg (age 85 to 105)...\n"
     ]
    },
    {
     "data": {
      "application/vnd.jupyter.widget-view+json": {
       "model_id": "f8a178d3c8bc4988bafab774c53059fb",
       "version_major": 2,
       "version_minor": 0
      },
      "text/plain": [
       "  0%|          | 0/35 [00:00<?, ?it/s]"
      ]
     },
     "metadata": {},
     "output_type": "display_data"
    },
    {
     "name": "stdout",
     "output_type": "stream",
     "text": [
      "Saved side-by-side image to aged_images/85_1_3_20170110183506044_aged_105_side_by_side.jpg\n",
      "Processing 90_0_3_20170111210252274.jpg (age 90 to 110)...\n"
     ]
    },
    {
     "data": {
      "application/vnd.jupyter.widget-view+json": {
       "model_id": "f20ba74b6cbf48c486ec387b84e012aa",
       "version_major": 2,
       "version_minor": 0
      },
      "text/plain": [
       "  0%|          | 0/35 [00:00<?, ?it/s]"
      ]
     },
     "metadata": {},
     "output_type": "display_data"
    },
    {
     "name": "stdout",
     "output_type": "stream",
     "text": [
      "Saved side-by-side image to aged_images/90_0_3_20170111210252274_aged_110_side_by_side.jpg\n",
      "Processing 110_1_3_20170110155139762.jpg (age 110 to 130)...\n"
     ]
    },
    {
     "data": {
      "application/vnd.jupyter.widget-view+json": {
       "model_id": "b40a9e67c5ec4dd6be46c62bc367d20c",
       "version_major": 2,
       "version_minor": 0
      },
      "text/plain": [
       "  0%|          | 0/35 [00:00<?, ?it/s]"
      ]
     },
     "metadata": {},
     "output_type": "display_data"
    },
    {
     "name": "stdout",
     "output_type": "stream",
     "text": [
      "Saved side-by-side image to aged_images/110_1_3_20170110155139762_aged_130_side_by_side.jpg\n",
      "Processing 1_1_4_20170109194502921.jpg (age 1 to 21)...\n"
     ]
    },
    {
     "data": {
      "application/vnd.jupyter.widget-view+json": {
       "model_id": "fb2b1dbb2ca14c8abfa3245c56504fe0",
       "version_major": 2,
       "version_minor": 0
      },
      "text/plain": [
       "  0%|          | 0/35 [00:00<?, ?it/s]"
      ]
     },
     "metadata": {},
     "output_type": "display_data"
    },
    {
     "name": "stdout",
     "output_type": "stream",
     "text": [
      "Saved side-by-side image to aged_images/1_1_4_20170109194502921_aged_21_side_by_side.jpg\n",
      "Processing 8_1_4_20170109201742209.jpg (age 8 to 28)...\n"
     ]
    },
    {
     "data": {
      "application/vnd.jupyter.widget-view+json": {
       "model_id": "95fa551bf63041a49a130b91cda4e6fe",
       "version_major": 2,
       "version_minor": 0
      },
      "text/plain": [
       "  0%|          | 0/35 [00:00<?, ?it/s]"
      ]
     },
     "metadata": {},
     "output_type": "display_data"
    },
    {
     "name": "stdout",
     "output_type": "stream",
     "text": [
      "Saved side-by-side image to aged_images/8_1_4_20170109201742209_aged_28_side_by_side.jpg\n",
      "Processing 13_0_4_20170103201708406.jpg (age 13 to 33)...\n"
     ]
    },
    {
     "data": {
      "application/vnd.jupyter.widget-view+json": {
       "model_id": "05f95ed4d89f4c29bf063477a9d879d6",
       "version_major": 2,
       "version_minor": 0
      },
      "text/plain": [
       "  0%|          | 0/35 [00:00<?, ?it/s]"
      ]
     },
     "metadata": {},
     "output_type": "display_data"
    },
    {
     "name": "stdout",
     "output_type": "stream",
     "text": [
      "Saved side-by-side image to aged_images/13_0_4_20170103201708406_aged_33_side_by_side.jpg\n",
      "Processing 15_1_4_20170103201247846.jpg (age 15 to 35)...\n"
     ]
    },
    {
     "data": {
      "application/vnd.jupyter.widget-view+json": {
       "model_id": "1a3f7877e8dc4435a3bcbd99cf56eb12",
       "version_major": 2,
       "version_minor": 0
      },
      "text/plain": [
       "  0%|          | 0/35 [00:00<?, ?it/s]"
      ]
     },
     "metadata": {},
     "output_type": "display_data"
    },
    {
     "name": "stdout",
     "output_type": "stream",
     "text": [
      "Saved side-by-side image to aged_images/15_1_4_20170103201247846_aged_35_side_by_side.jpg\n",
      "Processing 12_0_4_20170103201824880.jpg (age 12 to 32)...\n"
     ]
    },
    {
     "data": {
      "application/vnd.jupyter.widget-view+json": {
       "model_id": "b2473d702c5748b585c8de3993406a05",
       "version_major": 2,
       "version_minor": 0
      },
      "text/plain": [
       "  0%|          | 0/35 [00:00<?, ?it/s]"
      ]
     },
     "metadata": {},
     "output_type": "display_data"
    },
    {
     "name": "stdout",
     "output_type": "stream",
     "text": [
      "Saved side-by-side image to aged_images/12_0_4_20170103201824880_aged_32_side_by_side.jpg\n",
      "Processing 13_1_4_20170103201542217.jpg (age 13 to 33)...\n"
     ]
    },
    {
     "data": {
      "application/vnd.jupyter.widget-view+json": {
       "model_id": "f75db15fbe9f455c859bcb0cb9c2462e",
       "version_major": 2,
       "version_minor": 0
      },
      "text/plain": [
       "  0%|          | 0/35 [00:00<?, ?it/s]"
      ]
     },
     "metadata": {},
     "output_type": "display_data"
    },
    {
     "name": "stdout",
     "output_type": "stream",
     "text": [
      "Saved side-by-side image to aged_images/13_1_4_20170103201542217_aged_33_side_by_side.jpg\n",
      "Processing 18_0_4_20170103201550447.jpg (age 18 to 38)...\n"
     ]
    },
    {
     "data": {
      "application/vnd.jupyter.widget-view+json": {
       "model_id": "557a7388705241ce9960e6b7ab4eed10",
       "version_major": 2,
       "version_minor": 0
      },
      "text/plain": [
       "  0%|          | 0/35 [00:00<?, ?it/s]"
      ]
     },
     "metadata": {},
     "output_type": "display_data"
    },
    {
     "name": "stdout",
     "output_type": "stream",
     "text": [
      "Saved side-by-side image to aged_images/18_0_4_20170103201550447_aged_38_side_by_side.jpg\n",
      "Processing 63_1_4_20170110180156105.jpg (age 63 to 83)...\n"
     ]
    },
    {
     "data": {
      "application/vnd.jupyter.widget-view+json": {
       "model_id": "29dba2eda09441818b5f100699e34398",
       "version_major": 2,
       "version_minor": 0
      },
      "text/plain": [
       "  0%|          | 0/35 [00:00<?, ?it/s]"
      ]
     },
     "metadata": {},
     "output_type": "display_data"
    },
    {
     "name": "stdout",
     "output_type": "stream",
     "text": [
      "Saved side-by-side image to aged_images/63_1_4_20170110180156105_aged_83_side_by_side.jpg\n",
      "Processing 80_1_4_20170110184132973.jpg (age 80 to 100)...\n"
     ]
    },
    {
     "data": {
      "application/vnd.jupyter.widget-view+json": {
       "model_id": "291a3f1465c940e88f9b9a17bbcc8910",
       "version_major": 2,
       "version_minor": 0
      },
      "text/plain": [
       "  0%|          | 0/35 [00:00<?, ?it/s]"
      ]
     },
     "metadata": {},
     "output_type": "display_data"
    },
    {
     "name": "stdout",
     "output_type": "stream",
     "text": [
      "Saved side-by-side image to aged_images/80_1_4_20170110184132973_aged_100_side_by_side.jpg\n",
      "Processing 8_1_0_20170109202339392.jpg (age 8 to 28)...\n"
     ]
    },
    {
     "data": {
      "application/vnd.jupyter.widget-view+json": {
       "model_id": "d9dc4d1cdd4c44cd8233bb6f6d185a5c",
       "version_major": 2,
       "version_minor": 0
      },
      "text/plain": [
       "  0%|          | 0/35 [00:00<?, ?it/s]"
      ]
     },
     "metadata": {},
     "output_type": "display_data"
    },
    {
     "name": "stdout",
     "output_type": "stream",
     "text": [
      "Saved side-by-side image to aged_images/8_1_0_20170109202339392_aged_28_side_by_side.jpg\n",
      "Processing 3_1_0_20170109192939414.jpg (age 3 to 23)...\n"
     ]
    },
    {
     "data": {
      "application/vnd.jupyter.widget-view+json": {
       "model_id": "c6fbdfdb083c4216ad97c0f8a9ab5eba",
       "version_major": 2,
       "version_minor": 0
      },
      "text/plain": [
       "  0%|          | 0/35 [00:00<?, ?it/s]"
      ]
     },
     "metadata": {},
     "output_type": "display_data"
    },
    {
     "name": "stdout",
     "output_type": "stream",
     "text": [
      "Saved side-by-side image to aged_images/3_1_0_20170109192939414_aged_23_side_by_side.jpg\n",
      "Processing 8_1_0_20170109204836782.jpg (age 8 to 28)...\n"
     ]
    },
    {
     "data": {
      "application/vnd.jupyter.widget-view+json": {
       "model_id": "a9a1c49d63d1459dbd3b23047a07334b",
       "version_major": 2,
       "version_minor": 0
      },
      "text/plain": [
       "  0%|          | 0/35 [00:00<?, ?it/s]"
      ]
     },
     "metadata": {},
     "output_type": "display_data"
    },
    {
     "name": "stdout",
     "output_type": "stream",
     "text": [
      "Saved side-by-side image to aged_images/8_1_0_20170109204836782_aged_28_side_by_side.jpg\n",
      "Processing 9_0_0_20170110215523228.jpg (age 9 to 29)...\n"
     ]
    },
    {
     "data": {
      "application/vnd.jupyter.widget-view+json": {
       "model_id": "6db1ebb01d034934a04629e30733f386",
       "version_major": 2,
       "version_minor": 0
      },
      "text/plain": [
       "  0%|          | 0/35 [00:00<?, ?it/s]"
      ]
     },
     "metadata": {},
     "output_type": "display_data"
    },
    {
     "name": "stdout",
     "output_type": "stream",
     "text": [
      "Saved side-by-side image to aged_images/9_0_0_20170110215523228_aged_29_side_by_side.jpg\n",
      "Processing 4_0_0_20170110205422145.jpg (age 4 to 24)...\n"
     ]
    },
    {
     "data": {
      "application/vnd.jupyter.widget-view+json": {
       "model_id": "81a152ccfbaa4423bcbfd1d6b517fe53",
       "version_major": 2,
       "version_minor": 0
      },
      "text/plain": [
       "  0%|          | 0/35 [00:00<?, ?it/s]"
      ]
     },
     "metadata": {},
     "output_type": "display_data"
    },
    {
     "name": "stdout",
     "output_type": "stream",
     "text": [
      "Saved side-by-side image to aged_images/4_0_0_20170110205422145_aged_24_side_by_side.jpg\n",
      "Processing 18_1_0_20170109214700491.jpg (age 18 to 38)...\n"
     ]
    },
    {
     "data": {
      "application/vnd.jupyter.widget-view+json": {
       "model_id": "3d2ad698d89c40c4864258b11423b108",
       "version_major": 2,
       "version_minor": 0
      },
      "text/plain": [
       "  0%|          | 0/35 [00:00<?, ?it/s]"
      ]
     },
     "metadata": {},
     "output_type": "display_data"
    },
    {
     "name": "stdout",
     "output_type": "stream",
     "text": [
      "Saved side-by-side image to aged_images/18_1_0_20170109214700491_aged_38_side_by_side.jpg\n",
      "Processing 17_0_0_20170110231535087.jpg (age 17 to 37)...\n"
     ]
    },
    {
     "data": {
      "application/vnd.jupyter.widget-view+json": {
       "model_id": "77c13c517bad4702906053101ece71d5",
       "version_major": 2,
       "version_minor": 0
      },
      "text/plain": [
       "  0%|          | 0/35 [00:00<?, ?it/s]"
      ]
     },
     "metadata": {},
     "output_type": "display_data"
    },
    {
     "name": "stdout",
     "output_type": "stream",
     "text": [
      "Saved side-by-side image to aged_images/17_0_0_20170110231535087_aged_37_side_by_side.jpg\n",
      "Processing 18_1_0_20170109214309566.jpg (age 18 to 38)...\n"
     ]
    },
    {
     "data": {
      "application/vnd.jupyter.widget-view+json": {
       "model_id": "3c161a8b465940809a4a8e0337efb7bc",
       "version_major": 2,
       "version_minor": 0
      },
      "text/plain": [
       "  0%|          | 0/35 [00:00<?, ?it/s]"
      ]
     },
     "metadata": {},
     "output_type": "display_data"
    },
    {
     "name": "stdout",
     "output_type": "stream",
     "text": [
      "Saved side-by-side image to aged_images/18_1_0_20170109214309566_aged_38_side_by_side.jpg\n",
      "Processing 14_1_0_20170109212926958.jpg (age 14 to 34)...\n"
     ]
    },
    {
     "data": {
      "application/vnd.jupyter.widget-view+json": {
       "model_id": "f3d12d82f913418d82c3660f5a465cbb",
       "version_major": 2,
       "version_minor": 0
      },
      "text/plain": [
       "  0%|          | 0/35 [00:00<?, ?it/s]"
      ]
     },
     "metadata": {},
     "output_type": "display_data"
    },
    {
     "name": "stdout",
     "output_type": "stream",
     "text": [
      "Saved side-by-side image to aged_images/14_1_0_20170109212926958_aged_34_side_by_side.jpg\n",
      "Processing 14_1_0_20170109213541777.jpg (age 14 to 34)...\n"
     ]
    },
    {
     "data": {
      "application/vnd.jupyter.widget-view+json": {
       "model_id": "272e56feda3d4e019c5bd36374a22532",
       "version_major": 2,
       "version_minor": 0
      },
      "text/plain": [
       "  0%|          | 0/35 [00:00<?, ?it/s]"
      ]
     },
     "metadata": {},
     "output_type": "display_data"
    },
    {
     "name": "stdout",
     "output_type": "stream",
     "text": [
      "Saved side-by-side image to aged_images/14_1_0_20170109213541777_aged_34_side_by_side.jpg\n",
      "Processing 20_1_0_20170103201716816.jpg (age 20 to 40)...\n"
     ]
    },
    {
     "data": {
      "application/vnd.jupyter.widget-view+json": {
       "model_id": "e0b84c46a4814dc9b9e019c77f8b3401",
       "version_major": 2,
       "version_minor": 0
      },
      "text/plain": [
       "  0%|          | 0/35 [00:00<?, ?it/s]"
      ]
     },
     "metadata": {},
     "output_type": "display_data"
    },
    {
     "name": "stdout",
     "output_type": "stream",
     "text": [
      "Saved side-by-side image to aged_images/20_1_0_20170103201716816_aged_40_side_by_side.jpg\n",
      "Processing 20_1_0_20170109213411083.jpg (age 20 to 40)...\n"
     ]
    },
    {
     "data": {
      "application/vnd.jupyter.widget-view+json": {
       "model_id": "16be269c527443a1a5954327ff3824fa",
       "version_major": 2,
       "version_minor": 0
      },
      "text/plain": [
       "  0%|          | 0/35 [00:00<?, ?it/s]"
      ]
     },
     "metadata": {},
     "output_type": "display_data"
    },
    {
     "name": "stdout",
     "output_type": "stream",
     "text": [
      "Saved side-by-side image to aged_images/20_1_0_20170109213411083_aged_40_side_by_side.jpg\n",
      "Processing 23_0_0_20170111181750321.jpg (age 23 to 43)...\n"
     ]
    },
    {
     "data": {
      "application/vnd.jupyter.widget-view+json": {
       "model_id": "d55b3dd3bc7542a8af3dca6f056f3b91",
       "version_major": 2,
       "version_minor": 0
      },
      "text/plain": [
       "  0%|          | 0/35 [00:00<?, ?it/s]"
      ]
     },
     "metadata": {},
     "output_type": "display_data"
    },
    {
     "name": "stdout",
     "output_type": "stream",
     "text": [
      "Saved side-by-side image to aged_images/23_0_0_20170111181750321_aged_43_side_by_side.jpg\n",
      "Processing 45_1_0_20170109221130179.jpg (age 45 to 65)...\n"
     ]
    },
    {
     "data": {
      "application/vnd.jupyter.widget-view+json": {
       "model_id": "adb040e61b18492e86570ccbb7cc82b6",
       "version_major": 2,
       "version_minor": 0
      },
      "text/plain": [
       "  0%|          | 0/35 [00:00<?, ?it/s]"
      ]
     },
     "metadata": {},
     "output_type": "display_data"
    },
    {
     "name": "stdout",
     "output_type": "stream",
     "text": [
      "Saved side-by-side image to aged_images/45_1_0_20170109221130179_aged_65_side_by_side.jpg\n",
      "Processing 47_1_0_20170109220517890.jpg (age 47 to 67)...\n"
     ]
    },
    {
     "data": {
      "application/vnd.jupyter.widget-view+json": {
       "model_id": "e060f64925ef47fb9dd4cdc9ee17dce2",
       "version_major": 2,
       "version_minor": 0
      },
      "text/plain": [
       "  0%|          | 0/35 [00:00<?, ?it/s]"
      ]
     },
     "metadata": {},
     "output_type": "display_data"
    },
    {
     "name": "stdout",
     "output_type": "stream",
     "text": [
      "Saved side-by-side image to aged_images/47_1_0_20170109220517890_aged_67_side_by_side.jpg\n",
      "Processing 40_0_0_20170104204933500.jpg (age 40 to 60)...\n"
     ]
    },
    {
     "data": {
      "application/vnd.jupyter.widget-view+json": {
       "model_id": "8c0a02e99513444fb82937e8dfd119e6",
       "version_major": 2,
       "version_minor": 0
      },
      "text/plain": [
       "  0%|          | 0/35 [00:00<?, ?it/s]"
      ]
     },
     "metadata": {},
     "output_type": "display_data"
    },
    {
     "name": "stdout",
     "output_type": "stream",
     "text": [
      "Saved side-by-side image to aged_images/40_0_0_20170104204933500_aged_60_side_by_side.jpg\n",
      "Processing 56_1_0_20170110173815028.jpg (age 56 to 76)...\n"
     ]
    },
    {
     "data": {
      "application/vnd.jupyter.widget-view+json": {
       "model_id": "d8c061c8a6c64d2bab6f6a5f902c669b",
       "version_major": 2,
       "version_minor": 0
      },
      "text/plain": [
       "  0%|          | 0/35 [00:00<?, ?it/s]"
      ]
     },
     "metadata": {},
     "output_type": "display_data"
    },
    {
     "name": "stdout",
     "output_type": "stream",
     "text": [
      "Saved side-by-side image to aged_images/56_1_0_20170110173815028_aged_76_side_by_side.jpg\n",
      "Processing 59_1_0_20170110141359968.jpg (age 59 to 79)...\n"
     ]
    },
    {
     "data": {
      "application/vnd.jupyter.widget-view+json": {
       "model_id": "960b599fc003447fac429211fe40fc60",
       "version_major": 2,
       "version_minor": 0
      },
      "text/plain": [
       "  0%|          | 0/35 [00:00<?, ?it/s]"
      ]
     },
     "metadata": {},
     "output_type": "display_data"
    },
    {
     "name": "stdout",
     "output_type": "stream",
     "text": [
      "Saved side-by-side image to aged_images/59_1_0_20170110141359968_aged_79_side_by_side.jpg\n",
      "Processing 52_0_0_20170111195709447.jpg (age 52 to 72)...\n"
     ]
    },
    {
     "data": {
      "application/vnd.jupyter.widget-view+json": {
       "model_id": "3cb5558e12064cc69fe4ad1ee9c4e2da",
       "version_major": 2,
       "version_minor": 0
      },
      "text/plain": [
       "  0%|          | 0/35 [00:00<?, ?it/s]"
      ]
     },
     "metadata": {},
     "output_type": "display_data"
    },
    {
     "name": "stdout",
     "output_type": "stream",
     "text": [
      "Saved side-by-side image to aged_images/52_0_0_20170111195709447_aged_72_side_by_side.jpg\n",
      "Processing 53_1_0_20170110160643204.jpg (age 53 to 73)...\n"
     ]
    },
    {
     "data": {
      "application/vnd.jupyter.widget-view+json": {
       "model_id": "0fdd44b890c44ca6b10cdace16298f34",
       "version_major": 2,
       "version_minor": 0
      },
      "text/plain": [
       "  0%|          | 0/35 [00:00<?, ?it/s]"
      ]
     },
     "metadata": {},
     "output_type": "display_data"
    },
    {
     "name": "stdout",
     "output_type": "stream",
     "text": [
      "Saved side-by-side image to aged_images/53_1_0_20170110160643204_aged_73_side_by_side.jpg\n",
      "Processing 56_0_0_20170111194856535.jpg (age 56 to 76)...\n"
     ]
    },
    {
     "data": {
      "application/vnd.jupyter.widget-view+json": {
       "model_id": "2b9c8f82e0c3480d875a2260c4d838c0",
       "version_major": 2,
       "version_minor": 0
      },
      "text/plain": [
       "  0%|          | 0/35 [00:00<?, ?it/s]"
      ]
     },
     "metadata": {},
     "output_type": "display_data"
    },
    {
     "name": "stdout",
     "output_type": "stream",
     "text": [
      "Saved side-by-side image to aged_images/56_0_0_20170111194856535_aged_76_side_by_side.jpg\n",
      "Processing 65_0_0_20170111203557764.jpg (age 65 to 85)...\n"
     ]
    },
    {
     "data": {
      "application/vnd.jupyter.widget-view+json": {
       "model_id": "724daf1d524f42958d3774668485954c",
       "version_major": 2,
       "version_minor": 0
      },
      "text/plain": [
       "  0%|          | 0/35 [00:00<?, ?it/s]"
      ]
     },
     "metadata": {},
     "output_type": "display_data"
    },
    {
     "name": "stdout",
     "output_type": "stream",
     "text": [
      "Saved side-by-side image to aged_images/65_0_0_20170111203557764_aged_85_side_by_side.jpg\n",
      "Processing 65_1_0_20170110132512700.jpg (age 65 to 85)...\n"
     ]
    },
    {
     "data": {
      "application/vnd.jupyter.widget-view+json": {
       "model_id": "55936bce20194238a0dd4830079de25e",
       "version_major": 2,
       "version_minor": 0
      },
      "text/plain": [
       "  0%|          | 0/35 [00:00<?, ?it/s]"
      ]
     },
     "metadata": {},
     "output_type": "display_data"
    },
    {
     "name": "stdout",
     "output_type": "stream",
     "text": [
      "Saved side-by-side image to aged_images/65_1_0_20170110132512700_aged_85_side_by_side.jpg\n",
      "Processing 65_1_0_20170110160643938.jpg (age 65 to 85)...\n"
     ]
    },
    {
     "data": {
      "application/vnd.jupyter.widget-view+json": {
       "model_id": "d25cf638e8fe43dda6de5d29eaf97d36",
       "version_major": 2,
       "version_minor": 0
      },
      "text/plain": [
       "  0%|          | 0/35 [00:00<?, ?it/s]"
      ]
     },
     "metadata": {},
     "output_type": "display_data"
    },
    {
     "name": "stdout",
     "output_type": "stream",
     "text": [
      "Saved side-by-side image to aged_images/65_1_0_20170110160643938_aged_85_side_by_side.jpg\n",
      "Processing 64_1_0_20170110160643892.jpg (age 64 to 84)...\n"
     ]
    },
    {
     "data": {
      "application/vnd.jupyter.widget-view+json": {
       "model_id": "324cd70791924201b5464f3c2b1bd771",
       "version_major": 2,
       "version_minor": 0
      },
      "text/plain": [
       "  0%|          | 0/35 [00:00<?, ?it/s]"
      ]
     },
     "metadata": {},
     "output_type": "display_data"
    },
    {
     "name": "stdout",
     "output_type": "stream",
     "text": [
      "Saved side-by-side image to aged_images/64_1_0_20170110160643892_aged_84_side_by_side.jpg\n",
      "Processing 61_1_0_20170110160643735.jpg (age 61 to 81)...\n"
     ]
    },
    {
     "data": {
      "application/vnd.jupyter.widget-view+json": {
       "model_id": "97fb90589fd747308b7aa70b4139b182",
       "version_major": 2,
       "version_minor": 0
      },
      "text/plain": [
       "  0%|          | 0/35 [00:00<?, ?it/s]"
      ]
     },
     "metadata": {},
     "output_type": "display_data"
    },
    {
     "name": "stdout",
     "output_type": "stream",
     "text": [
      "Saved side-by-side image to aged_images/61_1_0_20170110160643735_aged_81_side_by_side.jpg\n",
      "Processing 71_1_0_20170110160644048.jpg (age 71 to 91)...\n"
     ]
    },
    {
     "data": {
      "application/vnd.jupyter.widget-view+json": {
       "model_id": "f9acd8566f1d413c99d6689908a3f712",
       "version_major": 2,
       "version_minor": 0
      },
      "text/plain": [
       "  0%|          | 0/35 [00:00<?, ?it/s]"
      ]
     },
     "metadata": {},
     "output_type": "display_data"
    },
    {
     "name": "stdout",
     "output_type": "stream",
     "text": [
      "Saved side-by-side image to aged_images/71_1_0_20170110160644048_aged_91_side_by_side.jpg\n",
      "Processing 76_0_0_20170111210148707.jpg (age 76 to 96)...\n"
     ]
    },
    {
     "data": {
      "application/vnd.jupyter.widget-view+json": {
       "model_id": "d1178789eeff4ab1a58b8d0351afe41f",
       "version_major": 2,
       "version_minor": 0
      },
      "text/plain": [
       "  0%|          | 0/35 [00:00<?, ?it/s]"
      ]
     },
     "metadata": {},
     "output_type": "display_data"
    },
    {
     "name": "stdout",
     "output_type": "stream",
     "text": [
      "Saved side-by-side image to aged_images/76_0_0_20170111210148707_aged_96_side_by_side.jpg\n",
      "Processing 77_1_0_20170110160644117.jpg (age 77 to 97)...\n"
     ]
    },
    {
     "data": {
      "application/vnd.jupyter.widget-view+json": {
       "model_id": "0d84604705ed4bea9e9676740c5c4f3f",
       "version_major": 2,
       "version_minor": 0
      },
      "text/plain": [
       "  0%|          | 0/35 [00:00<?, ?it/s]"
      ]
     },
     "metadata": {},
     "output_type": "display_data"
    },
    {
     "name": "stdout",
     "output_type": "stream",
     "text": [
      "Saved side-by-side image to aged_images/77_1_0_20170110160644117_aged_97_side_by_side.jpg\n",
      "Processing 70_0_0_20170111210749134.jpg (age 70 to 90)...\n"
     ]
    },
    {
     "data": {
      "application/vnd.jupyter.widget-view+json": {
       "model_id": "88f4c26bc3f34aa0b788a317f90aecf5",
       "version_major": 2,
       "version_minor": 0
      },
      "text/plain": [
       "  0%|          | 0/35 [00:00<?, ?it/s]"
      ]
     },
     "metadata": {},
     "output_type": "display_data"
    },
    {
     "name": "stdout",
     "output_type": "stream",
     "text": [
      "Saved side-by-side image to aged_images/70_0_0_20170111210749134_aged_90_side_by_side.jpg\n",
      "Processing 75_1_0_20170110182459565.jpg (age 75 to 95)...\n"
     ]
    },
    {
     "data": {
      "application/vnd.jupyter.widget-view+json": {
       "model_id": "6dbd0c8903ef41c58456bd8781ecf168",
       "version_major": 2,
       "version_minor": 0
      },
      "text/plain": [
       "  0%|          | 0/35 [00:00<?, ?it/s]"
      ]
     },
     "metadata": {},
     "output_type": "display_data"
    },
    {
     "name": "stdout",
     "output_type": "stream",
     "text": [
      "Saved side-by-side image to aged_images/75_1_0_20170110182459565_aged_95_side_by_side.jpg\n",
      "Processing 85_1_0_20170110155147409.jpg (age 85 to 105)...\n"
     ]
    },
    {
     "data": {
      "application/vnd.jupyter.widget-view+json": {
       "model_id": "38e6941745ff4752b14288a70a3fbc21",
       "version_major": 2,
       "version_minor": 0
      },
      "text/plain": [
       "  0%|          | 0/35 [00:00<?, ?it/s]"
      ]
     },
     "metadata": {},
     "output_type": "display_data"
    },
    {
     "name": "stdout",
     "output_type": "stream",
     "text": [
      "Saved side-by-side image to aged_images/85_1_0_20170110155147409_aged_105_side_by_side.jpg\n",
      "Processing 85_1_0_20170110183700308.jpg (age 85 to 105)...\n"
     ]
    },
    {
     "data": {
      "application/vnd.jupyter.widget-view+json": {
       "model_id": "e901a45138b34ee998ec7d1a2dde47d8",
       "version_major": 2,
       "version_minor": 0
      },
      "text/plain": [
       "  0%|          | 0/35 [00:00<?, ?it/s]"
      ]
     },
     "metadata": {},
     "output_type": "display_data"
    },
    {
     "name": "stdout",
     "output_type": "stream",
     "text": [
      "Saved side-by-side image to aged_images/85_1_0_20170110183700308_aged_105_side_by_side.jpg\n",
      "Processing 80_0_0_20170111211508161.jpg (age 80 to 100)...\n"
     ]
    },
    {
     "data": {
      "application/vnd.jupyter.widget-view+json": {
       "model_id": "310ffb74a18f4ed4907b8137cde53272",
       "version_major": 2,
       "version_minor": 0
      },
      "text/plain": [
       "  0%|          | 0/35 [00:00<?, ?it/s]"
      ]
     },
     "metadata": {},
     "output_type": "display_data"
    },
    {
     "name": "stdout",
     "output_type": "stream",
     "text": [
      "Saved side-by-side image to aged_images/80_0_0_20170111211508161_aged_100_side_by_side.jpg\n",
      "Processing 85_1_0_20170110183711497.jpg (age 85 to 105)...\n"
     ]
    },
    {
     "data": {
      "application/vnd.jupyter.widget-view+json": {
       "model_id": "801ad2777ed14c6183148fd750a71cc1",
       "version_major": 2,
       "version_minor": 0
      },
      "text/plain": [
       "  0%|          | 0/35 [00:00<?, ?it/s]"
      ]
     },
     "metadata": {},
     "output_type": "display_data"
    },
    {
     "name": "stdout",
     "output_type": "stream",
     "text": [
      "Saved side-by-side image to aged_images/85_1_0_20170110183711497_aged_105_side_by_side.jpg\n",
      "Processing 85_0_0_20170111205512345.jpg (age 85 to 105)...\n"
     ]
    },
    {
     "data": {
      "application/vnd.jupyter.widget-view+json": {
       "model_id": "65a0a0b20e244548822d856b04e47dd1",
       "version_major": 2,
       "version_minor": 0
      },
      "text/plain": [
       "  0%|          | 0/35 [00:00<?, ?it/s]"
      ]
     },
     "metadata": {},
     "output_type": "display_data"
    },
    {
     "name": "stdout",
     "output_type": "stream",
     "text": [
      "Saved side-by-side image to aged_images/85_0_0_20170111205512345_aged_105_side_by_side.jpg\n",
      "Processing 90_1_0_20170110182426286.jpg (age 90 to 110)...\n"
     ]
    },
    {
     "data": {
      "application/vnd.jupyter.widget-view+json": {
       "model_id": "a1c40e837133417d880608496b6a1baf",
       "version_major": 2,
       "version_minor": 0
      },
      "text/plain": [
       "  0%|          | 0/35 [00:00<?, ?it/s]"
      ]
     },
     "metadata": {},
     "output_type": "display_data"
    },
    {
     "name": "stdout",
     "output_type": "stream",
     "text": [
      "Saved side-by-side image to aged_images/90_1_0_20170110182426286_aged_110_side_by_side.jpg\n",
      "Processing 90_0_0_20170111205428761.jpg (age 90 to 110)...\n"
     ]
    },
    {
     "data": {
      "application/vnd.jupyter.widget-view+json": {
       "model_id": "7a71ded024654e81b786fb34557caa65",
       "version_major": 2,
       "version_minor": 0
      },
      "text/plain": [
       "  0%|          | 0/35 [00:00<?, ?it/s]"
      ]
     },
     "metadata": {},
     "output_type": "display_data"
    },
    {
     "name": "stdout",
     "output_type": "stream",
     "text": [
      "Saved side-by-side image to aged_images/90_0_0_20170111205428761_aged_110_side_by_side.jpg\n",
      "Processing 93_1_0_20170110141221528.jpg (age 93 to 113)...\n"
     ]
    },
    {
     "data": {
      "application/vnd.jupyter.widget-view+json": {
       "model_id": "8503328e876f4fe3bb5296a9a71734a6",
       "version_major": 2,
       "version_minor": 0
      },
      "text/plain": [
       "  0%|          | 0/35 [00:00<?, ?it/s]"
      ]
     },
     "metadata": {},
     "output_type": "display_data"
    },
    {
     "name": "stdout",
     "output_type": "stream",
     "text": [
      "Saved side-by-side image to aged_images/93_1_0_20170110141221528_aged_113_side_by_side.jpg\n",
      "Processing 90_0_0_20170111222149759.jpg (age 90 to 110)...\n"
     ]
    },
    {
     "data": {
      "application/vnd.jupyter.widget-view+json": {
       "model_id": "ec7c15253ec7439eb8b53bd0be1dc53f",
       "version_major": 2,
       "version_minor": 0
      },
      "text/plain": [
       "  0%|          | 0/35 [00:00<?, ?it/s]"
      ]
     },
     "metadata": {},
     "output_type": "display_data"
    },
    {
     "name": "stdout",
     "output_type": "stream",
     "text": [
      "Saved side-by-side image to aged_images/90_0_0_20170111222149759_aged_110_side_by_side.jpg\n",
      "Processing 90_0_0_20170111210338948.jpg (age 90 to 110)...\n"
     ]
    },
    {
     "data": {
      "application/vnd.jupyter.widget-view+json": {
       "model_id": "93c9137913094cdeb9cb924b957cc2fc",
       "version_major": 2,
       "version_minor": 0
      },
      "text/plain": [
       "  0%|          | 0/35 [00:00<?, ?it/s]"
      ]
     },
     "metadata": {},
     "output_type": "display_data"
    },
    {
     "name": "stdout",
     "output_type": "stream",
     "text": [
      "Saved side-by-side image to aged_images/90_0_0_20170111210338948_aged_110_side_by_side.jpg\n",
      "Processing 100_1_0_20170110183726390.jpg (age 100 to 120)...\n"
     ]
    },
    {
     "data": {
      "application/vnd.jupyter.widget-view+json": {
       "model_id": "ba8d83a2670541a5978033b85a1552c1",
       "version_major": 2,
       "version_minor": 0
      },
      "text/plain": [
       "  0%|          | 0/35 [00:00<?, ?it/s]"
      ]
     },
     "metadata": {},
     "output_type": "display_data"
    },
    {
     "name": "stdout",
     "output_type": "stream",
     "text": [
      "Saved side-by-side image to aged_images/100_1_0_20170110183726390_aged_120_side_by_side.jpg\n"
     ]
    }
   ],
   "source": [
    "from diffusers import StableDiffusionPipeline, StableDiffusionImg2ImgPipeline\n",
    "import torch\n",
    "from PIL import Image\n",
    "import os\n",
    "import kagglehub\n",
    "import pandas as pd\n",
    "\n",
    "def age_face(pipe_img2img, input_image_path, gender, target_age, strength=0.35, guidance_scale=7.5, device=\"cuda\"):\n",
    "    # Construct the prompt with identity preservation\n",
    "    gender_str = 'male' if gender == 'man' else 'female'\n",
    "    prompt = f\"portrait of the same {gender_str} at age {target_age}\"\n",
    "    negative_prompt = \"generic face, blurry, distorted, different person\"\n",
    "\n",
    "    # Load and preprocess the input image\n",
    "    init_image = Image.open(input_image_path).convert(\"RGB\")\n",
    "    init_image = init_image.resize((512, 512))\n",
    "\n",
    "    # Perform img2img transformation\n",
    "    with torch.autocast(device):\n",
    "        output_image = pipe_img2img(\n",
    "            prompt=prompt,\n",
    "            negative_prompt=negative_prompt,\n",
    "            image=init_image,\n",
    "            strength=strength,\n",
    "            guidance_scale=guidance_scale,\n",
    "            num_inference_steps=100\n",
    "        ).images[0]\n",
    "\n",
    "    return init_image, output_image  # Return both input and output for visualization\n",
    "\n",
    "def create_side_by_side_image(input_image, output_image, output_path):\n",
    "    # Ensure both images are the same size\n",
    "    input_image = input_image.resize((512, 512))\n",
    "    output_image = output_image.resize((512, 512))\n",
    "\n",
    "    # Create a new image with double the width to hold both images side by side\n",
    "    combined_image = Image.new('RGB', (1024, 512))  # 512+512 width, 512 height\n",
    "    combined_image.paste(input_image, (0, 0))  # Input on the left\n",
    "    combined_image.paste(output_image, (512, 0))  # Output on the right\n",
    "\n",
    "    # Save the combined image\n",
    "    combined_image.save(output_path)\n",
    "\n",
    "def process_csv_for_aging(csv_path, image_dir, output_dir, age_increase=30, device=\"cuda\"):\n",
    "    # Create output directory if it doesn't exist\n",
    "    os.makedirs(output_dir, exist_ok=True)\n",
    "\n",
    "    # Load and setup the pipeline once\n",
    "    lora_pipe = StableDiffusionPipeline.from_pretrained(\n",
    "        \"runwayml/stable-diffusion-v1-5\",\n",
    "        torch_dtype=torch.float16,\n",
    "        safety_checker=None,\n",
    "        requires_safety_checker=False\n",
    "    ).to(device)\n",
    "    lora_pipe.load_lora_weights(\n",
    "        \"/home/justin.aj/DFRL/new_method/utkface_lora_v1\",\n",
    "        weight_name=\"adapter_model.safetensors\",\n",
    "        local_files_only=True\n",
    "    )\n",
    "    lora_pipe.fuse_lora()\n",
    "    pipe_img2img = StableDiffusionImg2ImgPipeline(\n",
    "        vae=lora_pipe.vae,\n",
    "        text_encoder=lora_pipe.text_encoder,\n",
    "        tokenizer=lora_pipe.tokenizer,\n",
    "        unet=lora_pipe.unet,\n",
    "        scheduler=lora_pipe.scheduler,\n",
    "        safety_checker=None,\n",
    "        requires_safety_checker=False,\n",
    "        feature_extractor=None,\n",
    "        image_encoder=None\n",
    "    ).to(device)\n",
    "\n",
    "    # Load the CSV file\n",
    "    df = pd.read_csv(csv_path)\n",
    "\n",
    "    # Process each row in the CSV\n",
    "    for index, row in df.iterrows():\n",
    "        filename = row['filename']\n",
    "        gender = row['gender']\n",
    "        current_age = row['age']  # Get the current age from the CSV\n",
    "        input_image_path = os.path.join(image_dir, f\"{filename}.chip.jpg\")\n",
    "\n",
    "        # Compute the dynamic target age\n",
    "        target_age = current_age + age_increase  # Increase age by 20 years\n",
    "\n",
    "        # Check if the image exists\n",
    "        if not os.path.exists(input_image_path):\n",
    "            print(f\"Image not found: {input_image_path}, skipping...\")\n",
    "            continue\n",
    "\n",
    "        try:\n",
    "            print(f\"Processing {filename} (age {current_age} to {target_age})...\")\n",
    "            # Apply the aging transformation\n",
    "            input_image, aged_image = age_face(\n",
    "                pipe_img2img=pipe_img2img,\n",
    "                input_image_path=input_image_path,\n",
    "                gender=gender,\n",
    "                target_age=target_age\n",
    "            )\n",
    "\n",
    "            # Create side-by-side visualization\n",
    "            output_filename = os.path.splitext(filename)[0] + f\"_aged_{target_age}_side_by_side.jpg\"\n",
    "            output_path = os.path.join(output_dir, output_filename)\n",
    "            create_side_by_side_image(input_image, aged_image, output_path)\n",
    "            print(f\"Saved side-by-side image to {output_path}\")\n",
    "\n",
    "        except Exception as e:\n",
    "            print(f\"Error processing {filename}: {str(e)}\")\n",
    "            continue\n",
    "\n",
    "# Example usage\n",
    "csv_path = \"utk_train_balanced.csv\"\n",
    "dataset_path = kagglehub.dataset_download(\"jangedoo/utkface-new\")\n",
    "image_folder = os.path.join(dataset_path, \"utkface_aligned_cropped/crop_part1\")\n",
    "image_dir = image_folder\n",
    "output_dir = \"aged_images\"\n",
    "age_increase = 20  # Increase age by 20 years\n",
    "\n",
    "process_csv_for_aging(csv_path, image_dir, output_dir, age_increase=age_increase)"
   ]
  },
  {
   "cell_type": "code",
   "execution_count": 3,
   "id": "12fdc1ad-660b-4376-ad11-432eb53971fd",
   "metadata": {},
   "outputs": [
    {
     "name": "stderr",
     "output_type": "stream",
     "text": [
      "/home/justin.aj/.local/lib/python3.8/site-packages/albumentations/__init__.py:13: UserWarning: A new version of Albumentations is available: 2.0.5 (you have 1.4.18). Upgrade using: pip install -U albumentations. To disable automatic update checks, set the environment variable NO_ALBUMENTATIONS_UPDATE to 1.\n",
      "  check_for_updates()\n"
     ]
    },
    {
     "name": "stdout",
     "output_type": "stream",
     "text": [
      "download_path: /home/justin.aj/.insightface/models/buffalo_l\n",
      "Downloading /home/justin.aj/.insightface/models/buffalo_l.zip from https://github.com/deepinsight/insightface/releases/download/v0.7/buffalo_l.zip...\n"
     ]
    },
    {
     "name": "stderr",
     "output_type": "stream",
     "text": [
      "100%|██████████| 281857/281857 [00:03<00:00, 89515.27KB/s] \n"
     ]
    },
    {
     "name": "stdout",
     "output_type": "stream",
     "text": [
      "Applied providers: ['CPUExecutionProvider'], with options: {'CPUExecutionProvider': {}}\n",
      "find model: /home/justin.aj/.insightface/models/buffalo_l/1k3d68.onnx landmark_3d_68 ['None', 3, 192, 192] 0.0 1.0\n",
      "Applied providers: ['CPUExecutionProvider'], with options: {'CPUExecutionProvider': {}}\n",
      "find model: /home/justin.aj/.insightface/models/buffalo_l/2d106det.onnx landmark_2d_106 ['None', 3, 192, 192] 0.0 1.0\n",
      "Applied providers: ['CPUExecutionProvider'], with options: {'CPUExecutionProvider': {}}\n",
      "find model: /home/justin.aj/.insightface/models/buffalo_l/det_10g.onnx detection [1, 3, '?', '?'] 127.5 128.0\n",
      "Applied providers: ['CPUExecutionProvider'], with options: {'CPUExecutionProvider': {}}\n",
      "find model: /home/justin.aj/.insightface/models/buffalo_l/genderage.onnx genderage ['None', 3, 96, 96] 0.0 1.0\n",
      "Applied providers: ['CPUExecutionProvider'], with options: {'CPUExecutionProvider': {}}\n",
      "find model: /home/justin.aj/.insightface/models/buffalo_l/w600k_r50.onnx recognition ['None', 3, 112, 112] 127.5 127.5\n",
      "set det-size: (640, 640)\n",
      "Warning: Looks like you're using an outdated `kagglehub` version, please consider updating (latest version: 0.3.11)\n"
     ]
    },
    {
     "data": {
      "application/vnd.jupyter.widget-view+json": {
       "model_id": "c17cf4e0ad29498ea631e974721f8890",
       "version_major": 2,
       "version_minor": 0
      },
      "text/plain": [
       "Loading pipeline components...:   0%|          | 0/6 [00:00<?, ?it/s]"
      ]
     },
     "metadata": {},
     "output_type": "display_data"
    },
    {
     "ename": "RuntimeError",
     "evalue": "The NVIDIA driver on your system is too old (found version 11040). Please update your GPU driver by downloading and installing a new version from the URL: http://www.nvidia.com/Download/index.aspx Alternatively, go to: https://pytorch.org to install a PyTorch version that has been compiled with your version of the CUDA driver.",
     "output_type": "error",
     "traceback": [
      "\u001b[0;31m---------------------------------------------------------------------------\u001b[0m",
      "\u001b[0;31mRuntimeError\u001b[0m                              Traceback (most recent call last)",
      "\u001b[0;32m<ipython-input-3-ec0b29b2f267>\u001b[0m in \u001b[0;36m<module>\u001b[0;34m\u001b[0m\n\u001b[1;32m    149\u001b[0m     \u001b[0moutput_dir\u001b[0m \u001b[0;34m=\u001b[0m \u001b[0;34m\"aged_results\"\u001b[0m\u001b[0;34m\u001b[0m\u001b[0;34m\u001b[0m\u001b[0m\n\u001b[1;32m    150\u001b[0m \u001b[0;34m\u001b[0m\u001b[0m\n\u001b[0;32m--> 151\u001b[0;31m     process_csv_for_aging(\n\u001b[0m\u001b[1;32m    152\u001b[0m         \u001b[0mcsv_path\u001b[0m\u001b[0;34m=\u001b[0m\u001b[0mcsv_path\u001b[0m\u001b[0;34m,\u001b[0m\u001b[0;34m\u001b[0m\u001b[0;34m\u001b[0m\u001b[0m\n\u001b[1;32m    153\u001b[0m         \u001b[0mimage_dir\u001b[0m\u001b[0;34m=\u001b[0m\u001b[0mimage_dir\u001b[0m\u001b[0;34m,\u001b[0m\u001b[0;34m\u001b[0m\u001b[0;34m\u001b[0m\u001b[0m\n",
      "\u001b[0;32m<ipython-input-3-ec0b29b2f267>\u001b[0m in \u001b[0;36mprocess_csv_for_aging\u001b[0;34m(csv_path, image_dir, output_dir, age_increase, device)\u001b[0m\n\u001b[1;32m     62\u001b[0m \u001b[0;34m\u001b[0m\u001b[0m\n\u001b[1;32m     63\u001b[0m     \u001b[0;31m# Initialize model\u001b[0m\u001b[0;34m\u001b[0m\u001b[0;34m\u001b[0m\u001b[0;34m\u001b[0m\u001b[0m\n\u001b[0;32m---> 64\u001b[0;31m     lora_pipe = StableDiffusionPipeline.from_pretrained(\n\u001b[0m\u001b[1;32m     65\u001b[0m         \u001b[0;34m\"runwayml/stable-diffusion-v1-5\"\u001b[0m\u001b[0;34m,\u001b[0m\u001b[0;34m\u001b[0m\u001b[0;34m\u001b[0m\u001b[0m\n\u001b[1;32m     66\u001b[0m         \u001b[0mtorch_dtype\u001b[0m\u001b[0;34m=\u001b[0m\u001b[0mtorch\u001b[0m\u001b[0;34m.\u001b[0m\u001b[0mfloat16\u001b[0m\u001b[0;34m,\u001b[0m\u001b[0;34m\u001b[0m\u001b[0;34m\u001b[0m\u001b[0m\n",
      "\u001b[0;32m~/.local/lib/python3.8/site-packages/diffusers/pipelines/pipeline_utils.py\u001b[0m in \u001b[0;36mto\u001b[0;34m(self, *args, **kwargs)\u001b[0m\n\u001b[1;32m    480\u001b[0m                 \u001b[0mmodule\u001b[0m\u001b[0;34m.\u001b[0m\u001b[0mto\u001b[0m\u001b[0;34m(\u001b[0m\u001b[0mdevice\u001b[0m\u001b[0;34m=\u001b[0m\u001b[0mdevice\u001b[0m\u001b[0;34m)\u001b[0m\u001b[0;34m\u001b[0m\u001b[0;34m\u001b[0m\u001b[0m\n\u001b[1;32m    481\u001b[0m             \u001b[0;32melif\u001b[0m \u001b[0;32mnot\u001b[0m \u001b[0mis_loaded_in_4bit_bnb\u001b[0m \u001b[0;32mand\u001b[0m \u001b[0;32mnot\u001b[0m \u001b[0mis_loaded_in_8bit_bnb\u001b[0m \u001b[0;32mand\u001b[0m \u001b[0;32mnot\u001b[0m \u001b[0mis_group_offloaded\u001b[0m\u001b[0;34m:\u001b[0m\u001b[0;34m\u001b[0m\u001b[0;34m\u001b[0m\u001b[0m\n\u001b[0;32m--> 482\u001b[0;31m                 \u001b[0mmodule\u001b[0m\u001b[0;34m.\u001b[0m\u001b[0mto\u001b[0m\u001b[0;34m(\u001b[0m\u001b[0mdevice\u001b[0m\u001b[0;34m,\u001b[0m \u001b[0mdtype\u001b[0m\u001b[0;34m)\u001b[0m\u001b[0;34m\u001b[0m\u001b[0;34m\u001b[0m\u001b[0m\n\u001b[0m\u001b[1;32m    483\u001b[0m \u001b[0;34m\u001b[0m\u001b[0m\n\u001b[1;32m    484\u001b[0m             if (\n",
      "\u001b[0;32m~/.local/lib/python3.8/site-packages/transformers/modeling_utils.py\u001b[0m in \u001b[0;36mto\u001b[0;34m(self, *args, **kwargs)\u001b[0m\n\u001b[1;32m   3155\u001b[0m                     \u001b[0;34m\" `dtype` by passing the correct `torch_dtype` argument.\"\u001b[0m\u001b[0;34m\u001b[0m\u001b[0;34m\u001b[0m\u001b[0m\n\u001b[1;32m   3156\u001b[0m                 )\n\u001b[0;32m-> 3157\u001b[0;31m         \u001b[0;32mreturn\u001b[0m \u001b[0msuper\u001b[0m\u001b[0;34m(\u001b[0m\u001b[0;34m)\u001b[0m\u001b[0;34m.\u001b[0m\u001b[0mto\u001b[0m\u001b[0;34m(\u001b[0m\u001b[0;34m*\u001b[0m\u001b[0margs\u001b[0m\u001b[0;34m,\u001b[0m \u001b[0;34m**\u001b[0m\u001b[0mkwargs\u001b[0m\u001b[0;34m)\u001b[0m\u001b[0;34m\u001b[0m\u001b[0;34m\u001b[0m\u001b[0m\n\u001b[0m\u001b[1;32m   3158\u001b[0m \u001b[0;34m\u001b[0m\u001b[0m\n\u001b[1;32m   3159\u001b[0m     \u001b[0;32mdef\u001b[0m \u001b[0mhalf\u001b[0m\u001b[0;34m(\u001b[0m\u001b[0mself\u001b[0m\u001b[0;34m,\u001b[0m \u001b[0;34m*\u001b[0m\u001b[0margs\u001b[0m\u001b[0;34m)\u001b[0m\u001b[0;34m:\u001b[0m\u001b[0;34m\u001b[0m\u001b[0;34m\u001b[0m\u001b[0m\n",
      "\u001b[0;32m~/.local/lib/python3.8/site-packages/torch/nn/modules/module.py\u001b[0m in \u001b[0;36mto\u001b[0;34m(self, *args, **kwargs)\u001b[0m\n\u001b[1;32m   1172\u001b[0m                     \u001b[0;32mraise\u001b[0m\u001b[0;34m\u001b[0m\u001b[0;34m\u001b[0m\u001b[0m\n\u001b[1;32m   1173\u001b[0m \u001b[0;34m\u001b[0m\u001b[0m\n\u001b[0;32m-> 1174\u001b[0;31m         \u001b[0;32mreturn\u001b[0m \u001b[0mself\u001b[0m\u001b[0;34m.\u001b[0m\u001b[0m_apply\u001b[0m\u001b[0;34m(\u001b[0m\u001b[0mconvert\u001b[0m\u001b[0;34m)\u001b[0m\u001b[0;34m\u001b[0m\u001b[0;34m\u001b[0m\u001b[0m\n\u001b[0m\u001b[1;32m   1175\u001b[0m \u001b[0;34m\u001b[0m\u001b[0m\n\u001b[1;32m   1176\u001b[0m     def register_full_backward_pre_hook(\n",
      "\u001b[0;32m~/.local/lib/python3.8/site-packages/torch/nn/modules/module.py\u001b[0m in \u001b[0;36m_apply\u001b[0;34m(self, fn, recurse)\u001b[0m\n\u001b[1;32m    778\u001b[0m         \u001b[0;32mif\u001b[0m \u001b[0mrecurse\u001b[0m\u001b[0;34m:\u001b[0m\u001b[0;34m\u001b[0m\u001b[0;34m\u001b[0m\u001b[0m\n\u001b[1;32m    779\u001b[0m             \u001b[0;32mfor\u001b[0m \u001b[0mmodule\u001b[0m \u001b[0;32min\u001b[0m \u001b[0mself\u001b[0m\u001b[0;34m.\u001b[0m\u001b[0mchildren\u001b[0m\u001b[0;34m(\u001b[0m\u001b[0;34m)\u001b[0m\u001b[0;34m:\u001b[0m\u001b[0;34m\u001b[0m\u001b[0;34m\u001b[0m\u001b[0m\n\u001b[0;32m--> 780\u001b[0;31m                 \u001b[0mmodule\u001b[0m\u001b[0;34m.\u001b[0m\u001b[0m_apply\u001b[0m\u001b[0;34m(\u001b[0m\u001b[0mfn\u001b[0m\u001b[0;34m)\u001b[0m\u001b[0;34m\u001b[0m\u001b[0;34m\u001b[0m\u001b[0m\n\u001b[0m\u001b[1;32m    781\u001b[0m \u001b[0;34m\u001b[0m\u001b[0m\n\u001b[1;32m    782\u001b[0m         \u001b[0;32mdef\u001b[0m \u001b[0mcompute_should_use_set_data\u001b[0m\u001b[0;34m(\u001b[0m\u001b[0mtensor\u001b[0m\u001b[0;34m,\u001b[0m \u001b[0mtensor_applied\u001b[0m\u001b[0;34m)\u001b[0m\u001b[0;34m:\u001b[0m\u001b[0;34m\u001b[0m\u001b[0;34m\u001b[0m\u001b[0m\n",
      "\u001b[0;32m~/.local/lib/python3.8/site-packages/torch/nn/modules/module.py\u001b[0m in \u001b[0;36m_apply\u001b[0;34m(self, fn, recurse)\u001b[0m\n\u001b[1;32m    778\u001b[0m         \u001b[0;32mif\u001b[0m \u001b[0mrecurse\u001b[0m\u001b[0;34m:\u001b[0m\u001b[0;34m\u001b[0m\u001b[0;34m\u001b[0m\u001b[0m\n\u001b[1;32m    779\u001b[0m             \u001b[0;32mfor\u001b[0m \u001b[0mmodule\u001b[0m \u001b[0;32min\u001b[0m \u001b[0mself\u001b[0m\u001b[0;34m.\u001b[0m\u001b[0mchildren\u001b[0m\u001b[0;34m(\u001b[0m\u001b[0;34m)\u001b[0m\u001b[0;34m:\u001b[0m\u001b[0;34m\u001b[0m\u001b[0;34m\u001b[0m\u001b[0m\n\u001b[0;32m--> 780\u001b[0;31m                 \u001b[0mmodule\u001b[0m\u001b[0;34m.\u001b[0m\u001b[0m_apply\u001b[0m\u001b[0;34m(\u001b[0m\u001b[0mfn\u001b[0m\u001b[0;34m)\u001b[0m\u001b[0;34m\u001b[0m\u001b[0;34m\u001b[0m\u001b[0m\n\u001b[0m\u001b[1;32m    781\u001b[0m \u001b[0;34m\u001b[0m\u001b[0m\n\u001b[1;32m    782\u001b[0m         \u001b[0;32mdef\u001b[0m \u001b[0mcompute_should_use_set_data\u001b[0m\u001b[0;34m(\u001b[0m\u001b[0mtensor\u001b[0m\u001b[0;34m,\u001b[0m \u001b[0mtensor_applied\u001b[0m\u001b[0;34m)\u001b[0m\u001b[0;34m:\u001b[0m\u001b[0;34m\u001b[0m\u001b[0;34m\u001b[0m\u001b[0m\n",
      "\u001b[0;32m~/.local/lib/python3.8/site-packages/torch/nn/modules/module.py\u001b[0m in \u001b[0;36m_apply\u001b[0;34m(self, fn, recurse)\u001b[0m\n\u001b[1;32m    778\u001b[0m         \u001b[0;32mif\u001b[0m \u001b[0mrecurse\u001b[0m\u001b[0;34m:\u001b[0m\u001b[0;34m\u001b[0m\u001b[0;34m\u001b[0m\u001b[0m\n\u001b[1;32m    779\u001b[0m             \u001b[0;32mfor\u001b[0m \u001b[0mmodule\u001b[0m \u001b[0;32min\u001b[0m \u001b[0mself\u001b[0m\u001b[0;34m.\u001b[0m\u001b[0mchildren\u001b[0m\u001b[0;34m(\u001b[0m\u001b[0;34m)\u001b[0m\u001b[0;34m:\u001b[0m\u001b[0;34m\u001b[0m\u001b[0;34m\u001b[0m\u001b[0m\n\u001b[0;32m--> 780\u001b[0;31m                 \u001b[0mmodule\u001b[0m\u001b[0;34m.\u001b[0m\u001b[0m_apply\u001b[0m\u001b[0;34m(\u001b[0m\u001b[0mfn\u001b[0m\u001b[0;34m)\u001b[0m\u001b[0;34m\u001b[0m\u001b[0;34m\u001b[0m\u001b[0m\n\u001b[0m\u001b[1;32m    781\u001b[0m \u001b[0;34m\u001b[0m\u001b[0m\n\u001b[1;32m    782\u001b[0m         \u001b[0;32mdef\u001b[0m \u001b[0mcompute_should_use_set_data\u001b[0m\u001b[0;34m(\u001b[0m\u001b[0mtensor\u001b[0m\u001b[0;34m,\u001b[0m \u001b[0mtensor_applied\u001b[0m\u001b[0;34m)\u001b[0m\u001b[0;34m:\u001b[0m\u001b[0;34m\u001b[0m\u001b[0;34m\u001b[0m\u001b[0m\n",
      "\u001b[0;32m~/.local/lib/python3.8/site-packages/torch/nn/modules/module.py\u001b[0m in \u001b[0;36m_apply\u001b[0;34m(self, fn, recurse)\u001b[0m\n\u001b[1;32m    803\u001b[0m             \u001b[0;31m# `with torch.no_grad():`\u001b[0m\u001b[0;34m\u001b[0m\u001b[0;34m\u001b[0m\u001b[0;34m\u001b[0m\u001b[0m\n\u001b[1;32m    804\u001b[0m             \u001b[0;32mwith\u001b[0m \u001b[0mtorch\u001b[0m\u001b[0;34m.\u001b[0m\u001b[0mno_grad\u001b[0m\u001b[0;34m(\u001b[0m\u001b[0;34m)\u001b[0m\u001b[0;34m:\u001b[0m\u001b[0;34m\u001b[0m\u001b[0;34m\u001b[0m\u001b[0m\n\u001b[0;32m--> 805\u001b[0;31m                 \u001b[0mparam_applied\u001b[0m \u001b[0;34m=\u001b[0m \u001b[0mfn\u001b[0m\u001b[0;34m(\u001b[0m\u001b[0mparam\u001b[0m\u001b[0;34m)\u001b[0m\u001b[0;34m\u001b[0m\u001b[0;34m\u001b[0m\u001b[0m\n\u001b[0m\u001b[1;32m    806\u001b[0m             \u001b[0mp_should_use_set_data\u001b[0m \u001b[0;34m=\u001b[0m \u001b[0mcompute_should_use_set_data\u001b[0m\u001b[0;34m(\u001b[0m\u001b[0mparam\u001b[0m\u001b[0;34m,\u001b[0m \u001b[0mparam_applied\u001b[0m\u001b[0;34m)\u001b[0m\u001b[0;34m\u001b[0m\u001b[0;34m\u001b[0m\u001b[0m\n\u001b[1;32m    807\u001b[0m \u001b[0;34m\u001b[0m\u001b[0m\n",
      "\u001b[0;32m~/.local/lib/python3.8/site-packages/torch/nn/modules/module.py\u001b[0m in \u001b[0;36mconvert\u001b[0;34m(t)\u001b[0m\n\u001b[1;32m   1158\u001b[0m                         \u001b[0mmemory_format\u001b[0m\u001b[0;34m=\u001b[0m\u001b[0mconvert_to_format\u001b[0m\u001b[0;34m,\u001b[0m\u001b[0;34m\u001b[0m\u001b[0;34m\u001b[0m\u001b[0m\n\u001b[1;32m   1159\u001b[0m                     )\n\u001b[0;32m-> 1160\u001b[0;31m                 return t.to(\n\u001b[0m\u001b[1;32m   1161\u001b[0m                     \u001b[0mdevice\u001b[0m\u001b[0;34m,\u001b[0m\u001b[0;34m\u001b[0m\u001b[0;34m\u001b[0m\u001b[0m\n\u001b[1;32m   1162\u001b[0m                     \u001b[0mdtype\u001b[0m \u001b[0;32mif\u001b[0m \u001b[0mt\u001b[0m\u001b[0;34m.\u001b[0m\u001b[0mis_floating_point\u001b[0m\u001b[0;34m(\u001b[0m\u001b[0;34m)\u001b[0m \u001b[0;32mor\u001b[0m \u001b[0mt\u001b[0m\u001b[0;34m.\u001b[0m\u001b[0mis_complex\u001b[0m\u001b[0;34m(\u001b[0m\u001b[0;34m)\u001b[0m \u001b[0;32melse\u001b[0m \u001b[0;32mNone\u001b[0m\u001b[0;34m,\u001b[0m\u001b[0;34m\u001b[0m\u001b[0;34m\u001b[0m\u001b[0m\n",
      "\u001b[0;32m~/.local/lib/python3.8/site-packages/torch/cuda/__init__.py\u001b[0m in \u001b[0;36m_lazy_init\u001b[0;34m()\u001b[0m\n\u001b[1;32m    312\u001b[0m         \u001b[0;32mif\u001b[0m \u001b[0;34m\"CUDA_MODULE_LOADING\"\u001b[0m \u001b[0;32mnot\u001b[0m \u001b[0;32min\u001b[0m \u001b[0mos\u001b[0m\u001b[0;34m.\u001b[0m\u001b[0menviron\u001b[0m\u001b[0;34m:\u001b[0m\u001b[0;34m\u001b[0m\u001b[0;34m\u001b[0m\u001b[0m\n\u001b[1;32m    313\u001b[0m             \u001b[0mos\u001b[0m\u001b[0;34m.\u001b[0m\u001b[0menviron\u001b[0m\u001b[0;34m[\u001b[0m\u001b[0;34m\"CUDA_MODULE_LOADING\"\u001b[0m\u001b[0;34m]\u001b[0m \u001b[0;34m=\u001b[0m \u001b[0;34m\"LAZY\"\u001b[0m\u001b[0;34m\u001b[0m\u001b[0;34m\u001b[0m\u001b[0m\n\u001b[0;32m--> 314\u001b[0;31m         \u001b[0mtorch\u001b[0m\u001b[0;34m.\u001b[0m\u001b[0m_C\u001b[0m\u001b[0;34m.\u001b[0m\u001b[0m_cuda_init\u001b[0m\u001b[0;34m(\u001b[0m\u001b[0;34m)\u001b[0m\u001b[0;34m\u001b[0m\u001b[0;34m\u001b[0m\u001b[0m\n\u001b[0m\u001b[1;32m    315\u001b[0m         \u001b[0;31m# Some of the queued calls may reentrantly call _lazy_init();\u001b[0m\u001b[0;34m\u001b[0m\u001b[0;34m\u001b[0m\u001b[0;34m\u001b[0m\u001b[0m\n\u001b[1;32m    316\u001b[0m         \u001b[0;31m# we need to just return without initializing in that case.\u001b[0m\u001b[0;34m\u001b[0m\u001b[0;34m\u001b[0m\u001b[0;34m\u001b[0m\u001b[0m\n",
      "\u001b[0;31mRuntimeError\u001b[0m: The NVIDIA driver on your system is too old (found version 11040). Please update your GPU driver by downloading and installing a new version from the URL: http://www.nvidia.com/Download/index.aspx Alternatively, go to: https://pytorch.org to install a PyTorch version that has been compiled with your version of the CUDA driver."
     ]
    }
   ],
   "source": [
    "from diffusers import StableDiffusionPipeline, StableDiffusionImg2ImgPipeline\n",
    "import torch\n",
    "from PIL import Image\n",
    "import os\n",
    "import kagglehub\n",
    "import pandas as pd\n",
    "import numpy as np\n",
    "from insightface.app import FaceAnalysis\n",
    "\n",
    "# Initialize FaceAnalysis once\n",
    "app = FaceAnalysis(name='buffalo_l', providers=['CPUExecutionProvider'])\n",
    "app.prepare(ctx_id=0)\n",
    "\n",
    "def age_face(pipe_img2img, input_image_path, gender, target_age, strength=0.35, guidance_scale=7.5, device=\"cuda\"):\n",
    "    \"\"\"Generate aged version of face with identity preservation\"\"\"\n",
    "    gender_str = 'male' if gender == 'man' else 'female'\n",
    "    prompt = f\"portrait of the same {gender_str} at age {target_age}\"\n",
    "    negative_prompt = \"blurry, low quality, distorted, extra eyes, extra teeth, glasses\"\n",
    "\n",
    "    init_image = Image.open(input_image_path).convert(\"RGB\").resize((512, 512))\n",
    "    \n",
    "    with torch.autocast(device):\n",
    "        output_image = pipe_img2img(\n",
    "            prompt=prompt,\n",
    "            negative_prompt=negative_prompt,\n",
    "            image=init_image,\n",
    "            strength=strength,\n",
    "            guidance_scale=guidance_scale,\n",
    "            num_inference_steps=100\n",
    "        ).images[0]\n",
    "\n",
    "    return init_image, output_image\n",
    "\n",
    "def analyze_face(image_path, app):\n",
    "    \"\"\"Analyze face using InsightFace\"\"\"\n",
    "    img = Image.open(image_path).convert(\"RGB\")\n",
    "    faces = app.get(np.array(img))\n",
    "    return faces[0] if faces else None\n",
    "\n",
    "def evaluate_pair(original_path, aged_path, target_age, app):\n",
    "    \"\"\"Evaluate age accuracy, gender preservation, and identity similarity\"\"\"\n",
    "    try:\n",
    "        orig_face = analyze_face(original_path, app)\n",
    "        aged_face = analyze_face(aged_path, app)\n",
    "        \n",
    "        if not orig_face or not aged_face:\n",
    "            return None\n",
    "            \n",
    "        return {\n",
    "            'age_error': abs(aged_face['age'] - target_age),\n",
    "            'gender_match': int(orig_face['gender'] == aged_face['gender']),\n",
    "            'identity_similarity': np.dot(orig_face['embedding'], aged_face['embedding']) / \n",
    "                                  (np.linalg.norm(orig_face['embedding']) * np.linalg.norm(aged_face['embedding']))\n",
    "        }\n",
    "    except Exception as e:\n",
    "        print(f\"Evaluation error: {str(e)}\")\n",
    "        return None\n",
    "\n",
    "def process_csv_for_aging(csv_path, image_dir, output_dir, age_increase=30, device=\"cuda\"):\n",
    "    \"\"\"Main processing function with integrated evaluation\"\"\"\n",
    "    os.makedirs(output_dir, exist_ok=True)\n",
    "    \n",
    "    # Initialize model\n",
    "    lora_pipe = StableDiffusionPipeline.from_pretrained(\n",
    "        \"runwayml/stable-diffusion-v1-5\",\n",
    "        torch_dtype=torch.float16,\n",
    "        safety_checker=None,\n",
    "        requires_safety_checker=False\n",
    "    ).to(device)\n",
    "    lora_pipe.load_lora_weights(\n",
    "        \"/home/justin.aj/DFRL/new_method/utkface_lora_v1\",\n",
    "        weight_name=\"adapter_model.safetensors\",\n",
    "        local_files_only=True\n",
    "    )\n",
    "    lora_pipe.fuse_lora()\n",
    "    \n",
    "    pipe_img2img = StableDiffusionImg2ImgPipeline(\n",
    "        vae=lora_pipe.vae,\n",
    "        text_encoder=lora_pipe.text_encoder,\n",
    "        tokenizer=lora_pipe.tokenizer,\n",
    "        unet=lora_pipe.unet,\n",
    "        scheduler=lora_pipe.scheduler,\n",
    "        safety_checker=None\n",
    "    ).to(device)\n",
    "\n",
    "    # Metrics tracking\n",
    "    metrics = {\n",
    "        'age_errors': [],\n",
    "        'gender_matches': [],\n",
    "        'identity_scores': [],\n",
    "        'processed_count': 0,\n",
    "        'total_count': 0\n",
    "    }\n",
    "\n",
    "    df = pd.read_csv(csv_path)\n",
    "    \n",
    "    for index, row in df.iterrows():\n",
    "        metrics['total_count'] += 1\n",
    "        filename = row['filename']\n",
    "        input_path = os.path.join(image_dir, f\"{filename}.chip.jpg\")\n",
    "        \n",
    "        if not os.path.exists(input_path):\n",
    "            continue\n",
    "            \n",
    "        try:\n",
    "            # Generate aged image\n",
    "            input_img, aged_img = age_face(\n",
    "                pipe_img2img=pipe_img2img,\n",
    "                input_image_path=input_path,\n",
    "                gender=row['gender'],\n",
    "                target_age=row['age'] + age_increase\n",
    "            )\n",
    "            \n",
    "            # Save outputs\n",
    "            aged_path = os.path.join(output_dir, f\"{filename}_aged.jpg\")\n",
    "            aged_img.save(aged_path)\n",
    "            \n",
    "            # Evaluate\n",
    "            result = evaluate_pair(input_path, aged_path, row['age'] + age_increase, app)\n",
    "            if result:\n",
    "                metrics['age_errors'].append(result['age_error'])\n",
    "                metrics['gender_matches'].append(result['gender_match'])\n",
    "                metrics['identity_scores'].append(result['identity_similarity'])\n",
    "                metrics['processed_count'] += 1\n",
    "                \n",
    "        except Exception as e:\n",
    "            print(f\"Error processing {filename}: {str(e)}\")\n",
    "    \n",
    "    # Calculate final metrics\n",
    "    detection_rate = metrics['processed_count'] / metrics['total_count'] * 100\n",
    "    mae = np.mean(metrics['age_errors']) if metrics['age_errors'] else 0\n",
    "    gender_acc = np.mean(metrics['gender_matches']) * 100 if metrics['gender_matches'] else 0\n",
    "    identity_sim = np.mean(metrics['identity_scores']) if metrics['identity_scores'] else 0\n",
    "    \n",
    "    print(\"\\nFinal Evaluation Results:\")\n",
    "    print(f\"Detection Rate: {detection_rate:.1f}%\")\n",
    "    print(f\"MAE: {mae:.2f} years\")\n",
    "    print(f\"Gender Accuracy: {gender_acc:.1f}%\")\n",
    "    print(f\"Identity Similarity: {identity_sim:.3f}\")\n",
    "    \n",
    "    return metrics\n",
    "\n",
    "# Example usage\n",
    "if __name__ == \"__main__\":\n",
    "    csv_path = \"utk_train_balanced.csv\"\n",
    "    dataset_path = kagglehub.dataset_download(\"jangedoo/utkface-new\")\n",
    "    image_folder = os.path.join(dataset_path, \"utkface_aligned_cropped/crop_part1\")\n",
    "    image_dir = image_folder\n",
    "    output_dir = \"aged_results\"\n",
    "    \n",
    "    process_csv_for_aging(\n",
    "        csv_path=csv_path,\n",
    "        image_dir=image_dir,\n",
    "        output_dir=output_dir,\n",
    "        age_increase=20\n",
    "    )"
   ]
  },
  {
   "cell_type": "code",
   "execution_count": 2,
   "id": "6edb4063-1ecc-427f-88ad-d0d6724d7538",
   "metadata": {},
   "outputs": [
    {
     "name": "stdout",
     "output_type": "stream",
     "text": [
      "Defaulting to user installation because normal site-packages is not writeable\n",
      "Collecting onnxruntime\n",
      "  Downloading onnxruntime-1.16.3-cp38-cp38-manylinux_2_17_x86_64.manylinux2014_x86_64.whl (6.4 MB)\n",
      "\u001b[K     |████████████████████████████████| 6.4 MB 4.3 MB/s eta 0:00:01\n",
      "\u001b[?25hRequirement already satisfied: protobuf in /home/justin.aj/.local/lib/python3.8/site-packages (from onnxruntime) (5.29.4)\n",
      "Collecting coloredlogs\n",
      "  Downloading coloredlogs-15.0.1-py2.py3-none-any.whl (46 kB)\n",
      "\u001b[K     |████████████████████████████████| 46 kB 144 kB/s  eta 0:00:01\n",
      "\u001b[?25hCollecting flatbuffers\n",
      "  Downloading flatbuffers-25.2.10-py2.py3-none-any.whl (30 kB)\n",
      "Requirement already satisfied: packaging in /home/justin.aj/.local/lib/python3.8/site-packages (from onnxruntime) (25.0)\n",
      "Requirement already satisfied: sympy in /shared/centos7/anaconda3/2021.05/lib/python3.8/site-packages (from onnxruntime) (1.8)\n",
      "Requirement already satisfied: numpy>=1.21.6 in /home/justin.aj/.local/lib/python3.8/site-packages (from onnxruntime) (1.24.4)\n",
      "Collecting humanfriendly>=9.1\n",
      "  Downloading humanfriendly-10.0-py2.py3-none-any.whl (86 kB)\n",
      "\u001b[K     |████████████████████████████████| 86 kB 265 kB/s  eta 0:00:01\n",
      "\u001b[?25hRequirement already satisfied: mpmath>=0.19 in /shared/centos7/anaconda3/2021.05/lib/python3.8/site-packages (from sympy->onnxruntime) (1.2.1)\n",
      "Installing collected packages: humanfriendly, flatbuffers, coloredlogs, onnxruntime\n",
      "Successfully installed coloredlogs-15.0.1 flatbuffers-25.2.10 humanfriendly-10.0 onnxruntime-1.16.3\n"
     ]
    }
   ],
   "source": [
    "!pip install onnxruntime"
   ]
  },
  {
   "cell_type": "code",
   "execution_count": null,
   "id": "4f20ec75-bce3-484e-95d9-80ad29778495",
   "metadata": {},
   "outputs": [],
   "source": [
    " "
   ]
  }
 ],
 "metadata": {
  "kernelspec": {
   "display_name": "Python 3",
   "language": "python",
   "name": "python3"
  },
  "language_info": {
   "codemirror_mode": {
    "name": "ipython",
    "version": 3
   },
   "file_extension": ".py",
   "mimetype": "text/x-python",
   "name": "python",
   "nbconvert_exporter": "python",
   "pygments_lexer": "ipython3",
   "version": "3.8.8"
  }
 },
 "nbformat": 4,
 "nbformat_minor": 5
}
