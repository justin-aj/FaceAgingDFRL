{
 "cells": [
  {
   "cell_type": "code",
   "id": "initial_id",
   "metadata": {
    "collapsed": true,
    "ExecuteTime": {
     "end_time": "2025-04-10T02:47:17.188719Z",
     "start_time": "2025-04-10T02:47:16.878689Z"
    }
   },
   "source": [
    "import os\n",
    "import pandas as pd\n",
    "from datetime import datetime\n",
    "\n",
    "# Path to the folder containing the images\n",
    "folder_path = r'C:\\Users\\ajinf\\Documents\\CS 7150\\FaceAgingDFRL\\images\\utkface_aligned_cropped\\images'\n",
    "\n",
    "# Prepare list to hold the parsed data\n",
    "data = []\n",
    "\n",
    "# Loop through each image file\n",
    "for filename in os.listdir(folder_path):\n",
    "    if filename.endswith('.jpg.chip.jpg'):\n",
    "        try:\n",
    "            # Remove the double extension\n",
    "            base_name = filename.replace('.jpg.chip.jpg', '')\n",
    "            age, gender, race, datetime_str = base_name.split('_')\n",
    "\n",
    "            # Append parsed values\n",
    "            data.append({\n",
    "                'age': int(age),\n",
    "                'gender': int(gender),\n",
    "                'race': int(race),\n",
    "                'datetime_collected': datetime.strptime(datetime_str, \"%Y%m%d%H%M%S%f\"),  # or keep as string if needed\n",
    "                'filename': filename  # optional: include the filename\n",
    "            })\n",
    "        except Exception as e:\n",
    "            print(f\"Skipping {filename} due to error: {e}\")\n",
    "\n",
    "# Convert to DataFrame\n",
    "df = pd.DataFrame(data)\n",
    "\n",
    "# Preview the DataFrame\n",
    "# Save to CSV (optional)\n",
    "# df.to_csv('face_data.csv', index=False)\n"
   ],
   "outputs": [
    {
     "name": "stdout",
     "output_type": "stream",
     "text": [
      "Skipping 24_0_1_20170116220224657 .jpg.chip.jpg due to error: unconverted data remains:  \n",
      "Skipping 39_1_20170116174525125.jpg.chip.jpg due to error: not enough values to unpack (expected 4, got 3)\n",
      "Skipping 61_1_20170109142408075.jpg.chip.jpg due to error: not enough values to unpack (expected 4, got 3)\n",
      "Skipping 61_1_20170109150557335.jpg.chip.jpg due to error: not enough values to unpack (expected 4, got 3)\n",
      "Skipping 61_3_20170109150557335.jpg.chip.jpg due to error: not enough values to unpack (expected 4, got 3)\n"
     ]
    }
   ],
   "execution_count": 18
  },
  {
   "metadata": {
    "ExecuteTime": {
     "end_time": "2025-04-10T02:48:24.009839Z",
     "start_time": "2025-04-10T02:48:23.991716Z"
    }
   },
   "cell_type": "code",
   "source": "df[df['race'] == 3].to_csv(\"indian.csv\")",
   "id": "5931417384c45193",
   "outputs": [],
   "execution_count": 22
  },
  {
   "metadata": {
    "ExecuteTime": {
     "end_time": "2025-04-10T02:59:49.228673Z",
     "start_time": "2025-04-10T02:59:47.058105Z"
    }
   },
   "cell_type": "code",
   "source": [
    "import os\n",
    "import shutil\n",
    "import pandas as pd\n",
    "\n",
    "indian_df = df[df['race'] == 3]\n",
    "\n",
    "source_folder = r\"C:\\Users\\ajinf\\Documents\\CS 7150\\FaceAgingDFRL\\images\\utkface_aligned_cropped\\images\"\n",
    "destination_folder = r\"C:\\Users\\ajinf\\Documents\\CS 7150\\FaceAgingDFRL\\image_dataset\\indian_images\"\n",
    "\n",
    "# Iterate over the filtered DataFrame\n",
    "for index, row in indian_df.iterrows():\n",
    "    filename = row['filename']\n",
    "    src_path = os.path.join(source_folder, filename)\n",
    "    dst_path = os.path.join(destination_folder, filename)\n",
    "    \n",
    "    # Check if the file exists before moving\n",
    "    if os.path.exists(src_path):\n",
    "        shutil.move(src_path, dst_path)\n",
    "    else:\n",
    "        print(f\"File not found: {src_path}\")\n",
    "\n",
    "print(\"File transfer complete.\")"
   ],
   "id": "cd4f51512acc001c",
   "outputs": [
    {
     "name": "stdout",
     "output_type": "stream",
     "text": [
      "File transfer complete.\n"
     ]
    }
   ],
   "execution_count": 23
  },
  {
   "metadata": {},
   "cell_type": "code",
   "outputs": [],
   "execution_count": null,
   "source": "",
   "id": "c3c7c1bd2963dac7"
  }
 ],
 "metadata": {
  "kernelspec": {
   "display_name": "Python 3",
   "language": "python",
   "name": "python3"
  },
  "language_info": {
   "codemirror_mode": {
    "name": "ipython",
    "version": 2
   },
   "file_extension": ".py",
   "mimetype": "text/x-python",
   "name": "python",
   "nbconvert_exporter": "python",
   "pygments_lexer": "ipython2",
   "version": "2.7.6"
  }
 },
 "nbformat": 4,
 "nbformat_minor": 5
}
